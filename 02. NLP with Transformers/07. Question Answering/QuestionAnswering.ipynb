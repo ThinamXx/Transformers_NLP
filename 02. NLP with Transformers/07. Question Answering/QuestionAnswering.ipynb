{
  "nbformat": 4,
  "nbformat_minor": 0,
  "metadata": {
    "colab": {
      "name": "QuestionAnswering.ipynb",
      "provenance": []
    },
    "kernelspec": {
      "name": "python3",
      "display_name": "Python 3"
    },
    "language_info": {
      "name": "python"
    },
    "accelerator": "GPU",
    "widgets": {
      "application/vnd.jupyter.widget-state+json": {
        "3e340b5bd64e465eb7eb934bf061949b": {
          "model_module": "@jupyter-widgets/controls",
          "model_name": "HBoxModel",
          "model_module_version": "1.5.0",
          "state": {
            "_dom_classes": [],
            "_model_module": "@jupyter-widgets/controls",
            "_model_module_version": "1.5.0",
            "_model_name": "HBoxModel",
            "_view_count": null,
            "_view_module": "@jupyter-widgets/controls",
            "_view_module_version": "1.5.0",
            "_view_name": "HBoxView",
            "box_style": "",
            "children": [
              "IPY_MODEL_40263937f3914a0eace2540559b8497b",
              "IPY_MODEL_e1c3a5de04fc4c28ad829c336360dd29",
              "IPY_MODEL_459d8a78aacb4e10844ab743793ea3e8"
            ],
            "layout": "IPY_MODEL_662bdbf574714b53ba210be160538d88"
          }
        },
        "40263937f3914a0eace2540559b8497b": {
          "model_module": "@jupyter-widgets/controls",
          "model_name": "HTMLModel",
          "model_module_version": "1.5.0",
          "state": {
            "_dom_classes": [],
            "_model_module": "@jupyter-widgets/controls",
            "_model_module_version": "1.5.0",
            "_model_name": "HTMLModel",
            "_view_count": null,
            "_view_module": "@jupyter-widgets/controls",
            "_view_module_version": "1.5.0",
            "_view_name": "HTMLView",
            "description": "",
            "description_tooltip": null,
            "layout": "IPY_MODEL_2e65dae3b2f4452eb092c1ad4afecfbe",
            "placeholder": "​",
            "style": "IPY_MODEL_211460c9fea341ac8434962df6d813a3",
            "value": "100%"
          }
        },
        "e1c3a5de04fc4c28ad829c336360dd29": {
          "model_module": "@jupyter-widgets/controls",
          "model_name": "FloatProgressModel",
          "model_module_version": "1.5.0",
          "state": {
            "_dom_classes": [],
            "_model_module": "@jupyter-widgets/controls",
            "_model_module_version": "1.5.0",
            "_model_name": "FloatProgressModel",
            "_view_count": null,
            "_view_module": "@jupyter-widgets/controls",
            "_view_module_version": "1.5.0",
            "_view_name": "ProgressView",
            "bar_style": "success",
            "description": "",
            "description_tooltip": null,
            "layout": "IPY_MODEL_53c1f410c05342948b8cd1129a5504e2",
            "max": 3,
            "min": 0,
            "orientation": "horizontal",
            "style": "IPY_MODEL_b100cd5f1c9540068ce3b600d285cdd3",
            "value": 3
          }
        },
        "459d8a78aacb4e10844ab743793ea3e8": {
          "model_module": "@jupyter-widgets/controls",
          "model_name": "HTMLModel",
          "model_module_version": "1.5.0",
          "state": {
            "_dom_classes": [],
            "_model_module": "@jupyter-widgets/controls",
            "_model_module_version": "1.5.0",
            "_model_name": "HTMLModel",
            "_view_count": null,
            "_view_module": "@jupyter-widgets/controls",
            "_view_module_version": "1.5.0",
            "_view_name": "HTMLView",
            "description": "",
            "description_tooltip": null,
            "layout": "IPY_MODEL_073e23843eb64db8a7ec3ba3545ca732",
            "placeholder": "​",
            "style": "IPY_MODEL_83a2fabf19794914b4e60e586df5ad66",
            "value": " 3/3 [00:00&lt;00:00, 62.30it/s]"
          }
        },
        "662bdbf574714b53ba210be160538d88": {
          "model_module": "@jupyter-widgets/base",
          "model_name": "LayoutModel",
          "model_module_version": "1.2.0",
          "state": {
            "_model_module": "@jupyter-widgets/base",
            "_model_module_version": "1.2.0",
            "_model_name": "LayoutModel",
            "_view_count": null,
            "_view_module": "@jupyter-widgets/base",
            "_view_module_version": "1.2.0",
            "_view_name": "LayoutView",
            "align_content": null,
            "align_items": null,
            "align_self": null,
            "border": null,
            "bottom": null,
            "display": null,
            "flex": null,
            "flex_flow": null,
            "grid_area": null,
            "grid_auto_columns": null,
            "grid_auto_flow": null,
            "grid_auto_rows": null,
            "grid_column": null,
            "grid_gap": null,
            "grid_row": null,
            "grid_template_areas": null,
            "grid_template_columns": null,
            "grid_template_rows": null,
            "height": null,
            "justify_content": null,
            "justify_items": null,
            "left": null,
            "margin": null,
            "max_height": null,
            "max_width": null,
            "min_height": null,
            "min_width": null,
            "object_fit": null,
            "object_position": null,
            "order": null,
            "overflow": null,
            "overflow_x": null,
            "overflow_y": null,
            "padding": null,
            "right": null,
            "top": null,
            "visibility": null,
            "width": null
          }
        },
        "2e65dae3b2f4452eb092c1ad4afecfbe": {
          "model_module": "@jupyter-widgets/base",
          "model_name": "LayoutModel",
          "model_module_version": "1.2.0",
          "state": {
            "_model_module": "@jupyter-widgets/base",
            "_model_module_version": "1.2.0",
            "_model_name": "LayoutModel",
            "_view_count": null,
            "_view_module": "@jupyter-widgets/base",
            "_view_module_version": "1.2.0",
            "_view_name": "LayoutView",
            "align_content": null,
            "align_items": null,
            "align_self": null,
            "border": null,
            "bottom": null,
            "display": null,
            "flex": null,
            "flex_flow": null,
            "grid_area": null,
            "grid_auto_columns": null,
            "grid_auto_flow": null,
            "grid_auto_rows": null,
            "grid_column": null,
            "grid_gap": null,
            "grid_row": null,
            "grid_template_areas": null,
            "grid_template_columns": null,
            "grid_template_rows": null,
            "height": null,
            "justify_content": null,
            "justify_items": null,
            "left": null,
            "margin": null,
            "max_height": null,
            "max_width": null,
            "min_height": null,
            "min_width": null,
            "object_fit": null,
            "object_position": null,
            "order": null,
            "overflow": null,
            "overflow_x": null,
            "overflow_y": null,
            "padding": null,
            "right": null,
            "top": null,
            "visibility": null,
            "width": null
          }
        },
        "211460c9fea341ac8434962df6d813a3": {
          "model_module": "@jupyter-widgets/controls",
          "model_name": "DescriptionStyleModel",
          "model_module_version": "1.5.0",
          "state": {
            "_model_module": "@jupyter-widgets/controls",
            "_model_module_version": "1.5.0",
            "_model_name": "DescriptionStyleModel",
            "_view_count": null,
            "_view_module": "@jupyter-widgets/base",
            "_view_module_version": "1.2.0",
            "_view_name": "StyleView",
            "description_width": ""
          }
        },
        "53c1f410c05342948b8cd1129a5504e2": {
          "model_module": "@jupyter-widgets/base",
          "model_name": "LayoutModel",
          "model_module_version": "1.2.0",
          "state": {
            "_model_module": "@jupyter-widgets/base",
            "_model_module_version": "1.2.0",
            "_model_name": "LayoutModel",
            "_view_count": null,
            "_view_module": "@jupyter-widgets/base",
            "_view_module_version": "1.2.0",
            "_view_name": "LayoutView",
            "align_content": null,
            "align_items": null,
            "align_self": null,
            "border": null,
            "bottom": null,
            "display": null,
            "flex": null,
            "flex_flow": null,
            "grid_area": null,
            "grid_auto_columns": null,
            "grid_auto_flow": null,
            "grid_auto_rows": null,
            "grid_column": null,
            "grid_gap": null,
            "grid_row": null,
            "grid_template_areas": null,
            "grid_template_columns": null,
            "grid_template_rows": null,
            "height": null,
            "justify_content": null,
            "justify_items": null,
            "left": null,
            "margin": null,
            "max_height": null,
            "max_width": null,
            "min_height": null,
            "min_width": null,
            "object_fit": null,
            "object_position": null,
            "order": null,
            "overflow": null,
            "overflow_x": null,
            "overflow_y": null,
            "padding": null,
            "right": null,
            "top": null,
            "visibility": null,
            "width": null
          }
        },
        "b100cd5f1c9540068ce3b600d285cdd3": {
          "model_module": "@jupyter-widgets/controls",
          "model_name": "ProgressStyleModel",
          "model_module_version": "1.5.0",
          "state": {
            "_model_module": "@jupyter-widgets/controls",
            "_model_module_version": "1.5.0",
            "_model_name": "ProgressStyleModel",
            "_view_count": null,
            "_view_module": "@jupyter-widgets/base",
            "_view_module_version": "1.2.0",
            "_view_name": "StyleView",
            "bar_color": null,
            "description_width": ""
          }
        },
        "073e23843eb64db8a7ec3ba3545ca732": {
          "model_module": "@jupyter-widgets/base",
          "model_name": "LayoutModel",
          "model_module_version": "1.2.0",
          "state": {
            "_model_module": "@jupyter-widgets/base",
            "_model_module_version": "1.2.0",
            "_model_name": "LayoutModel",
            "_view_count": null,
            "_view_module": "@jupyter-widgets/base",
            "_view_module_version": "1.2.0",
            "_view_name": "LayoutView",
            "align_content": null,
            "align_items": null,
            "align_self": null,
            "border": null,
            "bottom": null,
            "display": null,
            "flex": null,
            "flex_flow": null,
            "grid_area": null,
            "grid_auto_columns": null,
            "grid_auto_flow": null,
            "grid_auto_rows": null,
            "grid_column": null,
            "grid_gap": null,
            "grid_row": null,
            "grid_template_areas": null,
            "grid_template_columns": null,
            "grid_template_rows": null,
            "height": null,
            "justify_content": null,
            "justify_items": null,
            "left": null,
            "margin": null,
            "max_height": null,
            "max_width": null,
            "min_height": null,
            "min_width": null,
            "object_fit": null,
            "object_position": null,
            "order": null,
            "overflow": null,
            "overflow_x": null,
            "overflow_y": null,
            "padding": null,
            "right": null,
            "top": null,
            "visibility": null,
            "width": null
          }
        },
        "83a2fabf19794914b4e60e586df5ad66": {
          "model_module": "@jupyter-widgets/controls",
          "model_name": "DescriptionStyleModel",
          "model_module_version": "1.5.0",
          "state": {
            "_model_module": "@jupyter-widgets/controls",
            "_model_module_version": "1.5.0",
            "_model_name": "DescriptionStyleModel",
            "_view_count": null,
            "_view_module": "@jupyter-widgets/base",
            "_view_module_version": "1.2.0",
            "_view_name": "StyleView",
            "description_width": ""
          }
        }
      }
    }
  },
  "cells": [
    {
      "cell_type": "markdown",
      "source": [
        "**Initialization**\n",
        "- I use these three lines of code on top of my each notebooks because it will help to prevent any problems while reloading the same project. And the third line of code helps to make visualization within the notebook"
      ],
      "metadata": {
        "id": "mVyo_zwWnR9m"
      }
    },
    {
      "cell_type": "code",
      "execution_count": 1,
      "metadata": {
        "id": "NjTYjrfHltkS"
      },
      "outputs": [],
      "source": [
        "#@ INITIALIZATION: \n",
        "%reload_ext autoreload\n",
        "%autoreload 2\n",
        "%matplotlib inline"
      ]
    },
    {
      "cell_type": "markdown",
      "source": [
        "**Downloading Libraries and Dependencies**\n",
        "- I have downloaded all the libraries and dependencies required for the project in one particular cell."
      ],
      "metadata": {
        "id": "vgmQqoZgoszC"
      }
    },
    {
      "cell_type": "code",
      "source": [
        "#@ IMPORTING MODULES: UNCOMMENT BELOW:\n",
        "# !pip install transformers[sentencepiece]\n",
        "# !pip install datasets\n",
        "# !pip install farm-haystack\n",
        "import os\n",
        "import torch\n",
        "import pandas as pd\n",
        "import torch.nn.functional as F\n",
        "import matplotlib.pyplot as plt\n",
        "from subprocess import Popen, PIPE, STDOUT\n",
        "from datasets import get_dataset_config_names\n",
        "from datasets import load_dataset\n",
        "from transformers import pipeline\n",
        "from transformers import AutoTokenizer\n",
        "from transformers import AutoModelForQuestionAnswering\n",
        "from haystack.document_stores import ElasticsearchDocumentStore\n",
        "from haystack.retriever.sparse import ElasticsearchRetriever\n",
        "\n",
        "#@ IGNORING WARNINGS: \n",
        "import warnings\n",
        "warnings.filterwarnings(\"ignore\")"
      ],
      "metadata": {
        "id": "s5FG_Bz_nYuh"
      },
      "execution_count": 40,
      "outputs": []
    },
    {
      "cell_type": "markdown",
      "source": [
        "**The Dataset**\n",
        "- We will use **SubjQA** dataset which consists of more than 10,000 customer reviews in English about products and services."
      ],
      "metadata": {
        "id": "XcfTWg1IpNp9"
      }
    },
    {
      "cell_type": "code",
      "source": [
        "#@ LOADING THE DATASET:\n",
        "domains = get_dataset_config_names(\"subjqa\")                # Getting domain names. \n",
        "domains                                                     # Inspection."
      ],
      "metadata": {
        "colab": {
          "base_uri": "https://localhost:8080/"
        },
        "id": "DZrs1rZ1pD-E",
        "outputId": "3dd27d7e-7c23-4c0b-8a5c-4287a45e067a"
      },
      "execution_count": 5,
      "outputs": [
        {
          "output_type": "execute_result",
          "data": {
            "text/plain": [
              "['books', 'electronics', 'grocery', 'movies', 'restaurants', 'tripadvisor']"
            ]
          },
          "metadata": {},
          "execution_count": 5
        }
      ]
    },
    {
      "cell_type": "code",
      "source": [
        "#@ LOADING THE DATASET:\n",
        "subjqa = load_dataset(\"subjqa\", name=\"electronics\")         # Initializing electronics qa. \n",
        "print(subjqa[\"train\"][\"answers\"][1])                        # Inspecting answers."
      ],
      "metadata": {
        "colab": {
          "base_uri": "https://localhost:8080/",
          "height": 104,
          "referenced_widgets": [
            "3e340b5bd64e465eb7eb934bf061949b",
            "40263937f3914a0eace2540559b8497b",
            "e1c3a5de04fc4c28ad829c336360dd29",
            "459d8a78aacb4e10844ab743793ea3e8",
            "662bdbf574714b53ba210be160538d88",
            "2e65dae3b2f4452eb092c1ad4afecfbe",
            "211460c9fea341ac8434962df6d813a3",
            "53c1f410c05342948b8cd1129a5504e2",
            "b100cd5f1c9540068ce3b600d285cdd3",
            "073e23843eb64db8a7ec3ba3545ca732",
            "83a2fabf19794914b4e60e586df5ad66"
          ]
        },
        "id": "hgOtwLMcqzIH",
        "outputId": "b827b84f-272b-4f59-8446-5c9b33cd91da"
      },
      "execution_count": 8,
      "outputs": [
        {
          "output_type": "stream",
          "name": "stderr",
          "text": [
            "WARNING - datasets.builder -  Reusing dataset subjqa (/root/.cache/huggingface/datasets/subjqa/electronics/1.1.0/e5588f9298ff2d70686a00cc377e4bdccf4e32287459e3c6baf2dc5ab57fe7fd)\n"
          ]
        },
        {
          "output_type": "display_data",
          "data": {
            "text/plain": [
              "  0%|          | 0/3 [00:00<?, ?it/s]"
            ],
            "application/vnd.jupyter.widget-view+json": {
              "version_major": 2,
              "version_minor": 0,
              "model_id": "3e340b5bd64e465eb7eb934bf061949b"
            }
          },
          "metadata": {}
        },
        {
          "output_type": "stream",
          "name": "stdout",
          "text": [
            "{'text': ['Bass is weak as expected', 'Bass is weak as expected, even with EQ adjusted up'], 'answer_start': [1302, 1302], 'answer_subj_level': [1, 1], 'ans_subj_score': [0.5083333253860474, 0.5083333253860474], 'is_ans_subjective': [True, True]}\n"
          ]
        }
      ]
    },
    {
      "cell_type": "code",
      "source": [
        "#@ INSPECTING THE DATASET:\n",
        "dfs = {split: dset.to_pandas() for split,dset in subjqa.flatten().items()}  # Initialization.\n",
        "for split, df in dfs.items():\n",
        "    print(f\"Number of questions in {split}: {df['id'].nunique()}\")          # Inspecton."
      ],
      "metadata": {
        "colab": {
          "base_uri": "https://localhost:8080/"
        },
        "id": "G84ULSTmtcip",
        "outputId": "ef2e2984-9ec4-4e01-e517-1b2d54d177dd"
      },
      "execution_count": 9,
      "outputs": [
        {
          "output_type": "stream",
          "name": "stdout",
          "text": [
            "Number of questions in train: 1295\n",
            "Number of questions in test: 358\n",
            "Number of questions in validation: 255\n"
          ]
        }
      ]
    },
    {
      "cell_type": "code",
      "source": [
        "#@ PREPARING THE DATASET: \n",
        "qa_cols = [\"title\", \"question\", \"answers.text\", \"answers.answer_start\", \n",
        "           \"context\"]                                                       # Initialization.\n",
        "sample_df = dfs[\"train\"][qa_cols].sample(2, random_state=7)                 # Initializing sample dataframe. \n",
        "sample_df                                                                   # Inspecting dataframe."
      ],
      "metadata": {
        "colab": {
          "base_uri": "https://localhost:8080/",
          "height": 112
        },
        "id": "7M8MNUbSu26P",
        "outputId": "350f2c71-6d30-43f4-e4eb-3f7a5d41d44e"
      },
      "execution_count": 10,
      "outputs": [
        {
          "output_type": "execute_result",
          "data": {
            "text/plain": [
              "           title                        question                answers.text  \\\n",
              "791   B005DKZTMG  Does the keyboard lightweight?  [this keyboard is compact]   \n",
              "1159  B00AAIPT76             How is the battery?                          []   \n",
              "\n",
              "     answers.answer_start  \\\n",
              "791                 [215]   \n",
              "1159                   []   \n",
              "\n",
              "                                                                              context  \n",
              "791   I really like this keyboard.  I give it 4 stars because it doesn't have a CA...  \n",
              "1159  I bought this after the first spare gopro battery I bought wouldn't hold a c...  "
            ],
            "text/html": [
              "\n",
              "  <div id=\"df-fb7d20ee-8bbd-48fd-ace2-62c9a37dde6e\">\n",
              "    <div class=\"colab-df-container\">\n",
              "      <div>\n",
              "<style scoped>\n",
              "    .dataframe tbody tr th:only-of-type {\n",
              "        vertical-align: middle;\n",
              "    }\n",
              "\n",
              "    .dataframe tbody tr th {\n",
              "        vertical-align: top;\n",
              "    }\n",
              "\n",
              "    .dataframe thead th {\n",
              "        text-align: right;\n",
              "    }\n",
              "</style>\n",
              "<table border=\"1\" class=\"dataframe\">\n",
              "  <thead>\n",
              "    <tr style=\"text-align: right;\">\n",
              "      <th></th>\n",
              "      <th>title</th>\n",
              "      <th>question</th>\n",
              "      <th>answers.text</th>\n",
              "      <th>answers.answer_start</th>\n",
              "      <th>context</th>\n",
              "    </tr>\n",
              "  </thead>\n",
              "  <tbody>\n",
              "    <tr>\n",
              "      <th>791</th>\n",
              "      <td>B005DKZTMG</td>\n",
              "      <td>Does the keyboard lightweight?</td>\n",
              "      <td>[this keyboard is compact]</td>\n",
              "      <td>[215]</td>\n",
              "      <td>I really like this keyboard.  I give it 4 stars because it doesn't have a CA...</td>\n",
              "    </tr>\n",
              "    <tr>\n",
              "      <th>1159</th>\n",
              "      <td>B00AAIPT76</td>\n",
              "      <td>How is the battery?</td>\n",
              "      <td>[]</td>\n",
              "      <td>[]</td>\n",
              "      <td>I bought this after the first spare gopro battery I bought wouldn't hold a c...</td>\n",
              "    </tr>\n",
              "  </tbody>\n",
              "</table>\n",
              "</div>\n",
              "      <button class=\"colab-df-convert\" onclick=\"convertToInteractive('df-fb7d20ee-8bbd-48fd-ace2-62c9a37dde6e')\"\n",
              "              title=\"Convert this dataframe to an interactive table.\"\n",
              "              style=\"display:none;\">\n",
              "        \n",
              "  <svg xmlns=\"http://www.w3.org/2000/svg\" height=\"24px\"viewBox=\"0 0 24 24\"\n",
              "       width=\"24px\">\n",
              "    <path d=\"M0 0h24v24H0V0z\" fill=\"none\"/>\n",
              "    <path d=\"M18.56 5.44l.94 2.06.94-2.06 2.06-.94-2.06-.94-.94-2.06-.94 2.06-2.06.94zm-11 1L8.5 8.5l.94-2.06 2.06-.94-2.06-.94L8.5 2.5l-.94 2.06-2.06.94zm10 10l.94 2.06.94-2.06 2.06-.94-2.06-.94-.94-2.06-.94 2.06-2.06.94z\"/><path d=\"M17.41 7.96l-1.37-1.37c-.4-.4-.92-.59-1.43-.59-.52 0-1.04.2-1.43.59L10.3 9.45l-7.72 7.72c-.78.78-.78 2.05 0 2.83L4 21.41c.39.39.9.59 1.41.59.51 0 1.02-.2 1.41-.59l7.78-7.78 2.81-2.81c.8-.78.8-2.07 0-2.86zM5.41 20L4 18.59l7.72-7.72 1.47 1.35L5.41 20z\"/>\n",
              "  </svg>\n",
              "      </button>\n",
              "      \n",
              "  <style>\n",
              "    .colab-df-container {\n",
              "      display:flex;\n",
              "      flex-wrap:wrap;\n",
              "      gap: 12px;\n",
              "    }\n",
              "\n",
              "    .colab-df-convert {\n",
              "      background-color: #E8F0FE;\n",
              "      border: none;\n",
              "      border-radius: 50%;\n",
              "      cursor: pointer;\n",
              "      display: none;\n",
              "      fill: #1967D2;\n",
              "      height: 32px;\n",
              "      padding: 0 0 0 0;\n",
              "      width: 32px;\n",
              "    }\n",
              "\n",
              "    .colab-df-convert:hover {\n",
              "      background-color: #E2EBFA;\n",
              "      box-shadow: 0px 1px 2px rgba(60, 64, 67, 0.3), 0px 1px 3px 1px rgba(60, 64, 67, 0.15);\n",
              "      fill: #174EA6;\n",
              "    }\n",
              "\n",
              "    [theme=dark] .colab-df-convert {\n",
              "      background-color: #3B4455;\n",
              "      fill: #D2E3FC;\n",
              "    }\n",
              "\n",
              "    [theme=dark] .colab-df-convert:hover {\n",
              "      background-color: #434B5C;\n",
              "      box-shadow: 0px 1px 3px 1px rgba(0, 0, 0, 0.15);\n",
              "      filter: drop-shadow(0px 1px 2px rgba(0, 0, 0, 0.3));\n",
              "      fill: #FFFFFF;\n",
              "    }\n",
              "  </style>\n",
              "\n",
              "      <script>\n",
              "        const buttonEl =\n",
              "          document.querySelector('#df-fb7d20ee-8bbd-48fd-ace2-62c9a37dde6e button.colab-df-convert');\n",
              "        buttonEl.style.display =\n",
              "          google.colab.kernel.accessAllowed ? 'block' : 'none';\n",
              "\n",
              "        async function convertToInteractive(key) {\n",
              "          const element = document.querySelector('#df-fb7d20ee-8bbd-48fd-ace2-62c9a37dde6e');\n",
              "          const dataTable =\n",
              "            await google.colab.kernel.invokeFunction('convertToInteractive',\n",
              "                                                     [key], {});\n",
              "          if (!dataTable) return;\n",
              "\n",
              "          const docLinkHtml = 'Like what you see? Visit the ' +\n",
              "            '<a target=\"_blank\" href=https://colab.research.google.com/notebooks/data_table.ipynb>data table notebook</a>'\n",
              "            + ' to learn more about interactive tables.';\n",
              "          element.innerHTML = '';\n",
              "          dataTable['output_type'] = 'display_data';\n",
              "          await google.colab.output.renderOutput(dataTable, element);\n",
              "          const docLink = document.createElement('div');\n",
              "          docLink.innerHTML = docLinkHtml;\n",
              "          element.appendChild(docLink);\n",
              "        }\n",
              "      </script>\n",
              "    </div>\n",
              "  </div>\n",
              "  "
            ]
          },
          "metadata": {},
          "execution_count": 10
        }
      ]
    },
    {
      "cell_type": "code",
      "source": [
        "#@ INSPECTING THE ANSWER:\n",
        "start_index = sample_df[\"answers.answer_start\"].iloc[0][0]                  # Initializing starting index.\n",
        "end_index = start_index + len(sample_df[\"answers.text\"].iloc[0][0])         # Initializing ending index.\n",
        "sample_df[\"context\"].iloc[0][start_index:end_index]                         # Inspecting answer."
      ],
      "metadata": {
        "colab": {
          "base_uri": "https://localhost:8080/",
          "height": 35
        },
        "id": "J1zdT0ONyyNN",
        "outputId": "7f773fa9-337b-43bd-8717-6ef1d864c4a3"
      },
      "execution_count": 11,
      "outputs": [
        {
          "output_type": "execute_result",
          "data": {
            "text/plain": [
              "'this keyboard is compact'"
            ],
            "application/vnd.google.colaboratory.intrinsic+json": {
              "type": "string"
            }
          },
          "metadata": {},
          "execution_count": 11
        }
      ]
    },
    {
      "cell_type": "code",
      "source": [
        "#@ INSPECTING THE QUESTION:\n",
        "counts = {}                                                                       # Initialization.\n",
        "question_types = [\"What\", \"How\", \"Is\", \"Does\", \"Do\", \"Was\", \"Where\",\"Why\"]        # Initializing question words.\n",
        "for q in question_types:\n",
        "    counts[q] = dfs[\"train\"][\"question\"].str.startswith(q).value_counts()[True]   # Initializing value counts.\n",
        "pd.Series(counts).sort_values().plot.barh()                                       # Creating plots.\n",
        "plt.title(\"Frequency of Question Types\")                                          # Initialization.\n",
        "plt.show()                                                                        # Inspection. "
      ],
      "metadata": {
        "colab": {
          "base_uri": "https://localhost:8080/",
          "height": 281
        },
        "id": "vfz8ZM560H2D",
        "outputId": "4d585d44-7ce0-448a-8f3a-c31f04b976ab"
      },
      "execution_count": 12,
      "outputs": [
        {
          "output_type": "display_data",
          "data": {
            "text/plain": [
              "<Figure size 432x288 with 1 Axes>"
            ],
            "image/png": "[encoded data removed]"
          },
          "metadata": {
            "needs_background": "light"
          }
        }
      ]
    },
    {
      "cell_type": "code",
      "source": [
        "#@ INSPECTING QUESTIONS WITH START WORDS: \n",
        "for question_type in [\"How\", \"What\", \"Is\"]:\n",
        "    for question in (dfs[\"train\"][dfs[\"train\"].question.str.startswith(question_type)]\n",
        "                     .sample(n=3, random_state=2022)[\"question\"]):\n",
        "        print(question)"
      ],
      "metadata": {
        "id": "8HiOh7McNU-W",
        "colab": {
          "base_uri": "https://localhost:8080/"
        },
        "outputId": "8de155cc-e378-4632-e156-612bd3f15b77"
      },
      "execution_count": 13,
      "outputs": [
        {
          "output_type": "stream",
          "name": "stdout",
          "text": [
            "How are the bass?\n",
            "How is the camera?\n",
            "How is the speed?\n",
            "What is the quality of the customer service?\n",
            "What do you think about detail?\n",
            "What is amount?\n",
            "Is the option available?\n",
            "Is the hole big or small?\n",
            "Is this how zoom works?\n"
          ]
        }
      ]
    },
    {
      "cell_type": "markdown",
      "source": [
        "**Extracting Answers**"
      ],
      "metadata": {
        "id": "i44nrUB7nfTu"
      }
    },
    {
      "cell_type": "code",
      "source": [
        "#@ TOKENIZING TEXT FOR QUESTION ANSWERING: SAMPLE EXAMPLE:\n",
        "model_ckpt = \"deepset/minilm-uncased-squad2\"                        # Initializing model checkpoint.\n",
        "tokenizer = AutoTokenizer.from_pretrained(model_ckpt)               # Initializing pretrained tokenizer.\n",
        "question = \"How much music can this hold?\"                          # Initializing question.\n",
        "context = \"An MP3 is about 1 MB/minute, so about 6000 hours \\\n",
        "           depending on file size.\"                                 # Initializing context.\n",
        "inputs = tokenizer(question, context, return_tensors=\"pt\")          # Initializing input tensors.\n",
        "print(tokenizer.decode(inputs[\"input_ids\"][0]))                     # Decoding IDs. "
      ],
      "metadata": {
        "colab": {
          "base_uri": "https://localhost:8080/"
        },
        "id": "xKqGx7fSjBCJ",
        "outputId": "3d095481-a41c-4359-dc8c-84a01017005f"
      },
      "execution_count": 15,
      "outputs": [
        {
          "output_type": "stream",
          "name": "stdout",
          "text": [
            "[CLS] how much music can this hold? [SEP] an mp3 is about 1 mb / minute, so about 6000 hours depending on file size. [SEP]\n"
          ]
        }
      ]
    },
    {
      "cell_type": "markdown",
      "source": [
        "**Training Model**"
      ],
      "metadata": {
        "id": "r1uHf4fFv52w"
      }
    },
    {
      "cell_type": "code",
      "source": [
        "#@ TRAINING THE QA MODEL:\n",
        "model = AutoModelForQuestionAnswering.from_pretrained(model_ckpt)   # Initializing pretrained model.\n",
        "with torch.no_grad():                                               # Clearing gradients.\n",
        "    outputs = model(**inputs)                                       # Implementation of model.\n",
        "print(outputs)                                                      # Inspection."
      ],
      "metadata": {
        "colab": {
          "base_uri": "https://localhost:8080/"
        },
        "id": "jxqCPji4ujBy",
        "outputId": "3f706fee-95ef-4747-87da-5eaec99137dc"
      },
      "execution_count": 18,
      "outputs": [
        {
          "output_type": "stream",
          "name": "stdout",
          "text": [
            "QuestionAnsweringModelOutput(loss=None, start_logits=tensor([[-0.9862, -4.7750, -5.4025, -5.2378, -5.2863, -5.5117, -4.9819, -6.1880,\n",
            "         -0.9862,  0.2596, -0.2144, -1.7136,  3.7806,  4.8561, -1.0546, -3.9097,\n",
            "         -1.7374, -4.5944, -1.4278,  3.9949,  5.0391, -0.2018, -3.0193, -4.8549,\n",
            "         -2.3107, -3.5110, -3.5713, -0.9862]]), end_logits=tensor([[-0.9623, -5.4733, -5.0326, -5.1639, -5.4278, -5.5151, -5.1749, -4.6233,\n",
            "         -0.9623, -3.7855, -0.8715, -3.7745, -3.0162, -1.1780,  0.1758, -2.7365,\n",
            "          4.8934,  0.3046, -3.1761, -3.2762,  0.8937,  5.6606, -0.3623, -4.9554,\n",
            "         -3.2531, -0.0914,  1.6211, -0.9623]]), hidden_states=None, attentions=None)\n"
          ]
        }
      ]
    },
    {
      "cell_type": "code",
      "source": [
        "#@ INSPECTING MODEL OUTPUT ANSWERS: \n",
        "start_logits = outputs.start_logits                                 # Initializing output start logits.\n",
        "end_logits = outputs.end_logits                                     # Initializing output end logits.\n",
        "print(f\"Input IDs shape: {inputs.input_ids.size()}\")                # Inspection. \n",
        "print(f\"Start logits shape: {start_logits.size()}\")                 # Inspection.\n",
        "print(f\"End logits shape: {end_logits.size()}\")                     # Inspection. "
      ],
      "metadata": {
        "id": "V9kPFqo2xxYe",
        "colab": {
          "base_uri": "https://localhost:8080/"
        },
        "outputId": "39864e96-3e21-45da-d729-b5c8d48f02ea"
      },
      "execution_count": 19,
      "outputs": [
        {
          "output_type": "stream",
          "name": "stdout",
          "text": [
            "Input IDs shape: torch.Size([1, 28])\n",
            "Start logits shape: torch.Size([1, 28])\n",
            "End logits shape: torch.Size([1, 28])\n"
          ]
        }
      ]
    },
    {
      "cell_type": "code",
      "source": [
        "#@ DECODING THE OUTPUT LOGITS:\n",
        "start_idx = torch.argmax(start_logits)                              # Index of maximum tensor.\n",
        "end_idx = torch.argmax(end_logits) + 1                              # Index of maximum tensor.\n",
        "answer_span = inputs[\"input_ids\"][0][start_idx:end_idx]             # Initializing answers.\n",
        "answer = tokenizer.decode(answer_span)                              # Decoding answers.\n",
        "print(f\"Question: {question}\")                                      # Inspecting question. \n",
        "print(f\"Answer: {answer}\")                                          # Inspecting answer."
      ],
      "metadata": {
        "colab": {
          "base_uri": "https://localhost:8080/"
        },
        "id": "-dZ1NA0JJdEf",
        "outputId": "e76162b6-4500-4d0f-cd62-cad4bc23f166"
      },
      "execution_count": 20,
      "outputs": [
        {
          "output_type": "stream",
          "name": "stdout",
          "text": [
            "Question: How much music can this hold?\n",
            "Answer: 6000 hours\n"
          ]
        }
      ]
    },
    {
      "cell_type": "code",
      "source": [
        "#@ QUESTION ANSWERING WITH TRANSFORMERS PIPELINE:\n",
        "pipe = pipeline(\"question-answering\", model=model, tokenizer=tokenizer)     # Initializing model pipeline.\n",
        "pipe(question=question, context=context, topk=3)                            # Inspecting output."
      ],
      "metadata": {
        "colab": {
          "base_uri": "https://localhost:8080/"
        },
        "id": "qL-iow12hQoX",
        "outputId": "228f62d6-9e98-4ea0-8917-27e1da3e9ce7"
      },
      "execution_count": 21,
      "outputs": [
        {
          "output_type": "execute_result",
          "data": {
            "text/plain": [
              "[{'answer': '6000 hours', 'end': 48, 'score': 0.2651623487472534, 'start': 38},\n",
              " {'answer': '1 MB/minute, so about 6000 hours',\n",
              "  'end': 48,\n",
              "  'score': 0.22082945704460144,\n",
              "  'start': 16},\n",
              " {'answer': '1 MB/minute',\n",
              "  'end': 27,\n",
              "  'score': 0.10253474861383438,\n",
              "  'start': 16}]"
            ]
          },
          "metadata": {},
          "execution_count": 21
        }
      ]
    },
    {
      "cell_type": "code",
      "source": [
        "#@ INSPECTING QA WITH NO ANSWERS:\n",
        "pipe(question=\"Why is there no data?\", context=context, handle_impossible_answer=True)"
      ],
      "metadata": {
        "colab": {
          "base_uri": "https://localhost:8080/"
        },
        "id": "LvnWD6LWh_Ae",
        "outputId": "b445f990-78d4-44ae-e92f-ecde448a18f3"
      },
      "execution_count": 22,
      "outputs": [
        {
          "output_type": "execute_result",
          "data": {
            "text/plain": [
              "{'answer': '', 'end': 0, 'score': 0.9068416357040405, 'start': 0}"
            ]
          },
          "metadata": {},
          "execution_count": 22
        }
      ]
    },
    {
      "cell_type": "markdown",
      "source": [
        "**Dealing with Long Sequences**"
      ],
      "metadata": {
        "id": "tgNIR954mMAZ"
      }
    },
    {
      "cell_type": "code",
      "source": [
        "#@ DEALING WITH LONG SEQUENCES:\n",
        "example = dfs[\"train\"].iloc[0][[\"question\", \"context\"]]                        # Initializing sample.\n",
        "tokenized_example = tokenizer(example[\"question\"], example[\"context\"], \n",
        "                              return_overflowing_tokens=True, max_length=100,\n",
        "                              stride=25)                                       # Tokenizing with sliding window.\n",
        "for idx, window in enumerate(tokenized_example[\"input_ids\"]):\n",
        "    print(f\"Window #{idx} has {len(window)} tokens.\")                          # Inspecting number of tokens. "
      ],
      "metadata": {
        "colab": {
          "base_uri": "https://localhost:8080/"
        },
        "id": "mCQ4RaM_ioWt",
        "outputId": "aca7138a-12e8-4466-c388-125887b3211f"
      },
      "execution_count": 23,
      "outputs": [
        {
          "output_type": "stream",
          "name": "stderr",
          "text": [
            "Truncation was not explicitly activated but `max_length` is provided a specific value, please use `truncation=True` to explicitly truncate examples to max length. Defaulting to 'longest_first' truncation strategy. If you encode pairs of sequences (GLUE-style) with the tokenizer you can select this strategy more precisely by providing a specific strategy to `truncation`.\n"
          ]
        },
        {
          "output_type": "stream",
          "name": "stdout",
          "text": [
            "Window #0 has 100 tokens.\n",
            "Window #1 has 88 tokens.\n"
          ]
        }
      ]
    },
    {
      "cell_type": "code",
      "source": [
        "#@ DECODING THE OUTPUTS:\n",
        "for window in tokenized_example[\"input_ids\"]:\n",
        "    print(f\"{tokenizer.decode(window)}\\n\")                                     # Decoding the outputs."
      ],
      "metadata": {
        "colab": {
          "base_uri": "https://localhost:8080/"
        },
        "id": "rRhzj8L9nnto",
        "outputId": "685b6e7d-f738-44a4-edec-12460c07652c"
      },
      "execution_count": 24,
      "outputs": [
        {
          "output_type": "stream",
          "name": "stdout",
          "text": [
            "[CLS] how is the bass? [SEP] i have had koss headphones in the past, pro 4aa and qz - 99. the koss portapro is portable and has great bass response. the work great with my android phone and can be \" rolled up \" to be carried in my motorcycle jacket or computer bag without getting crunched. they are very light and don't feel heavy or bear down on your ears even after listening to music with them on all day. the sound is [SEP]\n",
            "\n",
            "[CLS] how is the bass? [SEP] and don't feel heavy or bear down on your ears even after listening to music with them on all day. the sound is night and day better than any ear - bud could be and are almost as good as the pro 4aa. they are \" open air \" headphones so you cannot match the bass to the sealed types, but it comes close. for $ 32, you cannot go wrong. [SEP]\n",
            "\n"
          ]
        }
      ]
    },
    {
      "cell_type": "markdown",
      "source": [
        "**Haystack and QA Pipeline**"
      ],
      "metadata": {
        "id": "ywMsrE6TM9KV"
      }
    },
    {
      "cell_type": "code",
      "source": [
        "#@ INITIALIZING A DOCUMENT STORE: ELASTICSEARCH:\n",
        "url = \"\"\"https://artifacts.elastic.co/downloads/elasticsearch/\\\n",
        "elasticsearch-7.9.2-linux-x86_64.tar.gz\"\"\"\n",
        "!wget -nc -q {url}\n",
        "!tar -xzf elasticsearch-7.9.2-linux-x86_64.tar.gz"
      ],
      "metadata": {
        "id": "9NeCEI9Voy5g"
      },
      "execution_count": 25,
      "outputs": []
    },
    {
      "cell_type": "code",
      "source": [
        "#@ RUNNING ELASTIC SEARCH:\n",
        "!chown -R daemon:daemon elasticsearch-7.9.2\n",
        "es_server = Popen(args=['elasticsearch-7.9.2/bin/elasticsearch'],\n",
        "                  stdout=PIPE, stderr=STDOUT, preexec_fn=lambda: os.setuid(1))\n",
        "!sleep 30"
      ],
      "metadata": {
        "id": "OtpypDKtNhx7"
      },
      "execution_count": 26,
      "outputs": []
    },
    {
      "cell_type": "code",
      "source": [
        "#@ INSPECTION OF ELASTICSEARCH:\n",
        "!curl -X GET \"localhost:9200/?pretty\""
      ],
      "metadata": {
        "colab": {
          "base_uri": "https://localhost:8080/"
        },
        "id": "wPQaWA6pOaGB",
        "outputId": "d01c2d1e-68b6-4888-9dca-32e8cc1036f0"
      },
      "execution_count": 27,
      "outputs": [
        {
          "output_type": "stream",
          "name": "stdout",
          "text": [
            "{\n",
            "  \"name\" : \"67188a76aa64\",\n",
            "  \"cluster_name\" : \"elasticsearch\",\n",
            "  \"cluster_uuid\" : \"sQanC5TySeOnffs2iIOb-w\",\n",
            "  \"version\" : {\n",
            "    \"number\" : \"7.9.2\",\n",
            "    \"build_flavor\" : \"default\",\n",
            "    \"build_type\" : \"tar\",\n",
            "    \"build_hash\" : \"d34da0ea4a966c4e49417f2da2f244e3e97b4e6e\",\n",
            "    \"build_date\" : \"2020-09-23T00:45:33.626720Z\",\n",
            "    \"build_snapshot\" : false,\n",
            "    \"lucene_version\" : \"8.6.2\",\n",
            "    \"minimum_wire_compatibility_version\" : \"6.8.0\",\n",
            "    \"minimum_index_compatibility_version\" : \"6.0.0-beta1\"\n",
            "  },\n",
            "  \"tagline\" : \"You Know, for Search\"\n",
            "}\n"
          ]
        }
      ]
    },
    {
      "cell_type": "code",
      "source": [
        "#@ CLEANING DOCUMENT STORE: \n",
        "document_store = ElasticsearchDocumentStore(return_embedding=True)                          # Initializing document store.\n",
        "if len(document_store.get_all_documents()) or len(document_store.get_all_labels()) > 0:\n",
        "    document_store.delete_documents(\"document\")                                             # Cleaning document store. \n",
        "    document_store.delete_documents(\"label\")                                                # Cleaning document store."
      ],
      "metadata": {
        "id": "lh73IWzq12je"
      },
      "execution_count": 33,
      "outputs": []
    },
    {
      "cell_type": "code",
      "source": [
        "#@ INSTANTIATING DOCUMENT STORE:\n",
        "for split, df in dfs.items():\n",
        "    docs = [{\"content\": row[\"context\"],\n",
        "             \"meta\": {\"item_id\": row[\"title\"], \"question_id\": row[\"id\"],\n",
        "                      \"split\": split}} \n",
        "            for _, row in df.drop_duplicates(subset=\"context\").iterrows()]  # Preparing haystack document store.\n",
        "    document_store.write_documents(docs, index=\"document\")\n",
        "print(f\"Loaded {document_store.get_document_count()} documents\")            # Inspecting number of documents."
      ],
      "metadata": {
        "id": "0pOwpl22TKfS",
        "colab": {
          "base_uri": "https://localhost:8080/"
        },
        "outputId": "0de54e0c-b5a2-4ef2-fb50-d32b89969d8b"
      },
      "execution_count": 36,
      "outputs": [
        {
          "output_type": "stream",
          "name": "stdout",
          "text": [
            "Loaded 1615 documents\n"
          ]
        }
      ]
    },
    {
      "cell_type": "markdown",
      "source": [
        "**Initializing Retriever**"
      ],
      "metadata": {
        "id": "kYfStTs55M5F"
      }
    },
    {
      "cell_type": "code",
      "source": [
        "#@ INITIALIZING RETRIEVER: \n",
        "es_retriever = ElasticsearchRetriever(document_store=document_store)        # Initializing retriever. \n",
        "item_id = \"B0074BW614\"                                                      # Initialization. \n",
        "query = \"Is it good for reading?\"                                           # Initializing question.\n",
        "retrieved_docs = es_retriever.retrieve(query=query, top_k=3,\n",
        "                                       filters={\"item_id\":[item_id], \n",
        "                                                \"split\": [\"train\"]})        # Initializing retrieved docs. \n",
        "print(retrieved_docs[0])                                                    # Inspection."
      ],
      "metadata": {
        "colab": {
          "base_uri": "https://localhost:8080/"
        },
        "id": "hzgMkCRB3MlF",
        "outputId": "a4a1c4e2-d53c-4006-a641-e6f5d56317d4"
      },
      "execution_count": 41,
      "outputs": [
        {
          "output_type": "stream",
          "name": "stdout",
          "text": [
            "<Document: id=252e83e25d52df7311d597dc89eef9f6, content='This is a gift to myself.  I have been a kindle user for 4 years and this is my third one.  I never  ...'>\n"
          ]
        }
      ]
    },
    {
      "cell_type": "code",
      "source": [
        ""
      ],
      "metadata": {
        "id": "kbrLwhUI_QmE"
      },
      "execution_count": null,
      "outputs": []
    }
  ]
}