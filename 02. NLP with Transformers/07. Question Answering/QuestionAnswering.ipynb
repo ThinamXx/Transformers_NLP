{
  "nbformat": 4,
  "nbformat_minor": 0,
  "metadata": {
    "colab": {
      "name": "QuestionAnswering.ipynb",
      "provenance": []
    },
    "kernelspec": {
      "name": "python3",
      "display_name": "Python 3"
    },
    "language_info": {
      "name": "python"
    },
    "accelerator": "GPU",
    "widgets": {
      "application/vnd.jupyter.widget-state+json": {
        "4a64fbd76bd749f69b7010dd4c0bfb59": {
          "model_module": "@jupyter-widgets/controls",
          "model_name": "HBoxModel",
          "model_module_version": "1.5.0",
          "state": {
            "_dom_classes": [],
            "_model_module": "@jupyter-widgets/controls",
            "_model_module_version": "1.5.0",
            "_model_name": "HBoxModel",
            "_view_count": null,
            "_view_module": "@jupyter-widgets/controls",
            "_view_module_version": "1.5.0",
            "_view_name": "HBoxView",
            "box_style": "",
            "children": [
              "IPY_MODEL_518e3800cdbf4842ad65acc209c20789",
              "IPY_MODEL_1ebb144d44ea4ed98417c1acb52cfc18",
              "IPY_MODEL_cead936058994afab5bd9023a128b756"
            ],
            "layout": "IPY_MODEL_24c49b7588f74d17b6e75737fb8c52e8"
          }
        },
        "518e3800cdbf4842ad65acc209c20789": {
          "model_module": "@jupyter-widgets/controls",
          "model_name": "HTMLModel",
          "model_module_version": "1.5.0",
          "state": {
            "_dom_classes": [],
            "_model_module": "@jupyter-widgets/controls",
            "_model_module_version": "1.5.0",
            "_model_name": "HTMLModel",
            "_view_count": null,
            "_view_module": "@jupyter-widgets/controls",
            "_view_module_version": "1.5.0",
            "_view_name": "HTMLView",
            "description": "",
            "description_tooltip": null,
            "layout": "IPY_MODEL_ead7557172df496ab29620a124d11594",
            "placeholder": "​",
            "style": "IPY_MODEL_6087bb40887546ecbdb80cfac9ec3aed",
            "value": "100%"
          }
        },
        "1ebb144d44ea4ed98417c1acb52cfc18": {
          "model_module": "@jupyter-widgets/controls",
          "model_name": "FloatProgressModel",
          "model_module_version": "1.5.0",
          "state": {
            "_dom_classes": [],
            "_model_module": "@jupyter-widgets/controls",
            "_model_module_version": "1.5.0",
            "_model_name": "FloatProgressModel",
            "_view_count": null,
            "_view_module": "@jupyter-widgets/controls",
            "_view_module_version": "1.5.0",
            "_view_name": "ProgressView",
            "bar_style": "success",
            "description": "",
            "description_tooltip": null,
            "layout": "IPY_MODEL_815f16ed794245a2b4c7410399708f10",
            "max": 3,
            "min": 0,
            "orientation": "horizontal",
            "style": "IPY_MODEL_6004e63d14ab4c1f8385682a089e534f",
            "value": 3
          }
        },
        "cead936058994afab5bd9023a128b756": {
          "model_module": "@jupyter-widgets/controls",
          "model_name": "HTMLModel",
          "model_module_version": "1.5.0",
          "state": {
            "_dom_classes": [],
            "_model_module": "@jupyter-widgets/controls",
            "_model_module_version": "1.5.0",
            "_model_name": "HTMLModel",
            "_view_count": null,
            "_view_module": "@jupyter-widgets/controls",
            "_view_module_version": "1.5.0",
            "_view_name": "HTMLView",
            "description": "",
            "description_tooltip": null,
            "layout": "IPY_MODEL_b9a8502d6aa04652b432a5480a0164af",
            "placeholder": "​",
            "style": "IPY_MODEL_a3a9cc85bcfe4d86adb959c00baf83d9",
            "value": " 3/3 [00:00&lt;00:00,  5.08it/s]"
          }
        },
        "24c49b7588f74d17b6e75737fb8c52e8": {
          "model_module": "@jupyter-widgets/base",
          "model_name": "LayoutModel",
          "model_module_version": "1.2.0",
          "state": {
            "_model_module": "@jupyter-widgets/base",
            "_model_module_version": "1.2.0",
            "_model_name": "LayoutModel",
            "_view_count": null,
            "_view_module": "@jupyter-widgets/base",
            "_view_module_version": "1.2.0",
            "_view_name": "LayoutView",
            "align_content": null,
            "align_items": null,
            "align_self": null,
            "border": null,
            "bottom": null,
            "display": null,
            "flex": null,
            "flex_flow": null,
            "grid_area": null,
            "grid_auto_columns": null,
            "grid_auto_flow": null,
            "grid_auto_rows": null,
            "grid_column": null,
            "grid_gap": null,
            "grid_row": null,
            "grid_template_areas": null,
            "grid_template_columns": null,
            "grid_template_rows": null,
            "height": null,
            "justify_content": null,
            "justify_items": null,
            "left": null,
            "margin": null,
            "max_height": null,
            "max_width": null,
            "min_height": null,
            "min_width": null,
            "object_fit": null,
            "object_position": null,
            "order": null,
            "overflow": null,
            "overflow_x": null,
            "overflow_y": null,
            "padding": null,
            "right": null,
            "top": null,
            "visibility": null,
            "width": null
          }
        },
        "ead7557172df496ab29620a124d11594": {
          "model_module": "@jupyter-widgets/base",
          "model_name": "LayoutModel",
          "model_module_version": "1.2.0",
          "state": {
            "_model_module": "@jupyter-widgets/base",
            "_model_module_version": "1.2.0",
            "_model_name": "LayoutModel",
            "_view_count": null,
            "_view_module": "@jupyter-widgets/base",
            "_view_module_version": "1.2.0",
            "_view_name": "LayoutView",
            "align_content": null,
            "align_items": null,
            "align_self": null,
            "border": null,
            "bottom": null,
            "display": null,
            "flex": null,
            "flex_flow": null,
            "grid_area": null,
            "grid_auto_columns": null,
            "grid_auto_flow": null,
            "grid_auto_rows": null,
            "grid_column": null,
            "grid_gap": null,
            "grid_row": null,
            "grid_template_areas": null,
            "grid_template_columns": null,
            "grid_template_rows": null,
            "height": null,
            "justify_content": null,
            "justify_items": null,
            "left": null,
            "margin": null,
            "max_height": null,
            "max_width": null,
            "min_height": null,
            "min_width": null,
            "object_fit": null,
            "object_position": null,
            "order": null,
            "overflow": null,
            "overflow_x": null,
            "overflow_y": null,
            "padding": null,
            "right": null,
            "top": null,
            "visibility": null,
            "width": null
          }
        },
        "6087bb40887546ecbdb80cfac9ec3aed": {
          "model_module": "@jupyter-widgets/controls",
          "model_name": "DescriptionStyleModel",
          "model_module_version": "1.5.0",
          "state": {
            "_model_module": "@jupyter-widgets/controls",
            "_model_module_version": "1.5.0",
            "_model_name": "DescriptionStyleModel",
            "_view_count": null,
            "_view_module": "@jupyter-widgets/base",
            "_view_module_version": "1.2.0",
            "_view_name": "StyleView",
            "description_width": ""
          }
        },
        "815f16ed794245a2b4c7410399708f10": {
          "model_module": "@jupyter-widgets/base",
          "model_name": "LayoutModel",
          "model_module_version": "1.2.0",
          "state": {
            "_model_module": "@jupyter-widgets/base",
            "_model_module_version": "1.2.0",
            "_model_name": "LayoutModel",
            "_view_count": null,
            "_view_module": "@jupyter-widgets/base",
            "_view_module_version": "1.2.0",
            "_view_name": "LayoutView",
            "align_content": null,
            "align_items": null,
            "align_self": null,
            "border": null,
            "bottom": null,
            "display": null,
            "flex": null,
            "flex_flow": null,
            "grid_area": null,
            "grid_auto_columns": null,
            "grid_auto_flow": null,
            "grid_auto_rows": null,
            "grid_column": null,
            "grid_gap": null,
            "grid_row": null,
            "grid_template_areas": null,
            "grid_template_columns": null,
            "grid_template_rows": null,
            "height": null,
            "justify_content": null,
            "justify_items": null,
            "left": null,
            "margin": null,
            "max_height": null,
            "max_width": null,
            "min_height": null,
            "min_width": null,
            "object_fit": null,
            "object_position": null,
            "order": null,
            "overflow": null,
            "overflow_x": null,
            "overflow_y": null,
            "padding": null,
            "right": null,
            "top": null,
            "visibility": null,
            "width": null
          }
        },
        "6004e63d14ab4c1f8385682a089e534f": {
          "model_module": "@jupyter-widgets/controls",
          "model_name": "ProgressStyleModel",
          "model_module_version": "1.5.0",
          "state": {
            "_model_module": "@jupyter-widgets/controls",
            "_model_module_version": "1.5.0",
            "_model_name": "ProgressStyleModel",
            "_view_count": null,
            "_view_module": "@jupyter-widgets/base",
            "_view_module_version": "1.2.0",
            "_view_name": "StyleView",
            "bar_color": null,
            "description_width": ""
          }
        },
        "b9a8502d6aa04652b432a5480a0164af": {
          "model_module": "@jupyter-widgets/base",
          "model_name": "LayoutModel",
          "model_module_version": "1.2.0",
          "state": {
            "_model_module": "@jupyter-widgets/base",
            "_model_module_version": "1.2.0",
            "_model_name": "LayoutModel",
            "_view_count": null,
            "_view_module": "@jupyter-widgets/base",
            "_view_module_version": "1.2.0",
            "_view_name": "LayoutView",
            "align_content": null,
            "align_items": null,
            "align_self": null,
            "border": null,
            "bottom": null,
            "display": null,
            "flex": null,
            "flex_flow": null,
            "grid_area": null,
            "grid_auto_columns": null,
            "grid_auto_flow": null,
            "grid_auto_rows": null,
            "grid_column": null,
            "grid_gap": null,
            "grid_row": null,
            "grid_template_areas": null,
            "grid_template_columns": null,
            "grid_template_rows": null,
            "height": null,
            "justify_content": null,
            "justify_items": null,
            "left": null,
            "margin": null,
            "max_height": null,
            "max_width": null,
            "min_height": null,
            "min_width": null,
            "object_fit": null,
            "object_position": null,
            "order": null,
            "overflow": null,
            "overflow_x": null,
            "overflow_y": null,
            "padding": null,
            "right": null,
            "top": null,
            "visibility": null,
            "width": null
          }
        },
        "a3a9cc85bcfe4d86adb959c00baf83d9": {
          "model_module": "@jupyter-widgets/controls",
          "model_name": "DescriptionStyleModel",
          "model_module_version": "1.5.0",
          "state": {
            "_model_module": "@jupyter-widgets/controls",
            "_model_module_version": "1.5.0",
            "_model_name": "DescriptionStyleModel",
            "_view_count": null,
            "_view_module": "@jupyter-widgets/base",
            "_view_module_version": "1.2.0",
            "_view_name": "StyleView",
            "description_width": ""
          }
        }
      }
    }
  },
  "cells": [
    {
      "cell_type": "markdown",
      "source": [
        "**Initialization**\n",
        "- I use these three lines of code on top of my each notebooks because it will help to prevent any problems while reloading the same project. And the third line of code helps to make visualization within the notebook"
      ],
      "metadata": {
        "id": "mVyo_zwWnR9m"
      }
    },
    {
      "cell_type": "code",
      "execution_count": 1,
      "metadata": {
        "id": "NjTYjrfHltkS"
      },
      "outputs": [],
      "source": [
        "#@ INITIALIZATION: \n",
        "%reload_ext autoreload\n",
        "%autoreload 2\n",
        "%matplotlib inline"
      ]
    },
    {
      "cell_type": "markdown",
      "source": [
        "**Downloading Libraries and Dependencies**\n",
        "- I have downloaded all the libraries and dependencies required for the project in one particular cell."
      ],
      "metadata": {
        "id": "vgmQqoZgoszC"
      }
    },
    {
      "cell_type": "code",
      "source": [
        "#@ IMPORTING MODULES: UNCOMMENT BELOW:\n",
        "# !pip install transformers[sentencepiece]\n",
        "# !pip install datasets\n",
        "# !pip install farm-haystack\n",
        "import os\n",
        "import torch\n",
        "import pandas as pd\n",
        "import torch.nn.functional as F\n",
        "import matplotlib.pyplot as plt\n",
        "from subprocess import Popen, PIPE, STDOUT\n",
        "from datasets import get_dataset_config_names\n",
        "from datasets import load_dataset\n",
        "from transformers import pipeline\n",
        "from transformers import AutoTokenizer\n",
        "from transformers import AutoModelForQuestionAnswering\n",
        "from haystack.document_stores import ElasticsearchDocumentStore\n",
        "\n",
        "#@ IGNORING WARNINGS: \n",
        "import warnings\n",
        "warnings.filterwarnings(\"ignore\")"
      ],
      "metadata": {
        "id": "s5FG_Bz_nYuh",
        "colab": {
          "base_uri": "https://localhost:8080/"
        },
        "outputId": "0b315f6f-3f49-452c-92de-aa8be368aa5b"
      },
      "execution_count": 2,
      "outputs": [
        {
          "output_type": "stream",
          "name": "stderr",
          "text": [
            "INFO - haystack.modeling.model.optimization -  apex not found, won't use it. See https://nvidia.github.io/apex/\n",
            "WARNING - haystack -  Object '__file__' is imported through a deprecated path. Please check out the docs for the new import path.\n",
            "WARNING - haystack -  Object '__file__' is imported through a deprecated path. Please check out the docs for the new import path.\n",
            "WARNING - haystack -  Object '__file__' is imported through a deprecated path. Please check out the docs for the new import path.\n",
            "WARNING - haystack -  Object '__file__' is imported through a deprecated path. Please check out the docs for the new import path.\n",
            "WARNING - haystack -  Object '__file__' is imported through a deprecated path. Please check out the docs for the new import path.\n",
            "WARNING - haystack -  Object '__file__' is imported through a deprecated path. Please check out the docs for the new import path.\n",
            "WARNING - haystack -  Object '__file__' is imported through a deprecated path. Please check out the docs for the new import path.\n",
            "WARNING - haystack -  Object '__file__' is imported through a deprecated path. Please check out the docs for the new import path.\n",
            "WARNING - haystack -  Object '__file__' is imported through a deprecated path. Please check out the docs for the new import path.\n",
            "WARNING - haystack -  Object '__file__' is imported through a deprecated path. Please check out the docs for the new import path.\n",
            "WARNING - haystack -  Object '__file__' is imported through a deprecated path. Please check out the docs for the new import path.\n",
            "WARNING - haystack -  Object '__file__' is imported through a deprecated path. Please check out the docs for the new import path.\n",
            "WARNING - haystack -  Object '__file__' is imported through a deprecated path. Please check out the docs for the new import path.\n",
            "WARNING - haystack -  Object '__file__' is imported through a deprecated path. Please check out the docs for the new import path.\n",
            "WARNING - haystack -  Object '__file__' is imported through a deprecated path. Please check out the docs for the new import path.\n",
            "WARNING - haystack -  Object '__file__' is imported through a deprecated path. Please check out the docs for the new import path.\n",
            "WARNING - haystack -  Object '__file__' is imported through a deprecated path. Please check out the docs for the new import path.\n",
            "WARNING - haystack -  Object '__file__' is imported through a deprecated path. Please check out the docs for the new import path.\n",
            "WARNING - haystack -  Object '__file__' is imported through a deprecated path. Please check out the docs for the new import path.\n",
            "WARNING - haystack -  Object '__file__' is imported through a deprecated path. Please check out the docs for the new import path.\n",
            "WARNING - haystack -  Object '__file__' is imported through a deprecated path. Please check out the docs for the new import path.\n",
            "WARNING - haystack -  Object '__file__' is imported through a deprecated path. Please check out the docs for the new import path.\n",
            "WARNING - haystack -  Object '__file__' is imported through a deprecated path. Please check out the docs for the new import path.\n",
            "WARNING - haystack -  Object '__file__' is imported through a deprecated path. Please check out the docs for the new import path.\n",
            "WARNING - haystack -  Object '__file__' is imported through a deprecated path. Please check out the docs for the new import path.\n",
            "WARNING - haystack -  Object '__file__' is imported through a deprecated path. Please check out the docs for the new import path.\n",
            "WARNING - haystack -  Object '__file__' is imported through a deprecated path. Please check out the docs for the new import path.\n",
            "WARNING - haystack -  Object '__file__' is imported through a deprecated path. Please check out the docs for the new import path.\n",
            "WARNING - haystack -  Object '__file__' is imported through a deprecated path. Please check out the docs for the new import path.\n",
            "WARNING - haystack -  Object '__file__' is imported through a deprecated path. Please check out the docs for the new import path.\n",
            "WARNING - haystack -  Object '__file__' is imported through a deprecated path. Please check out the docs for the new import path.\n"
          ]
        }
      ]
    },
    {
      "cell_type": "markdown",
      "source": [
        "**The Dataset**\n",
        "- We will use **SubjQA** dataset which consists of more than 10,000 customer reviews in English about products and services."
      ],
      "metadata": {
        "id": "XcfTWg1IpNp9"
      }
    },
    {
      "cell_type": "code",
      "source": [
        "#@ LOADING THE DATASET:\n",
        "domains = get_dataset_config_names(\"subjqa\")                # Getting domain names. \n",
        "domains                                                     # Inspection."
      ],
      "metadata": {
        "colab": {
          "base_uri": "https://localhost:8080/"
        },
        "id": "DZrs1rZ1pD-E",
        "outputId": "8e7233d7-6921-4550-afac-a49c2fb68ea0"
      },
      "execution_count": 3,
      "outputs": [
        {
          "output_type": "execute_result",
          "data": {
            "text/plain": [
              "['books', 'electronics', 'grocery', 'movies', 'restaurants', 'tripadvisor']"
            ]
          },
          "metadata": {},
          "execution_count": 3
        }
      ]
    },
    {
      "cell_type": "code",
      "source": [
        "#@ LOADING THE DATASET:\n",
        "subjqa = load_dataset(\"subjqa\", name=\"electronics\")         # Initializing electronics qa. \n",
        "print(subjqa[\"train\"][\"answers\"][1])                        # Inspecting answers."
      ],
      "metadata": {
        "colab": {
          "base_uri": "https://localhost:8080/",
          "height": 104,
          "referenced_widgets": [
            "4a64fbd76bd749f69b7010dd4c0bfb59",
            "518e3800cdbf4842ad65acc209c20789",
            "1ebb144d44ea4ed98417c1acb52cfc18",
            "cead936058994afab5bd9023a128b756",
            "24c49b7588f74d17b6e75737fb8c52e8",
            "ead7557172df496ab29620a124d11594",
            "6087bb40887546ecbdb80cfac9ec3aed",
            "815f16ed794245a2b4c7410399708f10",
            "6004e63d14ab4c1f8385682a089e534f",
            "b9a8502d6aa04652b432a5480a0164af",
            "a3a9cc85bcfe4d86adb959c00baf83d9"
          ]
        },
        "id": "hgOtwLMcqzIH",
        "outputId": "c325f70e-de5c-46f0-e402-a64ee2b26420"
      },
      "execution_count": 4,
      "outputs": [
        {
          "output_type": "stream",
          "name": "stderr",
          "text": [
            "WARNING - datasets.builder -  Reusing dataset subjqa (/root/.cache/huggingface/datasets/subjqa/electronics/1.1.0/e5588f9298ff2d70686a00cc377e4bdccf4e32287459e3c6baf2dc5ab57fe7fd)\n"
          ]
        },
        {
          "output_type": "display_data",
          "data": {
            "text/plain": [
              "  0%|          | 0/3 [00:00<?, ?it/s]"
            ],
            "application/vnd.jupyter.widget-view+json": {
              "version_major": 2,
              "version_minor": 0,
              "model_id": "4a64fbd76bd749f69b7010dd4c0bfb59"
            }
          },
          "metadata": {}
        },
        {
          "output_type": "stream",
          "name": "stdout",
          "text": [
            "{'text': ['Bass is weak as expected', 'Bass is weak as expected, even with EQ adjusted up'], 'answer_start': [1302, 1302], 'answer_subj_level': [1, 1], 'ans_subj_score': [0.5083333253860474, 0.5083333253860474], 'is_ans_subjective': [True, True]}\n"
          ]
        }
      ]
    },
    {
      "cell_type": "code",
      "source": [
        "#@ INSPECTING THE DATASET:\n",
        "dfs = {split: dset.to_pandas() for split,dset in subjqa.flatten().items()}  # Initialization.\n",
        "for split, df in dfs.items():\n",
        "    print(f\"Number of questions in {split}: {df['id'].nunique()}\")          # Inspecton."
      ],
      "metadata": {
        "colab": {
          "base_uri": "https://localhost:8080/"
        },
        "id": "G84ULSTmtcip",
        "outputId": "f5568aa2-9ddd-4cc5-8896-d8c85ffda31f"
      },
      "execution_count": 5,
      "outputs": [
        {
          "output_type": "stream",
          "name": "stdout",
          "text": [
            "Number of questions in train: 1295\n",
            "Number of questions in test: 358\n",
            "Number of questions in validation: 255\n"
          ]
        }
      ]
    },
    {
      "cell_type": "code",
      "source": [
        "#@ PREPARING THE DATASET: \n",
        "qa_cols = [\"title\", \"question\", \"answers.text\", \"answers.answer_start\", \n",
        "           \"context\"]                                                       # Initialization.\n",
        "sample_df = dfs[\"train\"][qa_cols].sample(2, random_state=7)                 # Initializing sample dataframe. \n",
        "sample_df                                                                   # Inspecting dataframe."
      ],
      "metadata": {
        "colab": {
          "base_uri": "https://localhost:8080/",
          "height": 112
        },
        "id": "7M8MNUbSu26P",
        "outputId": "45b260f9-5c33-4a9e-dca1-eb250bf2f7cf"
      },
      "execution_count": 6,
      "outputs": [
        {
          "output_type": "execute_result",
          "data": {
            "text/plain": [
              "           title                        question                answers.text  \\\n",
              "791   B005DKZTMG  Does the keyboard lightweight?  [this keyboard is compact]   \n",
              "1159  B00AAIPT76             How is the battery?                          []   \n",
              "\n",
              "     answers.answer_start  \\\n",
              "791                 [215]   \n",
              "1159                   []   \n",
              "\n",
              "                                                                              context  \n",
              "791   I really like this keyboard.  I give it 4 stars because it doesn't have a CA...  \n",
              "1159  I bought this after the first spare gopro battery I bought wouldn't hold a c...  "
            ],
            "text/html": [
              "\n",
              "  <div id=\"df-b3dff5f0-4b77-4d57-b75a-0eb95b202434\">\n",
              "    <div class=\"colab-df-container\">\n",
              "      <div>\n",
              "<style scoped>\n",
              "    .dataframe tbody tr th:only-of-type {\n",
              "        vertical-align: middle;\n",
              "    }\n",
              "\n",
              "    .dataframe tbody tr th {\n",
              "        vertical-align: top;\n",
              "    }\n",
              "\n",
              "    .dataframe thead th {\n",
              "        text-align: right;\n",
              "    }\n",
              "</style>\n",
              "<table border=\"1\" class=\"dataframe\">\n",
              "  <thead>\n",
              "    <tr style=\"text-align: right;\">\n",
              "      <th></th>\n",
              "      <th>title</th>\n",
              "      <th>question</th>\n",
              "      <th>answers.text</th>\n",
              "      <th>answers.answer_start</th>\n",
              "      <th>context</th>\n",
              "    </tr>\n",
              "  </thead>\n",
              "  <tbody>\n",
              "    <tr>\n",
              "      <th>791</th>\n",
              "      <td>B005DKZTMG</td>\n",
              "      <td>Does the keyboard lightweight?</td>\n",
              "      <td>[this keyboard is compact]</td>\n",
              "      <td>[215]</td>\n",
              "      <td>I really like this keyboard.  I give it 4 stars because it doesn't have a CA...</td>\n",
              "    </tr>\n",
              "    <tr>\n",
              "      <th>1159</th>\n",
              "      <td>B00AAIPT76</td>\n",
              "      <td>How is the battery?</td>\n",
              "      <td>[]</td>\n",
              "      <td>[]</td>\n",
              "      <td>I bought this after the first spare gopro battery I bought wouldn't hold a c...</td>\n",
              "    </tr>\n",
              "  </tbody>\n",
              "</table>\n",
              "</div>\n",
              "      <button class=\"colab-df-convert\" onclick=\"convertToInteractive('df-b3dff5f0-4b77-4d57-b75a-0eb95b202434')\"\n",
              "              title=\"Convert this dataframe to an interactive table.\"\n",
              "              style=\"display:none;\">\n",
              "        \n",
              "  <svg xmlns=\"http://www.w3.org/2000/svg\" height=\"24px\"viewBox=\"0 0 24 24\"\n",
              "       width=\"24px\">\n",
              "    <path d=\"M0 0h24v24H0V0z\" fill=\"none\"/>\n",
              "    <path d=\"M18.56 5.44l.94 2.06.94-2.06 2.06-.94-2.06-.94-.94-2.06-.94 2.06-2.06.94zm-11 1L8.5 8.5l.94-2.06 2.06-.94-2.06-.94L8.5 2.5l-.94 2.06-2.06.94zm10 10l.94 2.06.94-2.06 2.06-.94-2.06-.94-.94-2.06-.94 2.06-2.06.94z\"/><path d=\"M17.41 7.96l-1.37-1.37c-.4-.4-.92-.59-1.43-.59-.52 0-1.04.2-1.43.59L10.3 9.45l-7.72 7.72c-.78.78-.78 2.05 0 2.83L4 21.41c.39.39.9.59 1.41.59.51 0 1.02-.2 1.41-.59l7.78-7.78 2.81-2.81c.8-.78.8-2.07 0-2.86zM5.41 20L4 18.59l7.72-7.72 1.47 1.35L5.41 20z\"/>\n",
              "  </svg>\n",
              "      </button>\n",
              "      \n",
              "  <style>\n",
              "    .colab-df-container {\n",
              "      display:flex;\n",
              "      flex-wrap:wrap;\n",
              "      gap: 12px;\n",
              "    }\n",
              "\n",
              "    .colab-df-convert {\n",
              "      background-color: #E8F0FE;\n",
              "      border: none;\n",
              "      border-radius: 50%;\n",
              "      cursor: pointer;\n",
              "      display: none;\n",
              "      fill: #1967D2;\n",
              "      height: 32px;\n",
              "      padding: 0 0 0 0;\n",
              "      width: 32px;\n",
              "    }\n",
              "\n",
              "    .colab-df-convert:hover {\n",
              "      background-color: #E2EBFA;\n",
              "      box-shadow: 0px 1px 2px rgba(60, 64, 67, 0.3), 0px 1px 3px 1px rgba(60, 64, 67, 0.15);\n",
              "      fill: #174EA6;\n",
              "    }\n",
              "\n",
              "    [theme=dark] .colab-df-convert {\n",
              "      background-color: #3B4455;\n",
              "      fill: #D2E3FC;\n",
              "    }\n",
              "\n",
              "    [theme=dark] .colab-df-convert:hover {\n",
              "      background-color: #434B5C;\n",
              "      box-shadow: 0px 1px 3px 1px rgba(0, 0, 0, 0.15);\n",
              "      filter: drop-shadow(0px 1px 2px rgba(0, 0, 0, 0.3));\n",
              "      fill: #FFFFFF;\n",
              "    }\n",
              "  </style>\n",
              "\n",
              "      <script>\n",
              "        const buttonEl =\n",
              "          document.querySelector('#df-b3dff5f0-4b77-4d57-b75a-0eb95b202434 button.colab-df-convert');\n",
              "        buttonEl.style.display =\n",
              "          google.colab.kernel.accessAllowed ? 'block' : 'none';\n",
              "\n",
              "        async function convertToInteractive(key) {\n",
              "          const element = document.querySelector('#df-b3dff5f0-4b77-4d57-b75a-0eb95b202434');\n",
              "          const dataTable =\n",
              "            await google.colab.kernel.invokeFunction('convertToInteractive',\n",
              "                                                     [key], {});\n",
              "          if (!dataTable) return;\n",
              "\n",
              "          const docLinkHtml = 'Like what you see? Visit the ' +\n",
              "            '<a target=\"_blank\" href=https://colab.research.google.com/notebooks/data_table.ipynb>data table notebook</a>'\n",
              "            + ' to learn more about interactive tables.';\n",
              "          element.innerHTML = '';\n",
              "          dataTable['output_type'] = 'display_data';\n",
              "          await google.colab.output.renderOutput(dataTable, element);\n",
              "          const docLink = document.createElement('div');\n",
              "          docLink.innerHTML = docLinkHtml;\n",
              "          element.appendChild(docLink);\n",
              "        }\n",
              "      </script>\n",
              "    </div>\n",
              "  </div>\n",
              "  "
            ]
          },
          "metadata": {},
          "execution_count": 6
        }
      ]
    },
    {
      "cell_type": "code",
      "source": [
        "#@ INSPECTING THE ANSWER:\n",
        "start_index = sample_df[\"answers.answer_start\"].iloc[0][0]                  # Initializing starting index.\n",
        "end_index = start_index + len(sample_df[\"answers.text\"].iloc[0][0])         # Initializing ending index.\n",
        "sample_df[\"context\"].iloc[0][start_index:end_index]                         # Inspecting answer."
      ],
      "metadata": {
        "colab": {
          "base_uri": "https://localhost:8080/",
          "height": 35
        },
        "id": "J1zdT0ONyyNN",
        "outputId": "22b727c6-a1a4-40a3-9788-9cf8a8fe0b08"
      },
      "execution_count": 7,
      "outputs": [
        {
          "output_type": "execute_result",
          "data": {
            "text/plain": [
              "'this keyboard is compact'"
            ],
            "application/vnd.google.colaboratory.intrinsic+json": {
              "type": "string"
            }
          },
          "metadata": {},
          "execution_count": 7
        }
      ]
    },
    {
      "cell_type": "code",
      "source": [
        "#@ INSPECTING THE QUESTION:\n",
        "counts = {}                                                                       # Initialization.\n",
        "question_types = [\"What\", \"How\", \"Is\", \"Does\", \"Do\", \"Was\", \"Where\",\"Why\"]        # Initializing question words.\n",
        "for q in question_types:\n",
        "    counts[q] = dfs[\"train\"][\"question\"].str.startswith(q).value_counts()[True]   # Initializing value counts.\n",
        "pd.Series(counts).sort_values().plot.barh()                                       # Creating plots.\n",
        "plt.title(\"Frequency of Question Types\")                                          # Initialization.\n",
        "plt.show()                                                                        # Inspection. "
      ],
      "metadata": {
        "colab": {
          "base_uri": "https://localhost:8080/",
          "height": 281
        },
        "id": "vfz8ZM560H2D",
        "outputId": "f669be03-2257-4212-8d68-e32dfcd49f59"
      },
      "execution_count": 8,
      "outputs": [
        {
          "output_type": "display_data",
          "data": {
            "text/plain": [
              "<Figure size 432x288 with 1 Axes>"
            ],
            "image/png": "[encoded data removed]"
          },
          "metadata": {
            "needs_background": "light"
          }
        }
      ]
    },
    {
      "cell_type": "code",
      "source": [
        "#@ INSPECTING QUESTIONS WITH START WORDS: \n",
        "for question_type in [\"How\", \"What\", \"Is\"]:\n",
        "    for question in (dfs[\"train\"][dfs[\"train\"].question.str.startswith(question_type)]\n",
        "                     .sample(n=3, random_state=2022)[\"question\"]):\n",
        "        print(question)"
      ],
      "metadata": {
        "id": "8HiOh7McNU-W",
        "colab": {
          "base_uri": "https://localhost:8080/"
        },
        "outputId": "47bdcb6b-acd9-4ef9-d2ed-398c091a882a"
      },
      "execution_count": 9,
      "outputs": [
        {
          "output_type": "stream",
          "name": "stdout",
          "text": [
            "How are the bass?\n",
            "How is the camera?\n",
            "How is the speed?\n",
            "What is the quality of the customer service?\n",
            "What do you think about detail?\n",
            "What is amount?\n",
            "Is the option available?\n",
            "Is the hole big or small?\n",
            "Is this how zoom works?\n"
          ]
        }
      ]
    },
    {
      "cell_type": "markdown",
      "source": [
        "**Extracting Answers**"
      ],
      "metadata": {
        "id": "i44nrUB7nfTu"
      }
    },
    {
      "cell_type": "code",
      "source": [
        "#@ TOKENIZING TEXT FOR QUESTION ANSWERING: SAMPLE EXAMPLE:\n",
        "model_ckpt = \"deepset/minilm-uncased-squad2\"                        # Initializing model checkpoint.\n",
        "tokenizer = AutoTokenizer.from_pretrained(model_ckpt)               # Initializing pretrained tokenizer.\n",
        "question = \"How much music can this hold?\"                          # Initializing question.\n",
        "context = \"An MP3 is about 1 MB/minute, so about 6000 hours \\\n",
        "           depending on file size.\"                                 # Initializing context.\n",
        "inputs = tokenizer(question, context, return_tensors=\"pt\")          # Initializing input tensors.\n",
        "print(tokenizer.decode(inputs[\"input_ids\"][0]))                     # Decoding IDs. "
      ],
      "metadata": {
        "colab": {
          "base_uri": "https://localhost:8080/"
        },
        "id": "xKqGx7fSjBCJ",
        "outputId": "79f888d0-7203-4ca3-9179-227ec427cce1"
      },
      "execution_count": 10,
      "outputs": [
        {
          "output_type": "stream",
          "name": "stdout",
          "text": [
            "[CLS] how much music can this hold? [SEP] an mp3 is about 1 mb / minute, so about 6000 hours depending on file size. [SEP]\n"
          ]
        }
      ]
    },
    {
      "cell_type": "markdown",
      "source": [
        "**Training Model**"
      ],
      "metadata": {
        "id": "r1uHf4fFv52w"
      }
    },
    {
      "cell_type": "code",
      "source": [
        "#@ TRAINING THE QA MODEL:\n",
        "model = AutoModelForQuestionAnswering.from_pretrained(model_ckpt)   # Initializing pretrained model.\n",
        "with torch.no_grad():                                               # Clearing gradients.\n",
        "    outputs = model(**inputs)                                       # Implementation of model.\n",
        "print(outputs)                                                      # Inspection."
      ],
      "metadata": {
        "colab": {
          "base_uri": "https://localhost:8080/"
        },
        "id": "jxqCPji4ujBy",
        "outputId": "2fe96785-546b-4711-c518-25f651b65408"
      },
      "execution_count": 11,
      "outputs": [
        {
          "output_type": "stream",
          "name": "stdout",
          "text": [
            "QuestionAnsweringModelOutput(loss=None, start_logits=tensor([[-0.9862, -4.7750, -5.4025, -5.2378, -5.2863, -5.5117, -4.9819, -6.1880,\n",
            "         -0.9862,  0.2596, -0.2144, -1.7136,  3.7806,  4.8561, -1.0546, -3.9097,\n",
            "         -1.7374, -4.5944, -1.4278,  3.9949,  5.0391, -0.2018, -3.0193, -4.8549,\n",
            "         -2.3107, -3.5110, -3.5713, -0.9862]]), end_logits=tensor([[-0.9623, -5.4733, -5.0326, -5.1639, -5.4278, -5.5151, -5.1749, -4.6233,\n",
            "         -0.9623, -3.7855, -0.8715, -3.7745, -3.0162, -1.1780,  0.1758, -2.7365,\n",
            "          4.8934,  0.3046, -3.1761, -3.2762,  0.8937,  5.6606, -0.3623, -4.9554,\n",
            "         -3.2531, -0.0914,  1.6211, -0.9623]]), hidden_states=None, attentions=None)\n"
          ]
        }
      ]
    },
    {
      "cell_type": "code",
      "source": [
        "#@ INSPECTING MODEL OUTPUT ANSWERS: \n",
        "start_logits = outputs.start_logits                                 # Initializing output start logits.\n",
        "end_logits = outputs.end_logits                                     # Initializing output end logits.\n",
        "print(f\"Input IDs shape: {inputs.input_ids.size()}\")                # Inspection. \n",
        "print(f\"Start logits shape: {start_logits.size()}\")                 # Inspection.\n",
        "print(f\"End logits shape: {end_logits.size()}\")                     # Inspection. "
      ],
      "metadata": {
        "id": "V9kPFqo2xxYe",
        "colab": {
          "base_uri": "https://localhost:8080/"
        },
        "outputId": "5f50f303-d829-4f2c-9beb-c77ec7d3edf9"
      },
      "execution_count": 12,
      "outputs": [
        {
          "output_type": "stream",
          "name": "stdout",
          "text": [
            "Input IDs shape: torch.Size([1, 28])\n",
            "Start logits shape: torch.Size([1, 28])\n",
            "End logits shape: torch.Size([1, 28])\n"
          ]
        }
      ]
    },
    {
      "cell_type": "code",
      "source": [
        "#@ DECODING THE OUTPUT LOGITS:\n",
        "start_idx = torch.argmax(start_logits)                              # Index of maximum tensor.\n",
        "end_idx = torch.argmax(end_logits) + 1                              # Index of maximum tensor.\n",
        "answer_span = inputs[\"input_ids\"][0][start_idx:end_idx]             # Initializing answers.\n",
        "answer = tokenizer.decode(answer_span)                              # Decoding answers.\n",
        "print(f\"Question: {question}\")                                      # Inspecting question. \n",
        "print(f\"Answer: {answer}\")                                          # Inspecting answer."
      ],
      "metadata": {
        "colab": {
          "base_uri": "https://localhost:8080/"
        },
        "id": "-dZ1NA0JJdEf",
        "outputId": "c8a874c0-2ec3-41af-e0bd-bb1fbd6f8823"
      },
      "execution_count": 13,
      "outputs": [
        {
          "output_type": "stream",
          "name": "stdout",
          "text": [
            "Question: How much music can this hold?\n",
            "Answer: 6000 hours\n"
          ]
        }
      ]
    },
    {
      "cell_type": "code",
      "source": [
        "#@ QUESTION ANSWERING WITH TRANSFORMERS PIPELINE:\n",
        "pipe = pipeline(\"question-answering\", model=model, tokenizer=tokenizer)     # Initializing model pipeline.\n",
        "pipe(question=question, context=context, topk=3)                            # Inspecting output."
      ],
      "metadata": {
        "colab": {
          "base_uri": "https://localhost:8080/"
        },
        "id": "qL-iow12hQoX",
        "outputId": "42412e09-82b2-4aad-d917-03e96c0737ce"
      },
      "execution_count": 14,
      "outputs": [
        {
          "output_type": "execute_result",
          "data": {
            "text/plain": [
              "[{'answer': '6000 hours', 'end': 48, 'score': 0.2651623487472534, 'start': 38},\n",
              " {'answer': '1 MB/minute, so about 6000 hours',\n",
              "  'end': 48,\n",
              "  'score': 0.22082945704460144,\n",
              "  'start': 16},\n",
              " {'answer': '1 MB/minute',\n",
              "  'end': 27,\n",
              "  'score': 0.10253474861383438,\n",
              "  'start': 16}]"
            ]
          },
          "metadata": {},
          "execution_count": 14
        }
      ]
    },
    {
      "cell_type": "code",
      "source": [
        "#@ INSPECTING QA WITH NO ANSWERS:\n",
        "pipe(question=\"Why is there no data?\", context=context, handle_impossible_answer=True)"
      ],
      "metadata": {
        "colab": {
          "base_uri": "https://localhost:8080/"
        },
        "id": "LvnWD6LWh_Ae",
        "outputId": "8d4710e3-c16b-4b41-9b98-b5fe89f28301"
      },
      "execution_count": 15,
      "outputs": [
        {
          "output_type": "execute_result",
          "data": {
            "text/plain": [
              "{'answer': '', 'end': 0, 'score': 0.9068416357040405, 'start': 0}"
            ]
          },
          "metadata": {},
          "execution_count": 15
        }
      ]
    },
    {
      "cell_type": "markdown",
      "source": [
        "**Dealing with Long Sequences**"
      ],
      "metadata": {
        "id": "tgNIR954mMAZ"
      }
    },
    {
      "cell_type": "code",
      "source": [
        "#@ DEALING WITH LONG SEQUENCES:\n",
        "example = dfs[\"train\"].iloc[0][[\"question\", \"context\"]]                        # Initializing sample.\n",
        "tokenized_example = tokenizer(example[\"question\"], example[\"context\"], \n",
        "                              return_overflowing_tokens=True, max_length=100,\n",
        "                              stride=25)                                       # Tokenizing with sliding window.\n",
        "for idx, window in enumerate(tokenized_example[\"input_ids\"]):\n",
        "    print(f\"Window #{idx} has {len(window)} tokens.\")                          # Inspecting number of tokens. "
      ],
      "metadata": {
        "colab": {
          "base_uri": "https://localhost:8080/"
        },
        "id": "mCQ4RaM_ioWt",
        "outputId": "b33a6202-64e0-4854-9258-5bfb04d8e12f"
      },
      "execution_count": 16,
      "outputs": [
        {
          "output_type": "stream",
          "name": "stderr",
          "text": [
            "Truncation was not explicitly activated but `max_length` is provided a specific value, please use `truncation=True` to explicitly truncate examples to max length. Defaulting to 'longest_first' truncation strategy. If you encode pairs of sequences (GLUE-style) with the tokenizer you can select this strategy more precisely by providing a specific strategy to `truncation`.\n"
          ]
        },
        {
          "output_type": "stream",
          "name": "stdout",
          "text": [
            "Window #0 has 100 tokens.\n",
            "Window #1 has 88 tokens.\n"
          ]
        }
      ]
    },
    {
      "cell_type": "code",
      "source": [
        "#@ DECODING THE OUTPUTS:\n",
        "for window in tokenized_example[\"input_ids\"]:\n",
        "    print(f\"{tokenizer.decode(window)}\\n\")                                     # Decoding the outputs."
      ],
      "metadata": {
        "colab": {
          "base_uri": "https://localhost:8080/"
        },
        "id": "rRhzj8L9nnto",
        "outputId": "a4cddfd9-a1f2-4b6b-cf37-e85e1288d5a4"
      },
      "execution_count": 17,
      "outputs": [
        {
          "output_type": "stream",
          "name": "stdout",
          "text": [
            "[CLS] how is the bass? [SEP] i have had koss headphones in the past, pro 4aa and qz - 99. the koss portapro is portable and has great bass response. the work great with my android phone and can be \" rolled up \" to be carried in my motorcycle jacket or computer bag without getting crunched. they are very light and don't feel heavy or bear down on your ears even after listening to music with them on all day. the sound is [SEP]\n",
            "\n",
            "[CLS] how is the bass? [SEP] and don't feel heavy or bear down on your ears even after listening to music with them on all day. the sound is night and day better than any ear - bud could be and are almost as good as the pro 4aa. they are \" open air \" headphones so you cannot match the bass to the sealed types, but it comes close. for $ 32, you cannot go wrong. [SEP]\n",
            "\n"
          ]
        }
      ]
    },
    {
      "cell_type": "markdown",
      "source": [
        "**Haystack and QA Pipeline**"
      ],
      "metadata": {
        "id": "ywMsrE6TM9KV"
      }
    },
    {
      "cell_type": "code",
      "source": [
        "#@ INITIALIZING A DOCUMENT STORE: ELASTICSEARCH:\n",
        "url = \"\"\"https://artifacts.elastic.co/downloads/elasticsearch/\\\n",
        "elasticsearch-7.9.2-linux-x86_64.tar.gz\"\"\"\n",
        "!wget -nc -q {url}\n",
        "!tar -xzf elasticsearch-7.9.2-linux-x86_64.tar.gz"
      ],
      "metadata": {
        "id": "9NeCEI9Voy5g"
      },
      "execution_count": 18,
      "outputs": []
    },
    {
      "cell_type": "code",
      "source": [
        "#@ RUNNING ELASTIC SEARCH:\n",
        "!chown -R daemon:daemon elasticsearch-7.9.2\n",
        "es_server = Popen(args=['elasticsearch-7.9.2/bin/elasticsearch'],\n",
        "                  stdout=PIPE, stderr=STDOUT, preexec_fn=lambda: os.setuid(1))\n",
        "!sleep 30"
      ],
      "metadata": {
        "id": "OtpypDKtNhx7"
      },
      "execution_count": 19,
      "outputs": []
    },
    {
      "cell_type": "code",
      "source": [
        "#@ INSPECTION OF ELASTICSEARCH:\n",
        "!curl -X GET \"localhost:9200/?pretty\""
      ],
      "metadata": {
        "colab": {
          "base_uri": "https://localhost:8080/"
        },
        "id": "wPQaWA6pOaGB",
        "outputId": "4be9860c-b546-482e-dfb5-e083763c169f"
      },
      "execution_count": 20,
      "outputs": [
        {
          "output_type": "stream",
          "name": "stdout",
          "text": [
            "{\n",
            "  \"name\" : \"976148f80a2b\",\n",
            "  \"cluster_name\" : \"elasticsearch\",\n",
            "  \"cluster_uuid\" : \"L8FrmJifTNGn9sOYCWVwtg\",\n",
            "  \"version\" : {\n",
            "    \"number\" : \"7.9.2\",\n",
            "    \"build_flavor\" : \"default\",\n",
            "    \"build_type\" : \"tar\",\n",
            "    \"build_hash\" : \"d34da0ea4a966c4e49417f2da2f244e3e97b4e6e\",\n",
            "    \"build_date\" : \"2020-09-23T00:45:33.626720Z\",\n",
            "    \"build_snapshot\" : false,\n",
            "    \"lucene_version\" : \"8.6.2\",\n",
            "    \"minimum_wire_compatibility_version\" : \"6.8.0\",\n",
            "    \"minimum_index_compatibility_version\" : \"6.0.0-beta1\"\n",
            "  },\n",
            "  \"tagline\" : \"You Know, for Search\"\n",
            "}\n"
          ]
        }
      ]
    },
    {
      "cell_type": "code",
      "source": [
        "#@ INSTANTIATING DOCUMENT STORE:\n"
      ],
      "metadata": {
        "id": "0pOwpl22TKfS"
      },
      "execution_count": 21,
      "outputs": []
    }
  ]
}