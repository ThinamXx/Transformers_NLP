{
  "nbformat": 4,
  "nbformat_minor": 0,
  "metadata": {
    "colab": {
      "name": "Transformers&Production.ipynb",
      "provenance": [],
      "collapsed_sections": []
    },
    "kernelspec": {
      "name": "python3",
      "display_name": "Python 3"
    },
    "language_info": {
      "name": "python"
    },
    "accelerator": "GPU",
    "widgets": {
      "application/vnd.jupyter.widget-state+json": {
        "e36e838b00ad4469b85029616edb26f7": {
          "model_module": "@jupyter-widgets/controls",
          "model_name": "HBoxModel",
          "model_module_version": "1.5.0",
          "state": {
            "_dom_classes": [],
            "_model_module": "@jupyter-widgets/controls",
            "_model_module_version": "1.5.0",
            "_model_name": "HBoxModel",
            "_view_count": null,
            "_view_module": "@jupyter-widgets/controls",
            "_view_module_version": "1.5.0",
            "_view_name": "HBoxView",
            "box_style": "",
            "children": [
              "IPY_MODEL_42a3ca6387e746649e59cc4875b3defa",
              "IPY_MODEL_0b0e8ea6f5e74c1cab01fecf05752e13",
              "IPY_MODEL_63defac3d0b7402e9f5200eeaba1f9bd"
            ],
            "layout": "IPY_MODEL_9cd393eeabdd4f9ca888048056b07001"
          }
        },
        "42a3ca6387e746649e59cc4875b3defa": {
          "model_module": "@jupyter-widgets/controls",
          "model_name": "HTMLModel",
          "model_module_version": "1.5.0",
          "state": {
            "_dom_classes": [],
            "_model_module": "@jupyter-widgets/controls",
            "_model_module_version": "1.5.0",
            "_model_name": "HTMLModel",
            "_view_count": null,
            "_view_module": "@jupyter-widgets/controls",
            "_view_module_version": "1.5.0",
            "_view_name": "HTMLView",
            "description": "",
            "description_tooltip": null,
            "layout": "IPY_MODEL_97257f5089c44471a7f8b445f103ff7e",
            "placeholder": "​",
            "style": "IPY_MODEL_9666e56ea46143f8acfcc1d1db04f467",
            "value": "100%"
          }
        },
        "0b0e8ea6f5e74c1cab01fecf05752e13": {
          "model_module": "@jupyter-widgets/controls",
          "model_name": "FloatProgressModel",
          "model_module_version": "1.5.0",
          "state": {
            "_dom_classes": [],
            "_model_module": "@jupyter-widgets/controls",
            "_model_module_version": "1.5.0",
            "_model_name": "FloatProgressModel",
            "_view_count": null,
            "_view_module": "@jupyter-widgets/controls",
            "_view_module_version": "1.5.0",
            "_view_name": "ProgressView",
            "bar_style": "success",
            "description": "",
            "description_tooltip": null,
            "layout": "IPY_MODEL_00c0ee60321e40c2a996dbc211587ce6",
            "max": 3,
            "min": 0,
            "orientation": "horizontal",
            "style": "IPY_MODEL_c7038f9932bc4b69b2150acba7357db0",
            "value": 3
          }
        },
        "63defac3d0b7402e9f5200eeaba1f9bd": {
          "model_module": "@jupyter-widgets/controls",
          "model_name": "HTMLModel",
          "model_module_version": "1.5.0",
          "state": {
            "_dom_classes": [],
            "_model_module": "@jupyter-widgets/controls",
            "_model_module_version": "1.5.0",
            "_model_name": "HTMLModel",
            "_view_count": null,
            "_view_module": "@jupyter-widgets/controls",
            "_view_module_version": "1.5.0",
            "_view_name": "HTMLView",
            "description": "",
            "description_tooltip": null,
            "layout": "IPY_MODEL_eb4973bca69642d086ffb76a9eaebd5a",
            "placeholder": "​",
            "style": "IPY_MODEL_09e4230c20dd46b687fee7cca5a4efb3",
            "value": " 3/3 [00:00&lt;00:00, 45.56it/s]"
          }
        },
        "9cd393eeabdd4f9ca888048056b07001": {
          "model_module": "@jupyter-widgets/base",
          "model_name": "LayoutModel",
          "model_module_version": "1.2.0",
          "state": {
            "_model_module": "@jupyter-widgets/base",
            "_model_module_version": "1.2.0",
            "_model_name": "LayoutModel",
            "_view_count": null,
            "_view_module": "@jupyter-widgets/base",
            "_view_module_version": "1.2.0",
            "_view_name": "LayoutView",
            "align_content": null,
            "align_items": null,
            "align_self": null,
            "border": null,
            "bottom": null,
            "display": null,
            "flex": null,
            "flex_flow": null,
            "grid_area": null,
            "grid_auto_columns": null,
            "grid_auto_flow": null,
            "grid_auto_rows": null,
            "grid_column": null,
            "grid_gap": null,
            "grid_row": null,
            "grid_template_areas": null,
            "grid_template_columns": null,
            "grid_template_rows": null,
            "height": null,
            "justify_content": null,
            "justify_items": null,
            "left": null,
            "margin": null,
            "max_height": null,
            "max_width": null,
            "min_height": null,
            "min_width": null,
            "object_fit": null,
            "object_position": null,
            "order": null,
            "overflow": null,
            "overflow_x": null,
            "overflow_y": null,
            "padding": null,
            "right": null,
            "top": null,
            "visibility": null,
            "width": null
          }
        },
        "97257f5089c44471a7f8b445f103ff7e": {
          "model_module": "@jupyter-widgets/base",
          "model_name": "LayoutModel",
          "model_module_version": "1.2.0",
          "state": {
            "_model_module": "@jupyter-widgets/base",
            "_model_module_version": "1.2.0",
            "_model_name": "LayoutModel",
            "_view_count": null,
            "_view_module": "@jupyter-widgets/base",
            "_view_module_version": "1.2.0",
            "_view_name": "LayoutView",
            "align_content": null,
            "align_items": null,
            "align_self": null,
            "border": null,
            "bottom": null,
            "display": null,
            "flex": null,
            "flex_flow": null,
            "grid_area": null,
            "grid_auto_columns": null,
            "grid_auto_flow": null,
            "grid_auto_rows": null,
            "grid_column": null,
            "grid_gap": null,
            "grid_row": null,
            "grid_template_areas": null,
            "grid_template_columns": null,
            "grid_template_rows": null,
            "height": null,
            "justify_content": null,
            "justify_items": null,
            "left": null,
            "margin": null,
            "max_height": null,
            "max_width": null,
            "min_height": null,
            "min_width": null,
            "object_fit": null,
            "object_position": null,
            "order": null,
            "overflow": null,
            "overflow_x": null,
            "overflow_y": null,
            "padding": null,
            "right": null,
            "top": null,
            "visibility": null,
            "width": null
          }
        },
        "9666e56ea46143f8acfcc1d1db04f467": {
          "model_module": "@jupyter-widgets/controls",
          "model_name": "DescriptionStyleModel",
          "model_module_version": "1.5.0",
          "state": {
            "_model_module": "@jupyter-widgets/controls",
            "_model_module_version": "1.5.0",
            "_model_name": "DescriptionStyleModel",
            "_view_count": null,
            "_view_module": "@jupyter-widgets/base",
            "_view_module_version": "1.2.0",
            "_view_name": "StyleView",
            "description_width": ""
          }
        },
        "00c0ee60321e40c2a996dbc211587ce6": {
          "model_module": "@jupyter-widgets/base",
          "model_name": "LayoutModel",
          "model_module_version": "1.2.0",
          "state": {
            "_model_module": "@jupyter-widgets/base",
            "_model_module_version": "1.2.0",
            "_model_name": "LayoutModel",
            "_view_count": null,
            "_view_module": "@jupyter-widgets/base",
            "_view_module_version": "1.2.0",
            "_view_name": "LayoutView",
            "align_content": null,
            "align_items": null,
            "align_self": null,
            "border": null,
            "bottom": null,
            "display": null,
            "flex": null,
            "flex_flow": null,
            "grid_area": null,
            "grid_auto_columns": null,
            "grid_auto_flow": null,
            "grid_auto_rows": null,
            "grid_column": null,
            "grid_gap": null,
            "grid_row": null,
            "grid_template_areas": null,
            "grid_template_columns": null,
            "grid_template_rows": null,
            "height": null,
            "justify_content": null,
            "justify_items": null,
            "left": null,
            "margin": null,
            "max_height": null,
            "max_width": null,
            "min_height": null,
            "min_width": null,
            "object_fit": null,
            "object_position": null,
            "order": null,
            "overflow": null,
            "overflow_x": null,
            "overflow_y": null,
            "padding": null,
            "right": null,
            "top": null,
            "visibility": null,
            "width": null
          }
        },
        "c7038f9932bc4b69b2150acba7357db0": {
          "model_module": "@jupyter-widgets/controls",
          "model_name": "ProgressStyleModel",
          "model_module_version": "1.5.0",
          "state": {
            "_model_module": "@jupyter-widgets/controls",
            "_model_module_version": "1.5.0",
            "_model_name": "ProgressStyleModel",
            "_view_count": null,
            "_view_module": "@jupyter-widgets/base",
            "_view_module_version": "1.2.0",
            "_view_name": "StyleView",
            "bar_color": null,
            "description_width": ""
          }
        },
        "eb4973bca69642d086ffb76a9eaebd5a": {
          "model_module": "@jupyter-widgets/base",
          "model_name": "LayoutModel",
          "model_module_version": "1.2.0",
          "state": {
            "_model_module": "@jupyter-widgets/base",
            "_model_module_version": "1.2.0",
            "_model_name": "LayoutModel",
            "_view_count": null,
            "_view_module": "@jupyter-widgets/base",
            "_view_module_version": "1.2.0",
            "_view_name": "LayoutView",
            "align_content": null,
            "align_items": null,
            "align_self": null,
            "border": null,
            "bottom": null,
            "display": null,
            "flex": null,
            "flex_flow": null,
            "grid_area": null,
            "grid_auto_columns": null,
            "grid_auto_flow": null,
            "grid_auto_rows": null,
            "grid_column": null,
            "grid_gap": null,
            "grid_row": null,
            "grid_template_areas": null,
            "grid_template_columns": null,
            "grid_template_rows": null,
            "height": null,
            "justify_content": null,
            "justify_items": null,
            "left": null,
            "margin": null,
            "max_height": null,
            "max_width": null,
            "min_height": null,
            "min_width": null,
            "object_fit": null,
            "object_position": null,
            "order": null,
            "overflow": null,
            "overflow_x": null,
            "overflow_y": null,
            "padding": null,
            "right": null,
            "top": null,
            "visibility": null,
            "width": null
          }
        },
        "09e4230c20dd46b687fee7cca5a4efb3": {
          "model_module": "@jupyter-widgets/controls",
          "model_name": "DescriptionStyleModel",
          "model_module_version": "1.5.0",
          "state": {
            "_model_module": "@jupyter-widgets/controls",
            "_model_module_version": "1.5.0",
            "_model_name": "DescriptionStyleModel",
            "_view_count": null,
            "_view_module": "@jupyter-widgets/base",
            "_view_module_version": "1.2.0",
            "_view_name": "StyleView",
            "description_width": ""
          }
        }
      }
    }
  },
  "cells": [
    {
      "cell_type": "markdown",
      "source": [
        "### **Initialization**\n",
        "- I use these three lines of code on top of my each notebooks because it will help to prevent any problems while reloading the same project. And the third line of code helps to make visualization within the notebook."
      ],
      "metadata": {
        "id": "UbY7GorFZD5-"
      }
    },
    {
      "cell_type": "code",
      "execution_count": 1,
      "metadata": {
        "id": "w7ImxoBvYKYi"
      },
      "outputs": [],
      "source": [
        "#@ INITIALIZATION: \n",
        "%reload_ext autoreload\n",
        "%autoreload 2\n",
        "%matplotlib inline"
      ]
    },
    {
      "cell_type": "markdown",
      "source": [
        "**Downloading Libraries and Dependencies**\n",
        "- I have downloaded all the libraries and dependencies required for the project in one particular cell."
      ],
      "metadata": {
        "id": "W1Tms8T-ZLtU"
      }
    },
    {
      "cell_type": "code",
      "source": [
        "#@ IMPORTING MODULES: UNCOMMENT BELOW:\n",
        "# !pip install transformers\n",
        "# !pip install datasets\n",
        "import torch \n",
        "import numpy as np\n",
        "from time import perf_counter\n",
        "from pathlib import Path\n",
        "from datasets import load_dataset\n",
        "from datasets import load_metric\n",
        "from transformers import pipeline\n",
        "\n",
        "#@ IGNORING WARNINGS: \n",
        "import warnings\n",
        "warnings.filterwarnings(\"ignore\")"
      ],
      "metadata": {
        "id": "AdwWU82rZHcu"
      },
      "execution_count": 2,
      "outputs": []
    },
    {
      "cell_type": "markdown",
      "source": [
        "### **Case Study: Intent Detection**"
      ],
      "metadata": {
        "id": "oP94CoI5ZZET"
      }
    },
    {
      "cell_type": "markdown",
      "source": [
        "**The Dataset**\n",
        "- We will use CLINC150 dataset. This dataset includes 22,500 inscope queries across 150 intents and 10 domains like banking and travel, and also includes 1,200 out of scope queries. "
      ],
      "metadata": {
        "id": "OuobuopNZp2T"
      }
    },
    {
      "cell_type": "code",
      "source": [
        "#@ LOADING CLINC150 DATASET:\n",
        "clinc = load_dataset(\"clinc_oos\", \"plus\")                      # Loading dataset.\n",
        "sample = clinc[\"test\"][23]                                     # Initializing sample.\n",
        "print(sample)                                                  # Inspection.\n",
        "intents = clinc[\"test\"].features[\"intent\"]                     # Getting intent attribute.\n",
        "print(intents.int2str(sample[\"intent\"]))                       # Inspection."
      ],
      "metadata": {
        "colab": {
          "base_uri": "https://localhost:8080/",
          "height": 101,
          "referenced_widgets": [
            "e36e838b00ad4469b85029616edb26f7",
            "42a3ca6387e746649e59cc4875b3defa",
            "0b0e8ea6f5e74c1cab01fecf05752e13",
            "63defac3d0b7402e9f5200eeaba1f9bd",
            "9cd393eeabdd4f9ca888048056b07001",
            "97257f5089c44471a7f8b445f103ff7e",
            "9666e56ea46143f8acfcc1d1db04f467",
            "00c0ee60321e40c2a996dbc211587ce6",
            "c7038f9932bc4b69b2150acba7357db0",
            "eb4973bca69642d086ffb76a9eaebd5a",
            "09e4230c20dd46b687fee7cca5a4efb3"
          ]
        },
        "id": "rzv2cVuheq04",
        "outputId": "8ecfcccb-d123-4265-ee81-b673eea860a2"
      },
      "execution_count": 3,
      "outputs": [
        {
          "output_type": "stream",
          "name": "stderr",
          "text": [
            "Reusing dataset clinc_oos (/root/.cache/huggingface/datasets/clinc_oos/plus/1.0.0/abcc41d382f8137f039adc747af44714941e8196e845dfbdd8ae7a7e020e6ba1)\n"
          ]
        },
        {
          "output_type": "display_data",
          "data": {
            "text/plain": [
              "  0%|          | 0/3 [00:00<?, ?it/s]"
            ],
            "application/vnd.jupyter.widget-view+json": {
              "version_major": 2,
              "version_minor": 0,
              "model_id": "e36e838b00ad4469b85029616edb26f7"
            }
          },
          "metadata": {}
        },
        {
          "output_type": "stream",
          "name": "stdout",
          "text": [
            "{'text': 'how would i say i need directions if i were french', 'intent': 61}\n",
            "translate\n"
          ]
        }
      ]
    },
    {
      "cell_type": "code",
      "source": [
        "#@ INITIALIZING FINE-TUNED BERT BASE MODEL: \n",
        "bert_ckpt = \"transformersbook/bert-base-uncased-finetuned-clinc\"                    # Initializing model checkpoint.\n",
        "pipe = pipeline(\"text-classification\", model=bert_ckpt)                             # Initializing pretrained bert pipeline. "
      ],
      "metadata": {
        "id": "B4-wJ5QsZi4k"
      },
      "execution_count": 4,
      "outputs": []
    },
    {
      "cell_type": "code",
      "source": [
        "#@ IMPLEMENTATION OF BERT:\n",
        "query = \"\"\"Hey, I'd like to rent a vehicle from Nov 1st to Nov 15th in\n",
        "Paris and I need a 15 passenger van\"\"\"                                              # Initializing example query.\n",
        "pipe(query)                                                                         # Implementation of bert model."
      ],
      "metadata": {
        "colab": {
          "base_uri": "https://localhost:8080/"
        },
        "id": "4cK8IqRpbCMX",
        "outputId": "f212bbce-529e-4409-fe68-17ca5f377b79"
      },
      "execution_count": 5,
      "outputs": [
        {
          "output_type": "execute_result",
          "data": {
            "text/plain": [
              "[{'label': 'car_rental', 'score': 0.5490034818649292}]"
            ]
          },
          "metadata": {},
          "execution_count": 5
        }
      ]
    },
    {
      "cell_type": "markdown",
      "source": [
        "**Performance Benchmark**"
      ],
      "metadata": {
        "id": "DDjge7pYcvuz"
      }
    },
    {
      "cell_type": "code",
      "source": [
        "#@ SKELETON OF PERFORMANCE BENCHMARK:\n",
        "class PerformanceBenchmark:                                            \n",
        "    def __init__(self, pipeline, dataset, optim_type=\"BERT baseline\"):\n",
        "        self.pipeline = pipeline\n",
        "        self.dataset = dataset\n",
        "        self.optim_type = optim_type\n",
        "    \n",
        "    def compute_accuracy(self):\n",
        "        pass\n",
        "    \n",
        "    def compute_size(self):\n",
        "        pass\n",
        "    \n",
        "    def time_pipeline(self):\n",
        "        pass\n",
        "    \n",
        "    def run_benchmark(self):\n",
        "        metrics = {}\n",
        "        metrics[self.optim_type] = self.compute_size()\n",
        "        metrics[self.optim_type].update(self.time_pipeline())\n",
        "        metrics[self.optim_type].update(self.compute_accuracy())\n",
        "        return metrics"
      ],
      "metadata": {
        "id": "kY1wtnTHbcyG"
      },
      "execution_count": 6,
      "outputs": []
    },
    {
      "cell_type": "code",
      "source": [
        "#@ FUNCTION FOR COMPUTING ACCURACY:\n",
        "accuracy_score = load_metric(\"accuracy\")                            # Initializing accuracy metric.\n",
        "def compute_accuracy(self):                                         # Defining compute accuracy function.\n",
        "    preds, labels = [], []                                          # Initialization.\n",
        "    for example in self.dataset:\n",
        "        pred = self.pipeline(example[\"text\"])[0][\"label\"]           # Initializing predictions.\n",
        "        label = example[\"intent\"]                                   # Initializing true label.\n",
        "        preds.append(intents.str2int(pred))                         # Adding to predictions.\n",
        "        labels.append(label)                                        # Adding to labels.\n",
        "    accuracy = accuracy_score.compute(predictions=preds,\n",
        "                                      references=labels)            # Getting accuracy score.\n",
        "    print(f\"Accuracy on test set - {accuracy['accuracy']:.3f}\")     # Inspecting accuracy.\n",
        "    return accuracy\n",
        "\n",
        "#@ ADDING TO PERFORMANCE BENCHMARK:\n",
        "PerformanceBenchmark.compute_accuracy = accuracy_score              # Adding accuracy score."
      ],
      "metadata": {
        "id": "ma8fd7Bqge5C"
      },
      "execution_count": 7,
      "outputs": []
    },
    {
      "cell_type": "code",
      "source": [
        "def compute_accuracy(self):\n",
        "    preds, labels = [], []\n",
        "    for example in self.dataset:\n",
        "        pred = self.pipeline(example[\"text\"])[0][\"label\"]\n",
        "        label = example[\"intent\"]\n",
        "        preds.append(intents.str2int(pred))\n",
        "        labels.append(label)\n",
        "    accuracy = accuracy_score.compute(predictions=preds, references=labels)\n",
        "    print(f\"Accuracy on test set - {accuracy['accuracy']:.3f}\")\n",
        "    return accuracy\n",
        "PerformanceBenchmark.compute_accuracy = compute_accuracy"
      ],
      "metadata": {
        "id": "-ccc-mvJG4DZ"
      },
      "execution_count": 8,
      "outputs": []
    },
    {
      "cell_type": "code",
      "source": [
        "#@ INSPECTING SIZE OF MODEL:\n",
        "list(pipe.model.state_dict().items())[23]                           "
      ],
      "metadata": {
        "colab": {
          "base_uri": "https://localhost:8080/"
        },
        "id": "9kQ0_xdUzxE-",
        "outputId": "3e782df5-90df-4cfc-d63b-41134d21e99e"
      },
      "execution_count": 9,
      "outputs": [
        {
          "output_type": "execute_result",
          "data": {
            "text/plain": [
              "('bert.encoder.layer.1.attention.self.query.bias',\n",
              " tensor([-2.7731e-01,  1.7375e-01, -2.4911e-01, -8.8099e-01,  4.1298e-01,\n",
              "          1.5590e-02,  5.0920e-01,  2.6641e-01,  4.0497e-01,  3.3502e-02,\n",
              "          8.8779e-01,  4.7020e-01,  8.2251e-03, -8.0806e-01,  4.2484e-01,\n",
              "          9.7985e-03, -2.6104e-01,  1.8233e-01,  3.0953e-01,  1.0791e-01,\n",
              "          2.8354e-01, -3.3286e-01,  6.4774e-01, -3.4947e-03,  7.4745e-01,\n",
              "          1.8023e-02,  2.8089e-01, -5.8654e-01, -4.7697e-02, -4.2555e-01,\n",
              "          7.5222e-01, -3.6536e-01, -5.2892e-01, -4.3233e-01, -2.4072e-01,\n",
              "          6.1750e-01,  2.3975e-01,  5.2870e-01,  4.0786e-01, -5.0314e-01,\n",
              "         -3.0598e-01,  5.5550e-01, -3.4961e-01,  7.0972e-01,  6.0526e-01,\n",
              "          5.7314e-01, -1.8228e-01, -8.3693e-02, -3.2728e-01, -9.6335e-02,\n",
              "          2.4435e-01, -2.2558e-03,  5.0501e-01, -1.9865e-01, -2.6915e-02,\n",
              "         -3.7415e-01,  3.5009e-01,  7.1231e-01,  1.0904e-01,  3.3678e-01,\n",
              "          3.2403e-01, -2.1816e-01,  6.0707e-01,  5.5292e-01,  2.1429e-01,\n",
              "         -1.1166e-02,  7.5879e-02, -1.2004e-01, -2.3154e-02,  4.5971e-02,\n",
              "          6.3244e-02,  6.2647e-02, -2.0736e-01, -7.0139e-02, -5.2978e-01,\n",
              "          3.8621e-02,  7.3001e-03, -2.5795e-01,  4.2304e-02, -2.3689e-03,\n",
              "          5.7712e-01,  8.4489e-02, -5.3026e-02, -9.7550e-03, -3.8014e-04,\n",
              "         -1.2202e-01, -6.9917e-02,  2.7340e-02,  2.4587e-02,  1.5737e-01,\n",
              "         -3.1663e-02,  1.2723e-02, -1.8598e-01,  2.1222e-02, -1.0439e-01,\n",
              "         -7.6691e-02,  2.0593e-01,  1.6030e-01, -1.9396e-01,  1.3485e-01,\n",
              "         -2.3534e-02, -1.3680e-01,  5.5681e-01,  3.3415e-01, -1.0203e-01,\n",
              "          2.2458e-01, -5.3816e-02, -7.9473e-02,  1.6172e-01, -1.4672e-01,\n",
              "          3.8894e-03, -9.9028e-02,  1.1473e-01,  4.1348e-01, -1.3547e-01,\n",
              "         -1.1128e-01,  1.1845e-01,  1.1950e-01, -4.0092e-02,  3.5356e-04,\n",
              "         -1.7255e-01, -1.0283e-01,  6.2781e-01, -2.3601e-02, -6.4774e-02,\n",
              "         -1.7526e-01,  7.3508e-02,  2.2762e-02, -1.0903e-01,  3.5889e-03,\n",
              "         -8.5994e-02,  9.5379e-02, -5.3386e-02,  1.1949e-01, -3.8909e-02,\n",
              "         -7.8830e-02, -1.3846e-01,  7.0080e-03, -6.7677e-02, -1.8488e-02,\n",
              "          1.7014e-01, -3.0915e-02,  5.2984e-03,  1.0716e-01,  1.3768e-01,\n",
              "          1.5173e-02, -1.2269e-01, -5.8436e-02, -6.3655e-02, -5.8587e-02,\n",
              "          8.7156e-02,  9.0905e-03, -4.7566e-02, -1.5498e-02,  8.9001e-02,\n",
              "         -4.0539e-02,  4.5950e-02,  5.4879e-02, -5.2272e-02, -4.7408e-02,\n",
              "         -1.7830e-02,  9.2772e-03, -2.2695e-01,  1.7362e-02, -8.0734e-02,\n",
              "          3.4612e-02,  3.9307e-02, -1.7315e-02, -4.8014e-02,  1.0031e-02,\n",
              "          1.1541e-01, -9.0714e-02,  2.2456e-02,  2.5332e-01,  3.9377e-02,\n",
              "         -9.7246e-02,  2.8322e-02,  5.9131e-02,  1.8403e-02, -1.7283e-03,\n",
              "          2.5497e-02,  4.2567e-02,  7.6960e-02, -2.9831e-02,  5.1548e-02,\n",
              "         -3.2240e-02, -4.1965e-03, -5.3262e-02,  1.4213e-01, -4.3370e-03,\n",
              "         -1.8686e-02, -7.0965e-02, -2.5380e-02, -4.1080e-02,  1.4292e-02,\n",
              "         -6.2054e-02,  2.3890e-02, -2.0389e-02,  5.0235e-02,  2.4346e-02,\n",
              "         -4.7676e-02, -1.4871e-02,  6.6044e-02, -4.5943e-02, -1.4446e-02,\n",
              "          6.4252e-02, -6.8981e-03, -8.3888e-02, -5.2612e-02, -8.3251e-02,\n",
              "          4.1376e-02,  1.9228e-02, -2.7210e-02, -7.9955e-03, -7.8171e-03,\n",
              "          2.9827e-02, -3.6094e-02, -3.5554e-03,  1.4413e-02, -4.3385e-02,\n",
              "         -1.7421e-02,  2.8321e-02, -2.8690e-02, -7.0185e-02, -9.0079e-03,\n",
              "          1.1777e-01, -1.8762e-02,  7.5712e-02, -7.5216e-03, -2.3260e-02,\n",
              "          4.2757e-02,  5.9019e-04, -3.9529e-02,  4.5616e-02,  1.7649e-02,\n",
              "         -1.1989e-01, -4.1841e-03, -9.6500e-02,  3.1973e-02,  1.1684e-02,\n",
              "         -3.8345e-02,  1.2476e-02, -1.1938e-02, -8.4924e-03, -1.6090e-03,\n",
              "         -7.3050e-02,  1.5347e-02,  2.1314e-02, -8.3031e-02,  1.5970e-02,\n",
              "          6.4380e-02,  3.9348e-02,  1.5801e-02, -2.8531e-03, -8.2774e-02,\n",
              "         -3.9415e-02, -6.0802e-02, -4.1604e-02, -1.9993e-01, -3.0131e-02,\n",
              "          1.8855e-01, -1.3408e-02,  6.3838e-02, -1.6109e-01, -7.7488e-02,\n",
              "          2.1673e-02, -2.8902e-02,  2.7470e-02,  1.3055e-02, -1.0364e-01,\n",
              "         -1.7923e-01,  2.9268e-01,  1.2679e-01, -1.1857e-01, -1.0719e-01,\n",
              "         -3.7524e-03,  3.5593e-02, -1.8056e-01, -1.2529e-01,  4.6490e-01,\n",
              "          3.8833e-02, -2.1814e-01,  5.3147e-02, -8.8503e-02,  1.9627e-01,\n",
              "         -2.2222e-01, -9.4264e-02, -1.2288e-01,  6.3232e-02, -4.5113e-02,\n",
              "          1.4622e-02,  7.0139e-02, -2.2795e-01, -3.1246e-02,  9.1022e-02,\n",
              "          5.0808e-01,  2.4220e-02,  4.9512e-02,  1.0975e-01, -1.1838e-01,\n",
              "         -2.7898e-02, -3.1088e-02, -1.0155e-02, -5.9772e-03, -3.2881e-01,\n",
              "         -7.1920e-02,  6.4707e-02, -1.3132e-01,  4.2441e-02,  2.6663e-01,\n",
              "         -2.1106e-01, -6.0734e-02, -2.8588e-02,  9.4004e-03, -3.1357e-02,\n",
              "          3.8399e-01,  1.0205e-01,  2.9264e-01, -2.9228e-02,  1.6499e-02,\n",
              "          1.6165e-02,  1.4244e-01,  6.9231e-02,  7.8342e-03, -1.6298e-01,\n",
              "          1.8808e-03,  8.0569e-02, -1.2198e-01,  8.7192e-02, -6.1057e-02,\n",
              "         -5.0297e-02, -7.6917e-02, -2.3672e-02, -1.0660e-01,  5.8505e-02,\n",
              "         -1.4151e-02, -2.0344e-02, -6.9985e-03, -3.7436e-02, -8.3248e-02,\n",
              "         -1.7007e-02, -6.2096e-02,  5.0778e-02, -2.7653e-02,  1.7011e-01,\n",
              "          1.4659e-01,  1.2628e-01, -1.0779e-01,  7.4552e-03, -1.3809e-02,\n",
              "          4.2064e-02, -9.9378e-02,  6.0433e-02, -7.2632e-02, -5.3986e-02,\n",
              "          7.0328e-02,  2.2490e-02, -8.9838e-03,  1.2959e-01,  7.5946e-02,\n",
              "          1.6836e-01, -6.8273e-02, -9.5793e-02, -1.2855e-01,  2.9790e-02,\n",
              "         -1.9408e-01,  3.2564e-02,  1.1421e-01,  2.3100e-01,  7.5987e-02,\n",
              "         -3.3143e-02, -4.8019e-02,  7.6723e-02,  3.4644e-02,  9.6446e-03,\n",
              "          1.0845e-01,  1.2255e-01,  4.9370e-02,  1.1802e-01,  5.3488e-02,\n",
              "          5.0972e-02, -5.8746e-02,  4.4874e-02, -4.5514e-02,  7.8849e-02,\n",
              "          1.6951e-02,  1.1735e-01,  8.1674e-02,  4.1789e-01,  3.5565e-01,\n",
              "         -7.5955e-02,  1.4844e-01,  6.6588e-02, -6.6348e-01,  2.4441e-02,\n",
              "         -6.6904e-01,  4.2596e-02, -1.5653e-01, -2.7593e-02, -6.4355e-02,\n",
              "         -1.2714e-01,  1.0488e-02, -6.9452e-02,  3.0073e-01, -2.7870e-02,\n",
              "         -2.5864e-02, -3.4916e-02, -9.7924e-02,  4.0809e-03,  1.6450e-01,\n",
              "         -3.8433e-02, -4.1521e-02, -1.0082e-02,  3.7705e-02, -2.2506e-01,\n",
              "         -5.3632e-02,  2.7291e-02,  1.7292e-02, -1.9850e-02,  2.8832e-01,\n",
              "          2.4413e-02,  4.5344e-02,  4.9972e-01, -4.5995e-03, -7.3375e-02,\n",
              "         -1.0058e-01, -5.3661e-02,  1.8683e-03,  2.1705e-01,  5.2277e-02,\n",
              "         -2.4493e-01,  3.5017e-03,  1.5687e-01,  5.6438e-01,  5.1002e-02,\n",
              "         -3.6750e-02,  6.4826e-02,  1.7345e-02, -1.1075e-01, -4.4829e-02,\n",
              "         -6.8353e-02,  2.1973e-01, -3.9711e-02,  7.3235e-03, -5.3000e-01,\n",
              "          2.6575e-01, -1.6442e-01,  2.0283e-01, -5.6025e-02, -1.7578e-01,\n",
              "         -6.0817e-02, -1.9939e-01,  9.9015e-02, -2.5054e-02,  3.6122e-02,\n",
              "          5.7631e-02, -9.0031e-03,  5.3738e-02, -6.9724e-02, -9.6262e-02,\n",
              "          4.6044e-02,  1.2081e-01, -2.3005e-01, -1.6740e-02,  2.1563e-02,\n",
              "          5.1409e-02,  2.5047e-02,  1.3591e-02, -2.4035e-02,  2.5912e-01,\n",
              "         -3.7709e-02, -8.4295e-02, -8.3958e-02, -3.4459e-02, -1.6302e-01,\n",
              "         -1.0043e-01,  6.7663e-02,  7.8705e-02,  4.4512e-02, -5.2354e-02,\n",
              "         -3.7876e-02,  5.2861e-02, -9.9184e-04, -7.0761e-02, -4.2532e-02,\n",
              "          2.4291e-01, -3.2535e-02, -4.0748e-02, -2.0902e-02, -1.0481e-01,\n",
              "          1.0874e-01,  3.0070e-02, -1.9178e-01, -6.8354e-02,  1.5957e-01,\n",
              "          6.6049e-02, -5.0260e-02, -2.3514e-02,  2.0226e-01,  8.4871e-03,\n",
              "         -4.2943e-02, -2.2062e-02,  1.9089e-02, -3.8443e-02, -6.8456e-02,\n",
              "          8.6495e-02, -8.4302e-02,  1.3939e-01,  9.0991e-02,  4.8660e-02,\n",
              "          1.4190e-01,  4.3200e-02, -5.8922e-02, -1.3695e-02, -6.8284e-02,\n",
              "          1.2766e-01,  8.7655e-02, -5.1398e-02, -8.5293e-02, -4.9008e-02,\n",
              "          4.0053e-02,  3.5135e-02,  3.8660e-02,  2.0205e-02,  3.7805e-02,\n",
              "          1.0262e-01, -5.3084e-02, -3.4929e-02,  2.7189e-03, -2.4390e-02,\n",
              "         -3.6868e-02,  1.5253e-01,  2.2669e-02, -6.1792e-02,  1.5552e-01,\n",
              "          5.9616e-03, -2.7818e-03, -2.6340e-01, -7.2456e-02, -2.8863e-02,\n",
              "          1.7150e-01, -3.4038e-02, -3.9298e-02,  3.4349e-02,  7.5418e-03,\n",
              "          7.8321e-02,  8.2657e-02,  1.9142e-01, -1.0340e-01, -1.2919e-01,\n",
              "          1.5553e-02, -1.1370e-02, -5.6807e-02, -5.7600e-02, -9.6051e-02,\n",
              "          3.5224e-02, -1.4962e-01, -4.5491e-02, -5.4600e-02, -5.1501e-03,\n",
              "         -9.5644e-03,  1.5847e-02, -7.9749e-02,  5.1220e-02,  2.0820e-01,\n",
              "          2.1361e-01, -2.2910e-01, -8.7881e-02, -5.9701e-02, -1.7084e-01,\n",
              "         -2.2553e-02, -6.6924e-02,  1.1976e-02, -1.4016e-01,  8.9537e-02,\n",
              "          5.7898e-02,  1.7666e-01, -9.8345e-03, -9.0073e-02, -4.9780e-01,\n",
              "          4.6592e-01,  1.4171e-01, -2.3198e-01, -5.7589e-02,  3.9827e-02,\n",
              "         -2.8251e-01,  6.5788e-01, -8.3896e-02,  1.1622e-01,  8.9272e-03,\n",
              "          2.1387e-02,  2.5118e-01,  5.1180e-03,  1.8220e-03, -3.3286e-02,\n",
              "         -3.4575e-01, -1.1010e-01,  1.9630e-01, -1.8168e-01,  9.2473e-02,\n",
              "         -2.5912e-01,  4.3629e-01, -2.8455e-02, -1.1034e-01, -4.0831e-02,\n",
              "          3.7456e-01,  2.2222e-01,  6.6916e-02, -5.6182e-02, -2.7424e-01,\n",
              "          3.1912e-01,  2.8273e-01,  4.5223e-01,  5.5940e-02,  3.4334e-01,\n",
              "         -1.8608e-01, -1.7972e-01,  6.9096e-02, -1.9562e-01,  7.2993e-02,\n",
              "         -1.2279e-01,  1.6159e-01,  5.0223e-02, -3.1306e-02,  9.6906e-02,\n",
              "          1.5809e-02,  4.4334e-01, -2.4773e-01, -2.8529e-01, -1.1249e-03,\n",
              "          1.7664e-01, -5.8493e-03, -2.3149e-02, -2.0093e-01, -1.5093e-01,\n",
              "          4.3194e-01,  1.2958e-01, -7.9650e-02, -5.8823e-03,  4.3405e-01,\n",
              "         -5.8915e-02,  1.0834e-02, -4.3460e-02,  5.2600e-03,  7.2488e-02,\n",
              "          7.4811e-02, -5.1075e-02,  1.3064e-02,  7.3458e-02, -1.7651e-01,\n",
              "         -1.8639e-01, -6.4107e-03,  1.0461e-01, -7.2839e-04,  4.3051e-02,\n",
              "         -3.3405e-02, -6.6025e-02,  7.3576e-02, -2.4760e-01, -9.1897e-02,\n",
              "          7.0493e-04,  3.1726e-01,  1.1858e-02, -1.7052e-01,  1.9875e-02,\n",
              "          2.9472e-02, -9.5917e-03,  1.1886e-01, -4.8316e-02, -1.3284e-02,\n",
              "         -6.6753e-02,  5.4434e-02,  7.8686e-03,  9.4385e-02,  2.6613e-02,\n",
              "          5.4716e-02, -1.0693e-01, -4.6942e-02,  1.5700e-01,  1.6080e-01,\n",
              "          1.8890e-02, -8.5187e-02,  1.1296e-02,  1.2636e-01,  2.0348e-02,\n",
              "          8.1263e-02, -2.9644e-03,  1.2305e-01,  5.5139e-02, -1.4344e-02,\n",
              "         -8.6334e-02, -2.5021e-02,  9.2339e-02,  3.7045e-02,  4.1094e-02,\n",
              "          2.6391e-02, -9.4522e-02,  6.7746e-02,  7.8943e-02, -2.3626e-01,\n",
              "          1.1318e-01,  6.3173e-02, -3.6302e-02,  1.9123e-02, -6.3234e-03,\n",
              "          1.3247e-02, -7.0154e-02,  8.2902e-02, -2.1613e-02,  1.9168e-02,\n",
              "         -1.3679e-02,  1.0143e-01, -2.6024e-02, -5.0486e-03, -1.6296e-02,\n",
              "          8.2551e-02,  8.1735e-02,  3.4076e-02,  5.7586e-02,  9.7447e-02,\n",
              "         -5.8082e-02, -9.0800e-02,  5.0277e-02, -2.9732e-02,  2.8876e-02,\n",
              "          2.2347e-02,  1.1526e-02, -3.9681e-02,  2.8558e-02, -2.3219e-02,\n",
              "          4.3705e-02,  5.6048e-03,  5.7754e-01,  6.8597e-02,  3.6002e-03,\n",
              "         -2.6037e-02, -4.2234e-02, -5.7109e-02, -9.0468e-02,  3.8016e-02,\n",
              "         -8.9630e-02, -7.0548e-02,  7.2946e-02, -5.7245e-02, -7.1762e-02,\n",
              "         -8.1316e-02, -5.8624e-02,  8.7128e-02,  7.7109e-02, -1.3160e-02,\n",
              "         -1.0237e-01, -3.9306e-02,  4.2629e-02,  1.1223e-01, -6.6089e-03,\n",
              "         -3.8085e-02, -3.4308e-02,  3.6991e-02, -1.5673e-02, -6.4987e-02,\n",
              "          1.9165e-02, -1.2325e-02,  2.7843e-02,  4.7063e-02, -1.1278e-04,\n",
              "         -7.4892e-02,  1.2051e-01, -3.4942e-03]))"
            ]
          },
          "metadata": {},
          "execution_count": 9
        }
      ]
    },
    {
      "cell_type": "code",
      "source": [
        "#@ FUNCTION FOR COMPUTING MODEL SIZE:\n",
        "def compute_size(self):                                         # Defining function.\n",
        "    state_dict = self.pipeline.model.state_dict()               # Initializing model dictionary.\n",
        "    tmp_path = Path(\"model.pt\")                                 # Initializing model path.\n",
        "    torch.save(state_dict, tmp_path)                            # Saving the model.\n",
        "    size_mb = Path(tmp_path).stat().st_size / (1024 * 1024)     # Getting size in megabytes. \n",
        "    tmp_path.unlink()                                           # Deleting temporary file.\n",
        "    print(f\"Model size (MB) - {size_mb:.2f}\")                   # Inspecting size.\n",
        "    return {\"size_mb\": size_mb}\n",
        "\n",
        "#@ ADDING TO PERFORMANCE BENCHMARK:\n",
        "PerformanceBenchmark.compute_size = compute_size                # Adding to performance benchmark."
      ],
      "metadata": {
        "id": "G8YiMsGS0MvE"
      },
      "execution_count": 10,
      "outputs": []
    },
    {
      "cell_type": "code",
      "source": [
        "#@ CALCULATING TIME OF PIPELINE: \n",
        "for _ in range(3):\n",
        "    start_time = perf_counter()                                 # Starting time.\n",
        "    _ = pipe(query)                                             # Running pipeline.\n",
        "    latency = perf_counter() - start_time                       # Calculating latency.\n",
        "    print(f\"Latency (ms) - {1000 * latency:.3f}\")               # Inspection."
      ],
      "metadata": {
        "colab": {
          "base_uri": "https://localhost:8080/"
        },
        "id": "WZcwFGmY3oBf",
        "outputId": "3bc2ac63-2626-436f-d37d-3a9286767818"
      },
      "execution_count": 11,
      "outputs": [
        {
          "output_type": "stream",
          "name": "stdout",
          "text": [
            "Latency (ms) - 118.871\n",
            "Latency (ms) - 123.346\n",
            "Latency (ms) - 150.441\n"
          ]
        }
      ]
    },
    {
      "cell_type": "code",
      "source": [
        "#@ FUNCTION TO CALCULATE TIME OF PIPELINE:\n",
        "def time_pipeline(self, query=\"What is the pin number for my account?\"):    # Defining function.\n",
        "    latencies = []                                                          # Initialization.\n",
        "    for _ in range(10):\n",
        "        _ = self.pipeline(query)                                            # Implementation of pipeline. \n",
        "    for _ in range(100):\n",
        "        start_time = perf_counter()                                         # Starting time.\n",
        "        _ = self.pipeline(query)                                            # Running pipeline.\n",
        "        latency = perf_counter() - start_time                               # Calculating latency.\n",
        "        latencies.append(latency)                                           # Adding latencies.\n",
        "    time_avg_ms = 1000 * np.mean(latencies)                                 # Time average.\n",
        "    time_std_ms = 1000 * np.std(latencies)                                  # Time standard deviation. \n",
        "    print(f\"Average latency (ms) - {time_avg_ms:.2f} +\\- {time_std_ms:.2f}\")\n",
        "    return {\"time_avg_ms\": time_avg_ms, \"time_std_ms\":time_std_ms}      \n",
        "\n",
        "#@ ADDING TO PERFORMANCE BENCHMARK:\n",
        "PerformanceBenchmark.time_pipeline = time_pipeline                          # Adding to performance benchmark. "
      ],
      "metadata": {
        "id": "seeaQ7fn-bab"
      },
      "execution_count": 12,
      "outputs": []
    },
    {
      "cell_type": "code",
      "source": [
        "#@ INSPECTING PERFORMANCE BENCHMARK:\n",
        "pb = PerformanceBenchmark(pipe, clinc[\"test\"])                              # Initializing performance benchmark class.\n",
        "perf_metrics = pb.run_benchmark()                                           # Getting metrics. "
      ],
      "metadata": {
        "colab": {
          "base_uri": "https://localhost:8080/"
        },
        "id": "iQLixsAtCpi7",
        "outputId": "498009be-cd6b-4c81-84f8-63dc0fd32201"
      },
      "execution_count": 13,
      "outputs": [
        {
          "output_type": "stream",
          "name": "stdout",
          "text": [
            "Model size (MB) - 418.16\n",
            "Average latency (ms) - 77.72 +\\- 3.71\n",
            "Accuracy on test set - 0.867\n"
          ]
        }
      ]
    },
    {
      "cell_type": "markdown",
      "source": [
        "### **Knowledge Distillation**\n",
        "- Knowledge distillation is a general purpose method for training a smaller `student` model to mimic the behavior of a slower, larger, but better performing `teacher` model. "
      ],
      "metadata": {
        "id": "cjo1ecM0KRp3"
      }
    },
    {
      "cell_type": "code",
      "source": [
        ""
      ],
      "metadata": {
        "id": "KuIWpAFADTyB"
      },
      "execution_count": 13,
      "outputs": []
    }
  ]
}