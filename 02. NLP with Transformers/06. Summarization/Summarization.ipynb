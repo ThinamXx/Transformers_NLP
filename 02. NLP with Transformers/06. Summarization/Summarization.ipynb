{
  "cells": [
    {
      "cell_type": "markdown",
      "metadata": {
        "id": "mC71KA9MBkG3"
      },
      "source": [
        "**Initialization**\n",
        "- I use these three lines of code on top of my each notebooks because it will help to prevent any problems while reloading the same project. And the third line of code helps to make visualization within the notebook."
      ]
    },
    {
      "cell_type": "code",
      "execution_count": 1,
      "metadata": {
        "id": "yX3zp8BhBaa8"
      },
      "outputs": [],
      "source": [
        "#@ INITIALIZATION: \n",
        "%reload_ext autoreload\n",
        "%autoreload 2\n",
        "%matplotlib inline"
      ]
    },
    {
      "cell_type": "markdown",
      "metadata": {
        "id": "ruMZii43Bq8N"
      },
      "source": [
        "**Downloading Libraries and Dependencies**\n",
        "- I have downloaded all the libraries and dependencies required for the project in one particular cell."
      ]
    },
    {
      "cell_type": "code",
      "execution_count": 19,
      "metadata": {
        "id": "n41mDCY7BoPh"
      },
      "outputs": [],
      "source": [
        "#@ IMPORTING MODULES: UNCOMMENT BELOW:\n",
        "# !pip install transformers[sentencepiece]\n",
        "# !pip install datasets\n",
        "# !pip install sacrebleu\n",
        "# !pip install rouge_score\n",
        "# !pip install py7zr\n",
        "import torch\n",
        "import nltk\n",
        "# nltk.download('punkt')\n",
        "import pandas as pd\n",
        "import numpy as np\n",
        "import torch.nn.functional as F\n",
        "import matplotlib.pyplot as plt\n",
        "from tqdm import tqdm\n",
        "from nltk.tokenize import sent_tokenize\n",
        "from datasets import load_dataset\n",
        "from datasets import load_metric\n",
        "from transformers import pipeline\n",
        "from transformers import set_seed\n",
        "from transformers import AutoTokenizer\n",
        "from transformers import AutoModelForSeq2SeqLM\n",
        "from transformers import DataCollatorForSeq2Seq\n",
        "from transformers import Trainer\n",
        "from transformers import TrainingArguments\n",
        "\n",
        "#@ IGNORING WARNINGS: \n",
        "import warnings\n",
        "warnings.filterwarnings(\"ignore\")"
      ]
    },
    {
      "cell_type": "markdown",
      "metadata": {
        "id": "vEfMmhDCCVso"
      },
      "source": [
        "**The CNN/DailyMail Dataset**\n",
        "- This dataset consists of around 300,000 pairs of news articles and their corresponding summaries, composed from the bullet points that CNN and DailyMail attach to their articles."
      ]
    },
    {
      "cell_type": "code",
      "execution_count": null,
      "metadata": {
        "colab": {
          "base_uri": "https://localhost:8080/",
          "height": 101,
          "referenced_widgets": [
            "60bca731251745a1bf1053c3f58b7bf1",
            "fe59b94d747b45c58bb40393bcdee5e2",
            "8d2c80e8108d44e3aa3732ac96496eb9",
            "b8b04cf2f62f425cb31818bb32bd530f",
            "dd7e16751f8449c9942354665fe7e2a7",
            "de649213469e44c6b01d4de698d00f7c",
            "e99073b7bcfa4e7ab7c1c446d8f0df5f",
            "2608c69ea2294b1986510da3175b6936",
            "56c7e495f63145e0978e308ea9c746ea",
            "c247c98756f04f9cb4044415a785801e",
            "c4d50e0574a84d86937082e7f358c819"
          ]
        },
        "id": "b-BKfP4rB4gy",
        "outputId": "db34012c-4c70-4edf-af89-69024de12045"
      },
      "outputs": [
        {
          "name": "stderr",
          "output_type": "stream",
          "text": [
            "Using custom data configuration default\n",
            "Reusing dataset cnn_dailymail (/root/.cache/huggingface/datasets/cnn_dailymail/default/3.0.0/3cb851bf7cf5826e45d49db2863f627cba583cbc32342df7349dfe6c38060234)\n"
          ]
        },
        {
          "data": {
            "application/vnd.jupyter.widget-view+json": {
              "model_id": "60bca731251745a1bf1053c3f58b7bf1",
              "version_major": 2,
              "version_minor": 0
            },
            "text/plain": [
              "  0%|          | 0/3 [00:00<?, ?it/s]"
            ]
          },
          "metadata": {},
          "output_type": "display_data"
        },
        {
          "name": "stdout",
          "output_type": "stream",
          "text": [
            "Features: ['article', 'highlights', 'id']\n"
          ]
        }
      ],
      "source": [
        "#@ LOADING THE DATASET:\n",
        "dataset = load_dataset(\"cnn_dailymail\", version=\"3.0.0\")               # Loading the dataset.\n",
        "print(f\"Features: {dataset['train'].column_names}\")                    # Inspecting columns."
      ]
    },
    {
      "cell_type": "code",
      "execution_count": null,
      "metadata": {
        "colab": {
          "base_uri": "https://localhost:8080/"
        },
        "id": "_ZXbID0jDpPr",
        "outputId": "7c677ffb-4c33-4242-bbea-69141f8e6591"
      },
      "outputs": [
        {
          "name": "stdout",
          "output_type": "stream",
          "text": [
            "Article (excerpt of 500 characters, total length:3192)\n",
            "(CNN) -- Usain Bolt rounded off the world championships Sunday by claiming his third gold in Moscow as he anchored Jamaica to victory in the men's 4x100m relay. The fastest man in the world charged clear of United States rival Justin Gatlin as the Jamaican quartet of Nesta Carter, Kemar Bailey-Cole, Nickel Ashmeade and Bolt won in 37.36 seconds. The U.S finished second in 37.56 seconds with Canada taking the bronze after Britain were disqualified for a faulty handover. The 26-year-old Bolt has n\n",
            "\n",
            "Summary length: 180\n",
            "Usain Bolt wins third gold of world championship .\n",
            "Anchors Jamaica to 4x100m relay victory .\n",
            "Eighth gold at the championships for Bolt .\n",
            "Jamaica double up in women's 4x100m relay .\n"
          ]
        }
      ],
      "source": [
        "#@ INSPECTING SAMPLE ARTICLES:\n",
        "sample = dataset[\"train\"][1]                                    # Initialization.\n",
        "print(f\"Article (excerpt of 500 characters, total length:\\\n",
        "{len(sample['article'])})\")                                     # Inspecting number of characters.\n",
        "print(sample[\"article\"][:500])                                  # Inspecting article.\n",
        "print(f\"\\nSummary length: {len(sample['highlights'])}\")         # Inspecting length of summary.\n",
        "print(sample[\"highlights\"])                                     # Inspecting summary."
      ]
    },
    {
      "cell_type": "markdown",
      "metadata": {
        "id": "9QMMlnMVJHCT"
      },
      "source": [
        "**Text Summarization Pipelines**"
      ]
    },
    {
      "cell_type": "code",
      "execution_count": null,
      "metadata": {
        "colab": {
          "base_uri": "https://localhost:8080/"
        },
        "id": "FAjHAR_CFYO2",
        "outputId": "393e3c20-2a7d-4048-d2a4-ceb0db13912e"
      },
      "outputs": [
        {
          "data": {
            "text/plain": [
              "['The U.S. are a country.', 'The U.N. is an organization.']"
            ]
          },
          "execution_count": 7,
          "metadata": {},
          "output_type": "execute_result"
        }
      ],
      "source": [
        "#@ INITIALIZING TEXT SUMMARIZATION:\n",
        "sample_text = dataset[\"train\"][1][\"article\"][:2000]             # Initialization.\n",
        "summaries = {}                                                  # Initializing a dictionary.\n",
        "\n",
        "#@ SENTENCE TOKENIZATON: EXAMPLE:\n",
        "string = \"The U.S. are a country. The U.N. is an organization.\" # Text example.\n",
        "sent_tokenize(string)                                           # Inspection."
      ]
    },
    {
      "cell_type": "code",
      "execution_count": 5,
      "metadata": {
        "id": "IAjpQQZALUU1"
      },
      "outputs": [],
      "source": [
        "#@ INITIALIZING SUMMARIZATION BASELINE:\n",
        "def three_sentence_summary(text):                               # Defining function.\n",
        "    return \"\\n\".join(sent_tokenize(text)[:3])                   # Getting 3 sentences.\n",
        "summaries[\"baseline\"] = three_sentence_summary(sample_text)     # Getting baseline summary."
      ]
    },
    {
      "cell_type": "markdown",
      "metadata": {
        "id": "SB8bCgu7Mo-x"
      },
      "source": [
        "**GPT-2**"
      ]
    },
    {
      "cell_type": "code",
      "execution_count": null,
      "metadata": {
        "colab": {
          "base_uri": "https://localhost:8080/"
        },
        "id": "y2grmALZMeMF",
        "outputId": "9d80c503-9051-4b47-a174-b308a13a5e96"
      },
      "outputs": [
        {
          "name": "stderr",
          "output_type": "stream",
          "text": [
            "Setting `pad_token_id` to `eos_token_id`:50256 for open-end generation.\n"
          ]
        }
      ],
      "source": [
        "#@ INITIALIZING SUMMARIZATION WITH GPT-2:\n",
        "set_seed(2022)\n",
        "pipe = pipeline(\"text-generation\", model=\"gpt2\")                # Initializing pipeline.\n",
        "gpt2_query = sample_text + \"\\nTL;DR:\\n\"                         # Initialization.\n",
        "pipe_out = pipe(gpt2_query, max_length=512, \n",
        "                clean_up_tokenization_spaces=True)              # Generating summaries.\n",
        "summaries[\"gpt2\"] = \"\\n\".join(sent_tokenize(\n",
        "    pipe_out[0][\"generated_text\"][len(gpt2_query):]\n",
        "))                                                              # Adding to summaries."
      ]
    },
    {
      "cell_type": "markdown",
      "metadata": {
        "id": "xiPEwt-yQP94"
      },
      "source": [
        "**T5**"
      ]
    },
    {
      "cell_type": "code",
      "execution_count": null,
      "metadata": {
        "id": "IAaQ3dlTPUeg"
      },
      "outputs": [],
      "source": [
        "#@ INITIALIZING SUMMARIZATION WITH T5:\n",
        "pipe = pipeline(\"summarization\", model=\"t5-small\")              # Initializing T5 pipeline.\n",
        "pipe_out = pipe(sample_text)                                    # Generating summaries.\n",
        "summaries[\"t5\"] = \"\\n\".join(sent_tokenize(\n",
        "    pipe_out[0][\"summary_text\"]\n",
        "))                                                              # Adding to summaries."
      ]
    },
    {
      "cell_type": "markdown",
      "metadata": {
        "id": "THSyuN6IRy84"
      },
      "source": [
        "**BART**"
      ]
    },
    {
      "cell_type": "code",
      "execution_count": null,
      "metadata": {
        "id": "jiYHTLVTRABS"
      },
      "outputs": [],
      "source": [
        "#@ IMPLEMENTATION OF BART:\n",
        "pipe = pipeline(\"summarization\", model=\"facebook/bart-large-cnn\")   # Initializing BART pipeline.\n",
        "pipe_out = pipe(sample_text)                                        # Generating summaries.\n",
        "summaries[\"bart\"] = \"\\n\".join(sent_tokenize(\n",
        "    pipe_out[0][\"summary_text\"]\n",
        "))                                                                  # Adding to summaries."
      ]
    },
    {
      "cell_type": "markdown",
      "metadata": {
        "id": "HUKq8HJuTjN0"
      },
      "source": [
        "**PEGASUS**"
      ]
    },
    {
      "cell_type": "code",
      "execution_count": null,
      "metadata": {
        "id": "6a_WHn8dSxRZ"
      },
      "outputs": [],
      "source": [
        "#@ INITIALIZING SUMMARIZATION WITH PEGASUS:\n",
        "pipe = pipeline(\"summarization\", model=\"google/pegasus-cnn_dailymail\")      # Initializing pegasus pipeline.\n",
        "pipe_out = pipe(sample_text)                                                # Generating summaries.\n",
        "summaries[\"pegasus\"] = pipe_out[0][\"summary_text\"].replace(\" .<n>\", \".\\n\")  # Adding to summaries."
      ]
    },
    {
      "cell_type": "markdown",
      "metadata": {
        "id": "opLmLcMwUMur"
      },
      "source": [
        "**Comparing Different Summaries**"
      ]
    },
    {
      "cell_type": "code",
      "execution_count": null,
      "metadata": {
        "colab": {
          "base_uri": "https://localhost:8080/"
        },
        "id": "AZeLEZVMUAWm",
        "outputId": "fd7f6ba1-d9c2-4f5d-fab3-bf2d280d3e74"
      },
      "outputs": [
        {
          "name": "stdout",
          "output_type": "stream",
          "text": [
            "GROUND TRUTH\n",
            "Usain Bolt wins third gold of world championship .\n",
            "Anchors Jamaica to 4x100m relay victory .\n",
            "Eighth gold at the championships for Bolt .\n",
            "Jamaica double up in women's 4x100m relay .\n",
            " \n",
            "BASELINE\n",
            "(CNN) -- Usain Bolt rounded off the world championships Sunday by claiming his third gold in Moscow as he anchored Jamaica to victory in the men's 4x100m relay.\n",
            "The fastest man in the world charged clear of United States rival Justin Gatlin as the Jamaican quartet of Nesta Carter, Kemar Bailey-Cole, Nickel Ashmeade and Bolt won in 37.36 seconds.\n",
            "The U.S finished second in 37.56 seconds with Canada taking the bronze after Britain were disqualified for a faulty handover.\n",
            " \n",
            "GPT2\n",
            "United States Team\n",
            " \n",
            "T5\n",
            "usain Bolt wins men's 4x100m relay gold in Moscow .\n",
            "the fastest man in the world wins in 37.36 seconds .\n",
            "canada takes bronze after being disqualified for a faulty handover .\n",
            " \n",
            "BART\n",
            "Usain Bolt wins his third gold of the world championships in Moscow.\n",
            "Bolt anchors Jamaica to victory in the men's 4x100m relay.\n",
            "The 26-year-old has now won eight gold medals at world championships.\n",
            "Jamaica's women also win gold in the relay, beating France in the process.\n",
            " \n",
            "PEGASUS\n",
            "Usain Bolt wins third gold of world championships.\n",
            "Anchors Jamaica to victory in men's 4x100m relay.\n",
            "Eighth gold at the championships for Bolt.\n",
            "Jamaica also win women's 4x100m relay .\n",
            " \n"
          ]
        }
      ],
      "source": [
        "#@ COMPARING DIFFERENT MODEL SUMMARIES: \n",
        "print(\"GROUND TRUTH\")\n",
        "print(dataset[\"train\"][1][\"highlights\"])                 # Initializing baseline summaries.\n",
        "print(\" \")\n",
        "\n",
        "for model_name in summaries:\n",
        "    print(model_name.upper())                            # Initializing model name.\n",
        "    print(summaries[model_name])                         # Getting summaries. \n",
        "    print(\" \")"
      ]
    },
    {
      "cell_type": "markdown",
      "metadata": {
        "id": "6RJcpX7PiRva"
      },
      "source": [
        "**Quality Measurement**"
      ]
    },
    {
      "cell_type": "code",
      "execution_count": null,
      "metadata": {
        "colab": {
          "base_uri": "https://localhost:8080/",
          "height": 269
        },
        "id": "bzAZCwwxfGDl",
        "outputId": "5135ed6f-5461-4246-b980-e89ea4842011"
      },
      "outputs": [
        {
          "data": {
            "text/html": [
              "\n",
              "  <div id=\"df-d9948868-47fe-4f2a-b15c-ff9e6ca5fc31\">\n",
              "    <div class=\"colab-df-container\">\n",
              "      <div>\n",
              "<style scoped>\n",
              "    .dataframe tbody tr th:only-of-type {\n",
              "        vertical-align: middle;\n",
              "    }\n",
              "\n",
              "    .dataframe tbody tr th {\n",
              "        vertical-align: top;\n",
              "    }\n",
              "\n",
              "    .dataframe thead th {\n",
              "        text-align: right;\n",
              "    }\n",
              "</style>\n",
              "<table border=\"1\" class=\"dataframe\">\n",
              "  <thead>\n",
              "    <tr style=\"text-align: right;\">\n",
              "      <th></th>\n",
              "      <th>Value</th>\n",
              "    </tr>\n",
              "  </thead>\n",
              "  <tbody>\n",
              "    <tr>\n",
              "      <th>score</th>\n",
              "      <td>0.0</td>\n",
              "    </tr>\n",
              "    <tr>\n",
              "      <th>counts</th>\n",
              "      <td>[2, 0, 0, 0]</td>\n",
              "    </tr>\n",
              "    <tr>\n",
              "      <th>totals</th>\n",
              "      <td>[6, 5, 4, 3]</td>\n",
              "    </tr>\n",
              "    <tr>\n",
              "      <th>precisions</th>\n",
              "      <td>[33.33, 0.0, 0.0, 0.0]</td>\n",
              "    </tr>\n",
              "    <tr>\n",
              "      <th>bp</th>\n",
              "      <td>1.0</td>\n",
              "    </tr>\n",
              "    <tr>\n",
              "      <th>sys_len</th>\n",
              "      <td>6</td>\n",
              "    </tr>\n",
              "    <tr>\n",
              "      <th>ref_len</th>\n",
              "      <td>6</td>\n",
              "    </tr>\n",
              "  </tbody>\n",
              "</table>\n",
              "</div>\n",
              "      <button class=\"colab-df-convert\" onclick=\"convertToInteractive('df-d9948868-47fe-4f2a-b15c-ff9e6ca5fc31')\"\n",
              "              title=\"Convert this dataframe to an interactive table.\"\n",
              "              style=\"display:none;\">\n",
              "        \n",
              "  <svg xmlns=\"http://www.w3.org/2000/svg\" height=\"24px\"viewBox=\"0 0 24 24\"\n",
              "       width=\"24px\">\n",
              "    <path d=\"M0 0h24v24H0V0z\" fill=\"none\"/>\n",
              "    <path d=\"M18.56 5.44l.94 2.06.94-2.06 2.06-.94-2.06-.94-.94-2.06-.94 2.06-2.06.94zm-11 1L8.5 8.5l.94-2.06 2.06-.94-2.06-.94L8.5 2.5l-.94 2.06-2.06.94zm10 10l.94 2.06.94-2.06 2.06-.94-2.06-.94-.94-2.06-.94 2.06-2.06.94z\"/><path d=\"M17.41 7.96l-1.37-1.37c-.4-.4-.92-.59-1.43-.59-.52 0-1.04.2-1.43.59L10.3 9.45l-7.72 7.72c-.78.78-.78 2.05 0 2.83L4 21.41c.39.39.9.59 1.41.59.51 0 1.02-.2 1.41-.59l7.78-7.78 2.81-2.81c.8-.78.8-2.07 0-2.86zM5.41 20L4 18.59l7.72-7.72 1.47 1.35L5.41 20z\"/>\n",
              "  </svg>\n",
              "      </button>\n",
              "      \n",
              "  <style>\n",
              "    .colab-df-container {\n",
              "      display:flex;\n",
              "      flex-wrap:wrap;\n",
              "      gap: 12px;\n",
              "    }\n",
              "\n",
              "    .colab-df-convert {\n",
              "      background-color: #E8F0FE;\n",
              "      border: none;\n",
              "      border-radius: 50%;\n",
              "      cursor: pointer;\n",
              "      display: none;\n",
              "      fill: #1967D2;\n",
              "      height: 32px;\n",
              "      padding: 0 0 0 0;\n",
              "      width: 32px;\n",
              "    }\n",
              "\n",
              "    .colab-df-convert:hover {\n",
              "      background-color: #E2EBFA;\n",
              "      box-shadow: 0px 1px 2px rgba(60, 64, 67, 0.3), 0px 1px 3px 1px rgba(60, 64, 67, 0.15);\n",
              "      fill: #174EA6;\n",
              "    }\n",
              "\n",
              "    [theme=dark] .colab-df-convert {\n",
              "      background-color: #3B4455;\n",
              "      fill: #D2E3FC;\n",
              "    }\n",
              "\n",
              "    [theme=dark] .colab-df-convert:hover {\n",
              "      background-color: #434B5C;\n",
              "      box-shadow: 0px 1px 3px 1px rgba(0, 0, 0, 0.15);\n",
              "      filter: drop-shadow(0px 1px 2px rgba(0, 0, 0, 0.3));\n",
              "      fill: #FFFFFF;\n",
              "    }\n",
              "  </style>\n",
              "\n",
              "      <script>\n",
              "        const buttonEl =\n",
              "          document.querySelector('#df-d9948868-47fe-4f2a-b15c-ff9e6ca5fc31 button.colab-df-convert');\n",
              "        buttonEl.style.display =\n",
              "          google.colab.kernel.accessAllowed ? 'block' : 'none';\n",
              "\n",
              "        async function convertToInteractive(key) {\n",
              "          const element = document.querySelector('#df-d9948868-47fe-4f2a-b15c-ff9e6ca5fc31');\n",
              "          const dataTable =\n",
              "            await google.colab.kernel.invokeFunction('convertToInteractive',\n",
              "                                                     [key], {});\n",
              "          if (!dataTable) return;\n",
              "\n",
              "          const docLinkHtml = 'Like what you see? Visit the ' +\n",
              "            '<a target=\"_blank\" href=https://colab.research.google.com/notebooks/data_table.ipynb>data table notebook</a>'\n",
              "            + ' to learn more about interactive tables.';\n",
              "          element.innerHTML = '';\n",
              "          dataTable['output_type'] = 'display_data';\n",
              "          await google.colab.output.renderOutput(dataTable, element);\n",
              "          const docLink = document.createElement('div');\n",
              "          docLink.innerHTML = docLinkHtml;\n",
              "          element.appendChild(docLink);\n",
              "        }\n",
              "      </script>\n",
              "    </div>\n",
              "  </div>\n",
              "  "
            ],
            "text/plain": [
              "                             Value\n",
              "score                          0.0\n",
              "counts                [2, 0, 0, 0]\n",
              "totals                [6, 5, 4, 3]\n",
              "precisions  [33.33, 0.0, 0.0, 0.0]\n",
              "bp                             1.0\n",
              "sys_len                          6\n",
              "ref_len                          6"
            ]
          },
          "execution_count": 10,
          "metadata": {},
          "output_type": "execute_result"
        }
      ],
      "source": [
        "#@ INITIALIZING QUALITY MEASUREMENT: EXAMPLE: \n",
        "bleu_metric = load_metric(\"sacrebleu\")                                  # Initializing BLEU.\n",
        "bleu_metric.add(prediction=\"the the the the the the\",\n",
        "                reference=[\"the cat is on the mat\"])                    # Initializing example.\n",
        "results = bleu_metric.compute(smooth_method=\"floor\", smooth_value=0)    # Computing bleu score. \n",
        "results[\"precisions\"] = [np.round(p, 2) for p in results[\"precisions\"]] # Adding arrays of precisions.\n",
        "pd.DataFrame.from_dict(results, orient=\"index\", columns=[\"Value\"])      # Creating a dataframe."
      ]
    },
    {
      "cell_type": "code",
      "execution_count": null,
      "metadata": {
        "colab": {
          "base_uri": "https://localhost:8080/",
          "height": 269
        },
        "id": "k3Kux38PiuPv",
        "outputId": "b266a3f5-7e8f-464a-d2e9-ec14989ad3a8"
      },
      "outputs": [
        {
          "data": {
            "text/html": [
              "\n",
              "  <div id=\"df-2961169c-1a4d-4588-b6fb-796af299f57f\">\n",
              "    <div class=\"colab-df-container\">\n",
              "      <div>\n",
              "<style scoped>\n",
              "    .dataframe tbody tr th:only-of-type {\n",
              "        vertical-align: middle;\n",
              "    }\n",
              "\n",
              "    .dataframe tbody tr th {\n",
              "        vertical-align: top;\n",
              "    }\n",
              "\n",
              "    .dataframe thead th {\n",
              "        text-align: right;\n",
              "    }\n",
              "</style>\n",
              "<table border=\"1\" class=\"dataframe\">\n",
              "  <thead>\n",
              "    <tr style=\"text-align: right;\">\n",
              "      <th></th>\n",
              "      <th>Value</th>\n",
              "    </tr>\n",
              "  </thead>\n",
              "  <tbody>\n",
              "    <tr>\n",
              "      <th>score</th>\n",
              "      <td>57.893007</td>\n",
              "    </tr>\n",
              "    <tr>\n",
              "      <th>counts</th>\n",
              "      <td>[5, 3, 2, 1]</td>\n",
              "    </tr>\n",
              "    <tr>\n",
              "      <th>totals</th>\n",
              "      <td>[5, 4, 3, 2]</td>\n",
              "    </tr>\n",
              "    <tr>\n",
              "      <th>precisions</th>\n",
              "      <td>[100.0, 75.0, 66.67, 50.0]</td>\n",
              "    </tr>\n",
              "    <tr>\n",
              "      <th>bp</th>\n",
              "      <td>0.818731</td>\n",
              "    </tr>\n",
              "    <tr>\n",
              "      <th>sys_len</th>\n",
              "      <td>5</td>\n",
              "    </tr>\n",
              "    <tr>\n",
              "      <th>ref_len</th>\n",
              "      <td>6</td>\n",
              "    </tr>\n",
              "  </tbody>\n",
              "</table>\n",
              "</div>\n",
              "      <button class=\"colab-df-convert\" onclick=\"convertToInteractive('df-2961169c-1a4d-4588-b6fb-796af299f57f')\"\n",
              "              title=\"Convert this dataframe to an interactive table.\"\n",
              "              style=\"display:none;\">\n",
              "        \n",
              "  <svg xmlns=\"http://www.w3.org/2000/svg\" height=\"24px\"viewBox=\"0 0 24 24\"\n",
              "       width=\"24px\">\n",
              "    <path d=\"M0 0h24v24H0V0z\" fill=\"none\"/>\n",
              "    <path d=\"M18.56 5.44l.94 2.06.94-2.06 2.06-.94-2.06-.94-.94-2.06-.94 2.06-2.06.94zm-11 1L8.5 8.5l.94-2.06 2.06-.94-2.06-.94L8.5 2.5l-.94 2.06-2.06.94zm10 10l.94 2.06.94-2.06 2.06-.94-2.06-.94-.94-2.06-.94 2.06-2.06.94z\"/><path d=\"M17.41 7.96l-1.37-1.37c-.4-.4-.92-.59-1.43-.59-.52 0-1.04.2-1.43.59L10.3 9.45l-7.72 7.72c-.78.78-.78 2.05 0 2.83L4 21.41c.39.39.9.59 1.41.59.51 0 1.02-.2 1.41-.59l7.78-7.78 2.81-2.81c.8-.78.8-2.07 0-2.86zM5.41 20L4 18.59l7.72-7.72 1.47 1.35L5.41 20z\"/>\n",
              "  </svg>\n",
              "      </button>\n",
              "      \n",
              "  <style>\n",
              "    .colab-df-container {\n",
              "      display:flex;\n",
              "      flex-wrap:wrap;\n",
              "      gap: 12px;\n",
              "    }\n",
              "\n",
              "    .colab-df-convert {\n",
              "      background-color: #E8F0FE;\n",
              "      border: none;\n",
              "      border-radius: 50%;\n",
              "      cursor: pointer;\n",
              "      display: none;\n",
              "      fill: #1967D2;\n",
              "      height: 32px;\n",
              "      padding: 0 0 0 0;\n",
              "      width: 32px;\n",
              "    }\n",
              "\n",
              "    .colab-df-convert:hover {\n",
              "      background-color: #E2EBFA;\n",
              "      box-shadow: 0px 1px 2px rgba(60, 64, 67, 0.3), 0px 1px 3px 1px rgba(60, 64, 67, 0.15);\n",
              "      fill: #174EA6;\n",
              "    }\n",
              "\n",
              "    [theme=dark] .colab-df-convert {\n",
              "      background-color: #3B4455;\n",
              "      fill: #D2E3FC;\n",
              "    }\n",
              "\n",
              "    [theme=dark] .colab-df-convert:hover {\n",
              "      background-color: #434B5C;\n",
              "      box-shadow: 0px 1px 3px 1px rgba(0, 0, 0, 0.15);\n",
              "      filter: drop-shadow(0px 1px 2px rgba(0, 0, 0, 0.3));\n",
              "      fill: #FFFFFF;\n",
              "    }\n",
              "  </style>\n",
              "\n",
              "      <script>\n",
              "        const buttonEl =\n",
              "          document.querySelector('#df-2961169c-1a4d-4588-b6fb-796af299f57f button.colab-df-convert');\n",
              "        buttonEl.style.display =\n",
              "          google.colab.kernel.accessAllowed ? 'block' : 'none';\n",
              "\n",
              "        async function convertToInteractive(key) {\n",
              "          const element = document.querySelector('#df-2961169c-1a4d-4588-b6fb-796af299f57f');\n",
              "          const dataTable =\n",
              "            await google.colab.kernel.invokeFunction('convertToInteractive',\n",
              "                                                     [key], {});\n",
              "          if (!dataTable) return;\n",
              "\n",
              "          const docLinkHtml = 'Like what you see? Visit the ' +\n",
              "            '<a target=\"_blank\" href=https://colab.research.google.com/notebooks/data_table.ipynb>data table notebook</a>'\n",
              "            + ' to learn more about interactive tables.';\n",
              "          element.innerHTML = '';\n",
              "          dataTable['output_type'] = 'display_data';\n",
              "          await google.colab.output.renderOutput(dataTable, element);\n",
              "          const docLink = document.createElement('div');\n",
              "          docLink.innerHTML = docLinkHtml;\n",
              "          element.appendChild(docLink);\n",
              "        }\n",
              "      </script>\n",
              "    </div>\n",
              "  </div>\n",
              "  "
            ],
            "text/plain": [
              "                                 Value\n",
              "score                        57.893007\n",
              "counts                    [5, 3, 2, 1]\n",
              "totals                    [5, 4, 3, 2]\n",
              "precisions  [100.0, 75.0, 66.67, 50.0]\n",
              "bp                            0.818731\n",
              "sys_len                              5\n",
              "ref_len                              6"
            ]
          },
          "execution_count": 11,
          "metadata": {},
          "output_type": "execute_result"
        }
      ],
      "source": [
        "#@ INITIALIZING QUALITY MEASUREMENT: EXAMPLE: \n",
        "bleu_metric = load_metric(\"sacrebleu\")                                  # Initializing BLEU.\n",
        "bleu_metric.add(prediction=\"the cat is on mat\",\n",
        "                reference=[\"the cat is on the mat\"])                    # Initializing example.\n",
        "results = bleu_metric.compute(smooth_method=\"floor\", smooth_value=0)    # Computing bleu score. \n",
        "results[\"precisions\"] = [np.round(p, 2) for p in results[\"precisions\"]] # Adding arrays of precisions.\n",
        "pd.DataFrame.from_dict(results, orient=\"index\", columns=[\"Value\"])      # Creating a dataframe."
      ]
    },
    {
      "cell_type": "markdown",
      "metadata": {
        "id": "liptmEAqntBD"
      },
      "source": [
        "**ROUGE**"
      ]
    },
    {
      "cell_type": "code",
      "execution_count": null,
      "metadata": {
        "id": "DMDyo8OlkvOE"
      },
      "outputs": [],
      "source": [
        "#@ INITIALIZING QUALITY MEASUREMENT: ROUGE:\n",
        "rouge_metric = load_metric(\"rouge\")                                         # Initializing rouge metric. \n",
        "reference = dataset[\"train\"][1][\"highlights\"]                               # Initializing reference summary. \n",
        "records = []                                                                # Initialization.\n",
        "rouge_names = [\"rouge1\", \"rouge2\", \"rougeL\", \"rougeLsum\"]                   # Initialization.\n",
        "for model_name in summaries:\n",
        "    rouge_metric.add(prediction=summaries[model_name], \n",
        "                     reference=reference)                                   # Adding predicted summaries.\n",
        "    score = rouge_metric.compute()                                          # Computing scores.\n",
        "    rouge_dict = dict((rn, score[rn].mid.fmeasure) for rn in rouge_names)\n",
        "    records.append(rouge_dict)                                              # Adding to records.\n",
        "pd.DataFrame.from_records(records, index=summaries.keys())"
      ]
    },
    {
      "cell_type": "markdown",
      "metadata": {
        "id": "lghhnBpyxxeS"
      },
      "source": [
        "**PEGASUS EVALUATION**"
      ]
    },
    {
      "cell_type": "code",
      "execution_count": 6,
      "metadata": {
        "id": "lisEMDZmwiXk"
      },
      "outputs": [],
      "source": [
        "#@ FUNCTION FOR PEGASUS EVALUATION: BASELINE SUMMARIES:\n",
        "def evaluate_summaries_baseline(dataset, metric, column_text=\"article\",\n",
        "                                column_summary=\"highlights\"):                           # Defining function. \n",
        "    summaries = [three_sentence_summary(text) for text in dataset[column_text]]         # Initializing baseline summary.\n",
        "    metric.add_batch(predictions=summaries, references=dataset[column_summary])         # Adding to metric.\n",
        "    score = metric.compute()                                                            # Computing rouge scores.\n",
        "    return score \n",
        "\n",
        "#@ IMPLEMENTATION OF FUNCTION:\n",
        "test_sampled = dataset[\"test\"].shuffle(seed=2022).select(range(1000))                   # Generating 1000 samples.\n",
        "score = evaluate_summaries_baseline(test_sampled, rouge_metric)                         # Implementation of function. \n",
        "rouge_dict = dict((rn, score[rn].mid.fmeasure) for rn in rouge_names)\n",
        "pd.DataFrame.from_dict(rouge_dict, orient=\"index\", columns=[\"baseline\"]).T              # Creating a dataframe."
      ]
    },
    {
      "cell_type": "code",
      "execution_count": 7,
      "metadata": {
        "id": "jtVN73Pb590c"
      },
      "outputs": [],
      "source": [
        "#@ FUNCTION FOR PEGASUS EVALUATION: \n",
        "device = \"cuda\" if torch.cuda.is_available() else \"cpu\"                                 # Initializing gpu.\n",
        "def chunks(list_of_elements, batch_size):                                               # Defining function.\n",
        "    for i in range(0, len(list_of_elements), batch_size):\n",
        "        yield list_of_elements[i:i + batch_size]                                        # Getting chunks of data.\n",
        "\n",
        "def evaluate_summaries_pegasus(dataset, metric, model, tokenizer,\n",
        "                               batch_size=16,device=device,column_text=\"article\",\n",
        "                               column_summary=\"highlights\"):                            # Defining function.\n",
        "    article_batches = list(chunks(dataset[column_text], batch_size))                    # Initializing chunks of dataset.\n",
        "    target_batches = list(chunks(dataset[column_summary], batch_size))                  # Initializing chunks of summaries.\n",
        "    for article_batch, target_batch in tqdm(\n",
        "        zip(article_batches, target_batches), total=len(article_batches)):\n",
        "        inputs = tokenizer(article_batch, max_length=1024, truncation=True,\n",
        "                           padding=\"max_length\", return_tensors=\"pt\")                   # Getting tokenized tensors.\n",
        "        summaries = model.generate(input_ids=inputs[\"input_ids\"].to(device), \n",
        "                                   attention_mask=inputs[\"attention_mask\"].to(device),\n",
        "                                   length_penalty=0.8, num_beams=8, max_length=128)     # Generating summaries.\n",
        "        decoded_summaries = [tokenizer.decode(s, skip_special_tokens=True,\n",
        "                                              clean_up_tokenization_spaces=True) for s \n",
        "                             in summaries]                                              # Decoding summaries.\n",
        "        decoded_summaries = [d.replace(\"<n>\", \" \") for d in decoded_summaries]          # Decoding summaries.\n",
        "        metric.add_batch(predictions=decoded_summaries, \n",
        "                         references=target_batch)                                       # Adding to metric.\n",
        "    score = metric.compute()                                                            # Computing scores.\n",
        "    return score"
      ]
    },
    {
      "cell_type": "code",
      "execution_count": null,
      "metadata": {
        "id": "HmGtMXZpFKjC"
      },
      "outputs": [],
      "source": [
        "#@ INITIALIZING PEGASUS EVALUATION:\n",
        "model_ckpt = \"google/pegasus-cnn_dailymail\"                             # Initializing model checkpoint.\n",
        "tokenizer = AutoTokenizer.from_pretrained(model_ckpt)                   # Initializing pretrained tokenizer.\n",
        "model = AutoModelForSeq2SeqLM.from_pretrained(model_ckpt).to(device)    # Initializing pretrained model.\n",
        "score = evaluate_summaries_pegasus(test_sampled, rouge_metric, model, \n",
        "                                   tokenizer, batch_size=8)             # Generating rouge scores.\n",
        "rouge_dict = dict((rn, score[rn].mid.fmeasure) for rn in rouge_names)   # Creating dictionary of rouge scores.\n",
        "pd.DataFrame(rouge_dict, index=[\"pegasus\"])                             # Creating a dataframe."
      ]
    },
    {
      "cell_type": "markdown",
      "metadata": {
        "id": "CkDj8u5KojNF"
      },
      "source": [
        "**TRAINING SUMMARIZATION MODEL**"
      ]
    },
    {
      "cell_type": "code",
      "execution_count": 9,
      "metadata": {
        "colab": {
          "base_uri": "https://localhost:8080/",
          "height": 448,
          "referenced_widgets": [
            "7256c6b480ab474699c1c087a48907df",
            "e9eea3cf9d2a4cd6a888369d432674c8",
            "cc1aee43ea3249949895a77e06e9cb55",
            "b772703d1f7940a9af517b038e6d88c7",
            "6bbb99bfdf9b4d688eeba9a0831d15a3",
            "cec8a69abed0481590ec2d325c3f9dae",
            "236175ce62ff4dcc8eac79edb008457f",
            "566c404cbaa549ecbe40f18995c9ff8c",
            "25d55f163d124cb8b8bdfb915fe41ac5",
            "82cc406c072f476dbd8e9c117e551f50",
            "7c31a077d0af4884945c6390995753ed"
          ]
        },
        "id": "1Vg26QPHIlXN",
        "outputId": "ab2f706a-7b1a-4532-8517-fb0f42199e95"
      },
      "outputs": [
        {
          "output_type": "stream",
          "name": "stderr",
          "text": [
            "Reusing dataset samsum (/root/.cache/huggingface/datasets/samsum/samsum/0.0.0/3f7dba43be72ab10ca66a2e0f8547b3590e96c2bd9f2cbb1f6bb1ec1f1488ba6)\n"
          ]
        },
        {
          "output_type": "display_data",
          "data": {
            "text/plain": [
              "  0%|          | 0/3 [00:00<?, ?it/s]"
            ],
            "application/vnd.jupyter.widget-view+json": {
              "version_major": 2,
              "version_minor": 0,
              "model_id": "7256c6b480ab474699c1c087a48907df"
            }
          },
          "metadata": {}
        },
        {
          "output_type": "stream",
          "name": "stdout",
          "text": [
            "Split lengths: [14732, 819, 818]\n",
            "Features: ['id', 'dialogue', 'summary']\n",
            "\n",
            "Dialogue: \n",
            "Hannah: Hey, do you have Betty's number?\n",
            "Amanda: Lemme check\n",
            "Hannah: <file_gif>\n",
            "Amanda: Sorry, can't find it.\n",
            "Amanda: Ask Larry\n",
            "Amanda: He called her last time we were at the park together\n",
            "Hannah: I don't know him well\n",
            "Hannah: <file_gif>\n",
            "Amanda: Don't be shy, he's very nice\n",
            "Hannah: If you say so..\n",
            "Hannah: I'd rather you texted him\n",
            "Amanda: Just text him 🙂\n",
            "Hannah: Urgh.. Alright\n",
            "Hannah: Bye\n",
            "Amanda: Bye bye\n",
            "\n",
            "Summary: \n",
            "Hannah needs Betty's number but Amanda doesn't have it. She needs to contact Larry.\n"
          ]
        }
      ],
      "source": [
        "#@ LOADING SAMSUM DATASET:\n",
        "dataset_samsum = load_dataset(\"samsum\")                                         # Loading samsum dataset.\n",
        "split_lengths = [len(dataset_samsum[split]) for split in dataset_samsum]        # Inspecting splits.\n",
        "print(f\"Split lengths: {split_lengths}\")                                        # Inspecting dataset splits.\n",
        "print(f\"Features: {dataset_samsum['train'].column_names}\")                      # Inspecting column names.\n",
        "print(\"\\nDialogue: \")                                                           # Initialization.\n",
        "print(dataset_samsum[\"test\"][0][\"dialogue\"])                                    # Inspecting dialogue.\n",
        "print(\"\\nSummary: \")\n",
        "print(dataset_samsum[\"test\"][0][\"summary\"])                                     # Inspecting summary. "
      ]
    },
    {
      "cell_type": "markdown",
      "metadata": {
        "id": "O7Ffk2ubstwm"
      },
      "source": [
        "**PEGASUS ON SAMSUM**"
      ]
    },
    {
      "cell_type": "code",
      "execution_count": 12,
      "metadata": {
        "colab": {
          "base_uri": "https://localhost:8080/"
        },
        "id": "ckcbx9H-sBFN",
        "outputId": "2f79cb8d-9ecf-4a50-a3ce-13b589c4f7d9"
      },
      "outputs": [
        {
          "output_type": "stream",
          "name": "stderr",
          "text": [
            "Your max_length is set to 128, but you input_length is only 122. You might consider decreasing max_length manually, e.g. summarizer('...', max_length=61)\n"
          ]
        },
        {
          "output_type": "stream",
          "name": "stdout",
          "text": [
            "Summary:\n",
            "Amanda: Ask Larry Amanda: He called her last time we were at the park together.\n",
            "Hannah: I'd rather you texted him.\n",
            "Amanda: Just text him .\n"
          ]
        }
      ],
      "source": [
        "#@ PROCESSING THE SAMSUM:\n",
        "pipe = pipeline(\"summarization\", model=\"google/pegasus-cnn_dailymail\")      # Initializing pegasus pipeline.\n",
        "pipe_out = pipe(dataset_samsum[\"test\"][0][\"dialogue\"])                      # Implementation of pegaus.\n",
        "print(\"Summary:\")\n",
        "print(pipe_out[0][\"summary_text\"].replace(\" .<n>\", \".\\n\"))                  # Inspecting summary."
      ]
    },
    {
      "cell_type": "code",
      "execution_count": 13,
      "metadata": {
        "id": "hXe5qeyeu4yE"
      },
      "outputs": [],
      "source": [
        "#@ INITIALIZING ROUGE EVALUATION ON SAMSUM:\n",
        "rouge_metric = load_metric(\"rouge\")                                             # Initializing rouge metric. \n",
        "rouge_names = [\"rouge1\", \"rouge2\", \"rougeL\", \"rougeLsum\"]                       # Initialization.\n",
        "model_ckpt = \"google/pegasus-cnn_dailymail\"                                     # Initializing model checkpoint.\n",
        "tokenizer = AutoTokenizer.from_pretrained(model_ckpt)                           # Initializing pretrained tokenizer.\n",
        "model = AutoModelForSeq2SeqLM.from_pretrained(model_ckpt).to(device)            # Initializing pretrained model.\n",
        "score = evaluate_summaries_pegasus(dataset_samsum[\"test\"], \n",
        "                                   metric=rouge_metric, model=model,\n",
        "                                   tokenizer=tokenizer, column_text=\"dialogue\",\n",
        "                                   column_summary=\"summary\", batch_size=8)      # Getting rouge scores.\n",
        "rouge_dict = dict((rn, score[rn].mid.fmeasure) for rn in rouge_names)           # Creating dictionary of rouge scores.\n",
        "pd.DataFrame(rouge_dict, index=[\"pegasus\"])                                     # Creating a dataframe."
      ]
    },
    {
      "cell_type": "markdown",
      "source": [
        "**Fine-Tuning PEGASUS**"
      ],
      "metadata": {
        "id": "-UpNI6xm9ODk"
      }
    },
    {
      "cell_type": "code",
      "execution_count": 15,
      "metadata": {
        "id": "l8XXiaAHwmKS",
        "colab": {
          "base_uri": "https://localhost:8080/",
          "height": 278
        },
        "outputId": "b416ab6a-c185-4a86-8b93-2f4b70217ced"
      },
      "outputs": [
        {
          "output_type": "stream",
          "name": "stderr",
          "text": [
            "Token indices sequence length is longer than the specified maximum sequence length for this model (1044 > 1024). Running this sequence through the model will result in indexing errors\n"
          ]
        },
        {
          "output_type": "display_data",
          "data": {
            "text/plain": [
              "<Figure size 720x252 with 2 Axes>"
            ],
            "image/png": "[encoded data removed]"
          },
          "metadata": {
            "needs_background": "light"
          }
        }
      ],
      "source": [
        "#@ INSPECTING LENGTH DISTRIBUTIONS:\n",
        "d_len = [len(tokenizer.encode(s)) for s in dataset_samsum[\"train\"][\"dialogue\"]]         # Initialization. \n",
        "s_len = [len(tokenizer.encode(s)) for s in dataset_samsum[\"train\"][\"summary\"]]          # Initialization.\n",
        "fig, ax = plt.subplots(1, 2, figsize=(10, 3.5), sharey=True)                            # Initialization.\n",
        "ax[0].hist(d_len, bins=20, color=\"C0\", edgecolor=\"C0\")\n",
        "ax[0].set_title(\"Dialogue Token Length\")\n",
        "ax[0].set_xlabel(\"Length\")\n",
        "ax[0].set_ylabel(\"Count\")\n",
        "ax[1].hist(s_len, bins=20, color=\"C0\", edgecolor=\"C0\")\n",
        "ax[1].set_title(\"Summary Token Length\")\n",
        "ax[1].set_xlabel(\"Length\")\n",
        "plt.tight_layout()\n",
        "plt.show()"
      ]
    },
    {
      "cell_type": "code",
      "source": [
        "#@ PREPARING FEATURES FOR TRAINING:\n",
        "def convert_examples_to_features(example_batch):                                                # Defining function. \n",
        "    input_encodings = tokenizer(example_batch[\"dialogue\"], max_length=1024, truncation=True)    # Initializing input encodings. \n",
        "    with tokenizer.as_target_tokenizer():\n",
        "        target_encodings = tokenizer(example_batch[\"summary\"], max_length=128, truncation=True) # Initializing target encodings.\n",
        "    return {\"input_ids\": input_encodings[\"input_ids\"], \n",
        "            \"attention_mask\": input_encodings[\"attention_mask\"],\n",
        "            \"labels\": target_encodings[\"input_ids\"]}                                            # Getting features. \n",
        "\n",
        "#@ IMPLEMENTATION OF FUNCTION:\n",
        "dataset_samsum_pt = dataset_samsum.map(convert_examples_to_features, batched=True)              # Creating features.\n",
        "columns = [\"input_ids\", \"labels\", \"attention_mask\"]                                             # Initialization. \n",
        "dataset_samsum_pt.set_format(type=\"torch\", columns=columns)                                     # Converting into tensors."
      ],
      "metadata": {
        "colab": {
          "base_uri": "https://localhost:8080/",
          "height": 84,
          "referenced_widgets": [
            "9a76ef6424ba467a93c877a45c808070",
            "f01dcf65d0314998892fabfe100414b4",
            "d41263f33dd1412eb8c9064ce876d8b8",
            "e597a86876a14a22818911dfb94e4a19",
            "97780e4f014f40d99e7379910e3e0907",
            "18147d9c6f0f42039bf0e5ed17a248d7",
            "f099ccdb3cb6462d8c29737ef8bb5623",
            "609049843daf487897bb2a2da33fbaa7",
            "76cc7f12c14047f38ec4514b802ba1b9",
            "9641dd0723744e34b1a4aff43f87e709",
            "6865b7d793f54cbb833cf1e732b7f35c"
          ]
        },
        "id": "41NreTgO_SHa",
        "outputId": "ffb17dcf-346f-43bd-b808-a6a5870c62ef"
      },
      "execution_count": 17,
      "outputs": [
        {
          "output_type": "display_data",
          "data": {
            "text/plain": [
              "  0%|          | 0/15 [00:00<?, ?ba/s]"
            ],
            "application/vnd.jupyter.widget-view+json": {
              "version_major": 2,
              "version_minor": 0,
              "model_id": "9a76ef6424ba467a93c877a45c808070"
            }
          },
          "metadata": {}
        },
        {
          "output_type": "stream",
          "name": "stderr",
          "text": [
            "Loading cached processed dataset at /root/.cache/huggingface/datasets/samsum/samsum/0.0.0/3f7dba43be72ab10ca66a2e0f8547b3590e96c2bd9f2cbb1f6bb1ec1f1488ba6/cache-3e18876e9d29eeb4.arrow\n",
            "Loading cached processed dataset at /root/.cache/huggingface/datasets/samsum/samsum/0.0.0/3f7dba43be72ab10ca66a2e0f8547b3590e96c2bd9f2cbb1f6bb1ec1f1488ba6/cache-932d8526eef7d100.arrow\n"
          ]
        }
      ]
    },
    {
      "cell_type": "code",
      "source": [
        "#@ FINE-TUNING THE PEGASUS MODEL:\n",
        "seq2seq_data_collator = DataCollatorForSeq2Seq(tokenizer, model=model)                          # Initializing data collator.\n",
        "training_args = TrainingArguments(output_dir=\"pegasus-samsum\", num_train_epochs=1, \n",
        "                                  warmup_steps=500, per_device_train_batch_size=1, \n",
        "                                  per_device_eval_batch_size=1, weight_decay=0.01, \n",
        "                                  logging_steps=10, push_to_hub=False, \n",
        "                                  evaluation_strategy=\"steps\", eval_steps=500, \n",
        "                                  save_steps=1e6, gradient_accumulation_steps=16)               # Initializing training arguments.\n",
        "trainer = Trainer(model=model, args=training_args, tokenizer=tokenizer, \n",
        "                  data_collator=seq2seq_data_collator, \n",
        "                  train_dataset=dataset_samsum_pt[\"train\"], \n",
        "                  eval_dataset=dataset_samsum_pt[\"validation\"])                                 # Initializing trainer.\n",
        "trainer.train()\n",
        "\n",
        "#@ INITIALIZING ROUGE EVALUATION ON SAMSUM:\n",
        "score = evaluate_summaries_pegasus(dataset_samsum[\"test\"], \n",
        "                                   metric=rouge_metric, model=trainer.model,\n",
        "                                   tokenizer=tokenizer, column_text=\"dialogue\",\n",
        "                                   column_summary=\"summary\", batch_size=2)      # Getting rouge scores.\n",
        "rouge_dict = dict((rn, score[rn].mid.fmeasure) for rn in rouge_names)           # Creating dictionary of rouge scores.\n",
        "pd.DataFrame(rouge_dict, index=[\"pegasus\"])                                     # Creating a dataframe."
      ],
      "metadata": {
        "id": "3xtDvGehBymp"
      },
      "execution_count": null,
      "outputs": []
    },
    {
      "cell_type": "code",
      "source": [
        "#@ GENERATING DIALOGUE SUMMARIES:\n",
        "gen_kwargs = {\"length_penalty\": 0.8, \"num_beams\": 8, \"max_length\": 128}         # Initialization.\n",
        "sample_text = dataset_samsum[\"test\"][0][\"dialogue\"]                             # Initalizing sample text.\n",
        "reference = dataset_samsum[\"test\"][0][\"summary\"]                                # Initializing reference summary.\n",
        "pipe = pipeline(\"summarization\", model=\"./pegasus-samsum\")                      # Initializing pipeline.\n",
        "print(\"\\nDialogue:\")\n",
        "print(sample_text)                                                              # Initializing dialogue.\n",
        "print(\"\\nReference Summary:\")\n",
        "print(reference)\n",
        "print(\"\\nModel Summary:\")\n",
        "print(pipe(sample_text, **gen_kwargs)[0][\"summary_text\"])                       # Inspection."
      ],
      "metadata": {
        "id": "Z2jjH6ptGK5n"
      },
      "execution_count": null,
      "outputs": []
    }
  ],
  "metadata": {
    "accelerator": "GPU",
    "colab": {
      "name": "Summarization.ipynb",
      "provenance": []
    },
    "kernelspec": {
      "display_name": "Python 3",
      "name": "python3"
    },
    "language_info": {
      "name": "python"
    },
    "widgets": {
      "application/vnd.jupyter.widget-state+json": {
        "2608c69ea2294b1986510da3175b6936": {
          "model_module": "@jupyter-widgets/base",
          "model_module_version": "1.2.0",
          "model_name": "LayoutModel",
          "state": {
            "_model_module": "@jupyter-widgets/base",
            "_model_module_version": "1.2.0",
            "_model_name": "LayoutModel",
            "_view_count": null,
            "_view_module": "@jupyter-widgets/base",
            "_view_module_version": "1.2.0",
            "_view_name": "LayoutView",
            "align_content": null,
            "align_items": null,
            "align_self": null,
            "border": null,
            "bottom": null,
            "display": null,
            "flex": null,
            "flex_flow": null,
            "grid_area": null,
            "grid_auto_columns": null,
            "grid_auto_flow": null,
            "grid_auto_rows": null,
            "grid_column": null,
            "grid_gap": null,
            "grid_row": null,
            "grid_template_areas": null,
            "grid_template_columns": null,
            "grid_template_rows": null,
            "height": null,
            "justify_content": null,
            "justify_items": null,
            "left": null,
            "margin": null,
            "max_height": null,
            "max_width": null,
            "min_height": null,
            "min_width": null,
            "object_fit": null,
            "object_position": null,
            "order": null,
            "overflow": null,
            "overflow_x": null,
            "overflow_y": null,
            "padding": null,
            "right": null,
            "top": null,
            "visibility": null,
            "width": null
          }
        },
        "56c7e495f63145e0978e308ea9c746ea": {
          "model_module": "@jupyter-widgets/controls",
          "model_module_version": "1.5.0",
          "model_name": "ProgressStyleModel",
          "state": {
            "_model_module": "@jupyter-widgets/controls",
            "_model_module_version": "1.5.0",
            "_model_name": "ProgressStyleModel",
            "_view_count": null,
            "_view_module": "@jupyter-widgets/base",
            "_view_module_version": "1.2.0",
            "_view_name": "StyleView",
            "bar_color": null,
            "description_width": ""
          }
        },
        "60bca731251745a1bf1053c3f58b7bf1": {
          "model_module": "@jupyter-widgets/controls",
          "model_module_version": "1.5.0",
          "model_name": "HBoxModel",
          "state": {
            "_dom_classes": [],
            "_model_module": "@jupyter-widgets/controls",
            "_model_module_version": "1.5.0",
            "_model_name": "HBoxModel",
            "_view_count": null,
            "_view_module": "@jupyter-widgets/controls",
            "_view_module_version": "1.5.0",
            "_view_name": "HBoxView",
            "box_style": "",
            "children": [
              "IPY_MODEL_fe59b94d747b45c58bb40393bcdee5e2",
              "IPY_MODEL_8d2c80e8108d44e3aa3732ac96496eb9",
              "IPY_MODEL_b8b04cf2f62f425cb31818bb32bd530f"
            ],
            "layout": "IPY_MODEL_dd7e16751f8449c9942354665fe7e2a7"
          }
        },
        "8d2c80e8108d44e3aa3732ac96496eb9": {
          "model_module": "@jupyter-widgets/controls",
          "model_module_version": "1.5.0",
          "model_name": "FloatProgressModel",
          "state": {
            "_dom_classes": [],
            "_model_module": "@jupyter-widgets/controls",
            "_model_module_version": "1.5.0",
            "_model_name": "FloatProgressModel",
            "_view_count": null,
            "_view_module": "@jupyter-widgets/controls",
            "_view_module_version": "1.5.0",
            "_view_name": "ProgressView",
            "bar_style": "success",
            "description": "",
            "description_tooltip": null,
            "layout": "IPY_MODEL_2608c69ea2294b1986510da3175b6936",
            "max": 3,
            "min": 0,
            "orientation": "horizontal",
            "style": "IPY_MODEL_56c7e495f63145e0978e308ea9c746ea",
            "value": 3
          }
        },
        "b8b04cf2f62f425cb31818bb32bd530f": {
          "model_module": "@jupyter-widgets/controls",
          "model_module_version": "1.5.0",
          "model_name": "HTMLModel",
          "state": {
            "_dom_classes": [],
            "_model_module": "@jupyter-widgets/controls",
            "_model_module_version": "1.5.0",
            "_model_name": "HTMLModel",
            "_view_count": null,
            "_view_module": "@jupyter-widgets/controls",
            "_view_module_version": "1.5.0",
            "_view_name": "HTMLView",
            "description": "",
            "description_tooltip": null,
            "layout": "IPY_MODEL_c247c98756f04f9cb4044415a785801e",
            "placeholder": "​",
            "style": "IPY_MODEL_c4d50e0574a84d86937082e7f358c819",
            "value": " 3/3 [00:00&lt;00:00, 79.97it/s]"
          }
        },
        "c247c98756f04f9cb4044415a785801e": {
          "model_module": "@jupyter-widgets/base",
          "model_module_version": "1.2.0",
          "model_name": "LayoutModel",
          "state": {
            "_model_module": "@jupyter-widgets/base",
            "_model_module_version": "1.2.0",
            "_model_name": "LayoutModel",
            "_view_count": null,
            "_view_module": "@jupyter-widgets/base",
            "_view_module_version": "1.2.0",
            "_view_name": "LayoutView",
            "align_content": null,
            "align_items": null,
            "align_self": null,
            "border": null,
            "bottom": null,
            "display": null,
            "flex": null,
            "flex_flow": null,
            "grid_area": null,
            "grid_auto_columns": null,
            "grid_auto_flow": null,
            "grid_auto_rows": null,
            "grid_column": null,
            "grid_gap": null,
            "grid_row": null,
            "grid_template_areas": null,
            "grid_template_columns": null,
            "grid_template_rows": null,
            "height": null,
            "justify_content": null,
            "justify_items": null,
            "left": null,
            "margin": null,
            "max_height": null,
            "max_width": null,
            "min_height": null,
            "min_width": null,
            "object_fit": null,
            "object_position": null,
            "order": null,
            "overflow": null,
            "overflow_x": null,
            "overflow_y": null,
            "padding": null,
            "right": null,
            "top": null,
            "visibility": null,
            "width": null
          }
        },
        "c4d50e0574a84d86937082e7f358c819": {
          "model_module": "@jupyter-widgets/controls",
          "model_module_version": "1.5.0",
          "model_name": "DescriptionStyleModel",
          "state": {
            "_model_module": "@jupyter-widgets/controls",
            "_model_module_version": "1.5.0",
            "_model_name": "DescriptionStyleModel",
            "_view_count": null,
            "_view_module": "@jupyter-widgets/base",
            "_view_module_version": "1.2.0",
            "_view_name": "StyleView",
            "description_width": ""
          }
        },
        "dd7e16751f8449c9942354665fe7e2a7": {
          "model_module": "@jupyter-widgets/base",
          "model_module_version": "1.2.0",
          "model_name": "LayoutModel",
          "state": {
            "_model_module": "@jupyter-widgets/base",
            "_model_module_version": "1.2.0",
            "_model_name": "LayoutModel",
            "_view_count": null,
            "_view_module": "@jupyter-widgets/base",
            "_view_module_version": "1.2.0",
            "_view_name": "LayoutView",
            "align_content": null,
            "align_items": null,
            "align_self": null,
            "border": null,
            "bottom": null,
            "display": null,
            "flex": null,
            "flex_flow": null,
            "grid_area": null,
            "grid_auto_columns": null,
            "grid_auto_flow": null,
            "grid_auto_rows": null,
            "grid_column": null,
            "grid_gap": null,
            "grid_row": null,
            "grid_template_areas": null,
            "grid_template_columns": null,
            "grid_template_rows": null,
            "height": null,
            "justify_content": null,
            "justify_items": null,
            "left": null,
            "margin": null,
            "max_height": null,
            "max_width": null,
            "min_height": null,
            "min_width": null,
            "object_fit": null,
            "object_position": null,
            "order": null,
            "overflow": null,
            "overflow_x": null,
            "overflow_y": null,
            "padding": null,
            "right": null,
            "top": null,
            "visibility": null,
            "width": null
          }
        },
        "de649213469e44c6b01d4de698d00f7c": {
          "model_module": "@jupyter-widgets/base",
          "model_module_version": "1.2.0",
          "model_name": "LayoutModel",
          "state": {
            "_model_module": "@jupyter-widgets/base",
            "_model_module_version": "1.2.0",
            "_model_name": "LayoutModel",
            "_view_count": null,
            "_view_module": "@jupyter-widgets/base",
            "_view_module_version": "1.2.0",
            "_view_name": "LayoutView",
            "align_content": null,
            "align_items": null,
            "align_self": null,
            "border": null,
            "bottom": null,
            "display": null,
            "flex": null,
            "flex_flow": null,
            "grid_area": null,
            "grid_auto_columns": null,
            "grid_auto_flow": null,
            "grid_auto_rows": null,
            "grid_column": null,
            "grid_gap": null,
            "grid_row": null,
            "grid_template_areas": null,
            "grid_template_columns": null,
            "grid_template_rows": null,
            "height": null,
            "justify_content": null,
            "justify_items": null,
            "left": null,
            "margin": null,
            "max_height": null,
            "max_width": null,
            "min_height": null,
            "min_width": null,
            "object_fit": null,
            "object_position": null,
            "order": null,
            "overflow": null,
            "overflow_x": null,
            "overflow_y": null,
            "padding": null,
            "right": null,
            "top": null,
            "visibility": null,
            "width": null
          }
        },
        "e99073b7bcfa4e7ab7c1c446d8f0df5f": {
          "model_module": "@jupyter-widgets/controls",
          "model_module_version": "1.5.0",
          "model_name": "DescriptionStyleModel",
          "state": {
            "_model_module": "@jupyter-widgets/controls",
            "_model_module_version": "1.5.0",
            "_model_name": "DescriptionStyleModel",
            "_view_count": null,
            "_view_module": "@jupyter-widgets/base",
            "_view_module_version": "1.2.0",
            "_view_name": "StyleView",
            "description_width": ""
          }
        },
        "fe59b94d747b45c58bb40393bcdee5e2": {
          "model_module": "@jupyter-widgets/controls",
          "model_module_version": "1.5.0",
          "model_name": "HTMLModel",
          "state": {
            "_dom_classes": [],
            "_model_module": "@jupyter-widgets/controls",
            "_model_module_version": "1.5.0",
            "_model_name": "HTMLModel",
            "_view_count": null,
            "_view_module": "@jupyter-widgets/controls",
            "_view_module_version": "1.5.0",
            "_view_name": "HTMLView",
            "description": "",
            "description_tooltip": null,
            "layout": "IPY_MODEL_de649213469e44c6b01d4de698d00f7c",
            "placeholder": "​",
            "style": "IPY_MODEL_e99073b7bcfa4e7ab7c1c446d8f0df5f",
            "value": "100%"
          }
        },
        "7256c6b480ab474699c1c087a48907df": {
          "model_module": "@jupyter-widgets/controls",
          "model_name": "HBoxModel",
          "model_module_version": "1.5.0",
          "state": {
            "_dom_classes": [],
            "_model_module": "@jupyter-widgets/controls",
            "_model_module_version": "1.5.0",
            "_model_name": "HBoxModel",
            "_view_count": null,
            "_view_module": "@jupyter-widgets/controls",
            "_view_module_version": "1.5.0",
            "_view_name": "HBoxView",
            "box_style": "",
            "children": [
              "IPY_MODEL_e9eea3cf9d2a4cd6a888369d432674c8",
              "IPY_MODEL_cc1aee43ea3249949895a77e06e9cb55",
              "IPY_MODEL_b772703d1f7940a9af517b038e6d88c7"
            ],
            "layout": "IPY_MODEL_6bbb99bfdf9b4d688eeba9a0831d15a3"
          }
        },
        "e9eea3cf9d2a4cd6a888369d432674c8": {
          "model_module": "@jupyter-widgets/controls",
          "model_name": "HTMLModel",
          "model_module_version": "1.5.0",
          "state": {
            "_dom_classes": [],
            "_model_module": "@jupyter-widgets/controls",
            "_model_module_version": "1.5.0",
            "_model_name": "HTMLModel",
            "_view_count": null,
            "_view_module": "@jupyter-widgets/controls",
            "_view_module_version": "1.5.0",
            "_view_name": "HTMLView",
            "description": "",
            "description_tooltip": null,
            "layout": "IPY_MODEL_cec8a69abed0481590ec2d325c3f9dae",
            "placeholder": "​",
            "style": "IPY_MODEL_236175ce62ff4dcc8eac79edb008457f",
            "value": "100%"
          }
        },
        "cc1aee43ea3249949895a77e06e9cb55": {
          "model_module": "@jupyter-widgets/controls",
          "model_name": "FloatProgressModel",
          "model_module_version": "1.5.0",
          "state": {
            "_dom_classes": [],
            "_model_module": "@jupyter-widgets/controls",
            "_model_module_version": "1.5.0",
            "_model_name": "FloatProgressModel",
            "_view_count": null,
            "_view_module": "@jupyter-widgets/controls",
            "_view_module_version": "1.5.0",
            "_view_name": "ProgressView",
            "bar_style": "success",
            "description": "",
            "description_tooltip": null,
            "layout": "IPY_MODEL_566c404cbaa549ecbe40f18995c9ff8c",
            "max": 3,
            "min": 0,
            "orientation": "horizontal",
            "style": "IPY_MODEL_25d55f163d124cb8b8bdfb915fe41ac5",
            "value": 3
          }
        },
        "b772703d1f7940a9af517b038e6d88c7": {
          "model_module": "@jupyter-widgets/controls",
          "model_name": "HTMLModel",
          "model_module_version": "1.5.0",
          "state": {
            "_dom_classes": [],
            "_model_module": "@jupyter-widgets/controls",
            "_model_module_version": "1.5.0",
            "_model_name": "HTMLModel",
            "_view_count": null,
            "_view_module": "@jupyter-widgets/controls",
            "_view_module_version": "1.5.0",
            "_view_name": "HTMLView",
            "description": "",
            "description_tooltip": null,
            "layout": "IPY_MODEL_82cc406c072f476dbd8e9c117e551f50",
            "placeholder": "​",
            "style": "IPY_MODEL_7c31a077d0af4884945c6390995753ed",
            "value": " 3/3 [00:00&lt;00:00, 90.73it/s]"
          }
        },
        "6bbb99bfdf9b4d688eeba9a0831d15a3": {
          "model_module": "@jupyter-widgets/base",
          "model_name": "LayoutModel",
          "model_module_version": "1.2.0",
          "state": {
            "_model_module": "@jupyter-widgets/base",
            "_model_module_version": "1.2.0",
            "_model_name": "LayoutModel",
            "_view_count": null,
            "_view_module": "@jupyter-widgets/base",
            "_view_module_version": "1.2.0",
            "_view_name": "LayoutView",
            "align_content": null,
            "align_items": null,
            "align_self": null,
            "border": null,
            "bottom": null,
            "display": null,
            "flex": null,
            "flex_flow": null,
            "grid_area": null,
            "grid_auto_columns": null,
            "grid_auto_flow": null,
            "grid_auto_rows": null,
            "grid_column": null,
            "grid_gap": null,
            "grid_row": null,
            "grid_template_areas": null,
            "grid_template_columns": null,
            "grid_template_rows": null,
            "height": null,
            "justify_content": null,
            "justify_items": null,
            "left": null,
            "margin": null,
            "max_height": null,
            "max_width": null,
            "min_height": null,
            "min_width": null,
            "object_fit": null,
            "object_position": null,
            "order": null,
            "overflow": null,
            "overflow_x": null,
            "overflow_y": null,
            "padding": null,
            "right": null,
            "top": null,
            "visibility": null,
            "width": null
          }
        },
        "cec8a69abed0481590ec2d325c3f9dae": {
          "model_module": "@jupyter-widgets/base",
          "model_name": "LayoutModel",
          "model_module_version": "1.2.0",
          "state": {
            "_model_module": "@jupyter-widgets/base",
            "_model_module_version": "1.2.0",
            "_model_name": "LayoutModel",
            "_view_count": null,
            "_view_module": "@jupyter-widgets/base",
            "_view_module_version": "1.2.0",
            "_view_name": "LayoutView",
            "align_content": null,
            "align_items": null,
            "align_self": null,
            "border": null,
            "bottom": null,
            "display": null,
            "flex": null,
            "flex_flow": null,
            "grid_area": null,
            "grid_auto_columns": null,
            "grid_auto_flow": null,
            "grid_auto_rows": null,
            "grid_column": null,
            "grid_gap": null,
            "grid_row": null,
            "grid_template_areas": null,
            "grid_template_columns": null,
            "grid_template_rows": null,
            "height": null,
            "justify_content": null,
            "justify_items": null,
            "left": null,
            "margin": null,
            "max_height": null,
            "max_width": null,
            "min_height": null,
            "min_width": null,
            "object_fit": null,
            "object_position": null,
            "order": null,
            "overflow": null,
            "overflow_x": null,
            "overflow_y": null,
            "padding": null,
            "right": null,
            "top": null,
            "visibility": null,
            "width": null
          }
        },
        "236175ce62ff4dcc8eac79edb008457f": {
          "model_module": "@jupyter-widgets/controls",
          "model_name": "DescriptionStyleModel",
          "model_module_version": "1.5.0",
          "state": {
            "_model_module": "@jupyter-widgets/controls",
            "_model_module_version": "1.5.0",
            "_model_name": "DescriptionStyleModel",
            "_view_count": null,
            "_view_module": "@jupyter-widgets/base",
            "_view_module_version": "1.2.0",
            "_view_name": "StyleView",
            "description_width": ""
          }
        },
        "566c404cbaa549ecbe40f18995c9ff8c": {
          "model_module": "@jupyter-widgets/base",
          "model_name": "LayoutModel",
          "model_module_version": "1.2.0",
          "state": {
            "_model_module": "@jupyter-widgets/base",
            "_model_module_version": "1.2.0",
            "_model_name": "LayoutModel",
            "_view_count": null,
            "_view_module": "@jupyter-widgets/base",
            "_view_module_version": "1.2.0",
            "_view_name": "LayoutView",
            "align_content": null,
            "align_items": null,
            "align_self": null,
            "border": null,
            "bottom": null,
            "display": null,
            "flex": null,
            "flex_flow": null,
            "grid_area": null,
            "grid_auto_columns": null,
            "grid_auto_flow": null,
            "grid_auto_rows": null,
            "grid_column": null,
            "grid_gap": null,
            "grid_row": null,
            "grid_template_areas": null,
            "grid_template_columns": null,
            "grid_template_rows": null,
            "height": null,
            "justify_content": null,
            "justify_items": null,
            "left": null,
            "margin": null,
            "max_height": null,
            "max_width": null,
            "min_height": null,
            "min_width": null,
            "object_fit": null,
            "object_position": null,
            "order": null,
            "overflow": null,
            "overflow_x": null,
            "overflow_y": null,
            "padding": null,
            "right": null,
            "top": null,
            "visibility": null,
            "width": null
          }
        },
        "25d55f163d124cb8b8bdfb915fe41ac5": {
          "model_module": "@jupyter-widgets/controls",
          "model_name": "ProgressStyleModel",
          "model_module_version": "1.5.0",
          "state": {
            "_model_module": "@jupyter-widgets/controls",
            "_model_module_version": "1.5.0",
            "_model_name": "ProgressStyleModel",
            "_view_count": null,
            "_view_module": "@jupyter-widgets/base",
            "_view_module_version": "1.2.0",
            "_view_name": "StyleView",
            "bar_color": null,
            "description_width": ""
          }
        },
        "82cc406c072f476dbd8e9c117e551f50": {
          "model_module": "@jupyter-widgets/base",
          "model_name": "LayoutModel",
          "model_module_version": "1.2.0",
          "state": {
            "_model_module": "@jupyter-widgets/base",
            "_model_module_version": "1.2.0",
            "_model_name": "LayoutModel",
            "_view_count": null,
            "_view_module": "@jupyter-widgets/base",
            "_view_module_version": "1.2.0",
            "_view_name": "LayoutView",
            "align_content": null,
            "align_items": null,
            "align_self": null,
            "border": null,
            "bottom": null,
            "display": null,
            "flex": null,
            "flex_flow": null,
            "grid_area": null,
            "grid_auto_columns": null,
            "grid_auto_flow": null,
            "grid_auto_rows": null,
            "grid_column": null,
            "grid_gap": null,
            "grid_row": null,
            "grid_template_areas": null,
            "grid_template_columns": null,
            "grid_template_rows": null,
            "height": null,
            "justify_content": null,
            "justify_items": null,
            "left": null,
            "margin": null,
            "max_height": null,
            "max_width": null,
            "min_height": null,
            "min_width": null,
            "object_fit": null,
            "object_position": null,
            "order": null,
            "overflow": null,
            "overflow_x": null,
            "overflow_y": null,
            "padding": null,
            "right": null,
            "top": null,
            "visibility": null,
            "width": null
          }
        },
        "7c31a077d0af4884945c6390995753ed": {
          "model_module": "@jupyter-widgets/controls",
          "model_name": "DescriptionStyleModel",
          "model_module_version": "1.5.0",
          "state": {
            "_model_module": "@jupyter-widgets/controls",
            "_model_module_version": "1.5.0",
            "_model_name": "DescriptionStyleModel",
            "_view_count": null,
            "_view_module": "@jupyter-widgets/base",
            "_view_module_version": "1.2.0",
            "_view_name": "StyleView",
            "description_width": ""
          }
        },
        "9a76ef6424ba467a93c877a45c808070": {
          "model_module": "@jupyter-widgets/controls",
          "model_name": "HBoxModel",
          "model_module_version": "1.5.0",
          "state": {
            "_dom_classes": [],
            "_model_module": "@jupyter-widgets/controls",
            "_model_module_version": "1.5.0",
            "_model_name": "HBoxModel",
            "_view_count": null,
            "_view_module": "@jupyter-widgets/controls",
            "_view_module_version": "1.5.0",
            "_view_name": "HBoxView",
            "box_style": "",
            "children": [
              "IPY_MODEL_f01dcf65d0314998892fabfe100414b4",
              "IPY_MODEL_d41263f33dd1412eb8c9064ce876d8b8",
              "IPY_MODEL_e597a86876a14a22818911dfb94e4a19"
            ],
            "layout": "IPY_MODEL_97780e4f014f40d99e7379910e3e0907"
          }
        },
        "f01dcf65d0314998892fabfe100414b4": {
          "model_module": "@jupyter-widgets/controls",
          "model_name": "HTMLModel",
          "model_module_version": "1.5.0",
          "state": {
            "_dom_classes": [],
            "_model_module": "@jupyter-widgets/controls",
            "_model_module_version": "1.5.0",
            "_model_name": "HTMLModel",
            "_view_count": null,
            "_view_module": "@jupyter-widgets/controls",
            "_view_module_version": "1.5.0",
            "_view_name": "HTMLView",
            "description": "",
            "description_tooltip": null,
            "layout": "IPY_MODEL_18147d9c6f0f42039bf0e5ed17a248d7",
            "placeholder": "​",
            "style": "IPY_MODEL_f099ccdb3cb6462d8c29737ef8bb5623",
            "value": "100%"
          }
        },
        "d41263f33dd1412eb8c9064ce876d8b8": {
          "model_module": "@jupyter-widgets/controls",
          "model_name": "FloatProgressModel",
          "model_module_version": "1.5.0",
          "state": {
            "_dom_classes": [],
            "_model_module": "@jupyter-widgets/controls",
            "_model_module_version": "1.5.0",
            "_model_name": "FloatProgressModel",
            "_view_count": null,
            "_view_module": "@jupyter-widgets/controls",
            "_view_module_version": "1.5.0",
            "_view_name": "ProgressView",
            "bar_style": "success",
            "description": "",
            "description_tooltip": null,
            "layout": "IPY_MODEL_609049843daf487897bb2a2da33fbaa7",
            "max": 15,
            "min": 0,
            "orientation": "horizontal",
            "style": "IPY_MODEL_76cc7f12c14047f38ec4514b802ba1b9",
            "value": 15
          }
        },
        "e597a86876a14a22818911dfb94e4a19": {
          "model_module": "@jupyter-widgets/controls",
          "model_name": "HTMLModel",
          "model_module_version": "1.5.0",
          "state": {
            "_dom_classes": [],
            "_model_module": "@jupyter-widgets/controls",
            "_model_module_version": "1.5.0",
            "_model_name": "HTMLModel",
            "_view_count": null,
            "_view_module": "@jupyter-widgets/controls",
            "_view_module_version": "1.5.0",
            "_view_name": "HTMLView",
            "description": "",
            "description_tooltip": null,
            "layout": "IPY_MODEL_9641dd0723744e34b1a4aff43f87e709",
            "placeholder": "​",
            "style": "IPY_MODEL_6865b7d793f54cbb833cf1e732b7f35c",
            "value": " 15/15 [00:05&lt;00:00,  2.81ba/s]"
          }
        },
        "97780e4f014f40d99e7379910e3e0907": {
          "model_module": "@jupyter-widgets/base",
          "model_name": "LayoutModel",
          "model_module_version": "1.2.0",
          "state": {
            "_model_module": "@jupyter-widgets/base",
            "_model_module_version": "1.2.0",
            "_model_name": "LayoutModel",
            "_view_count": null,
            "_view_module": "@jupyter-widgets/base",
            "_view_module_version": "1.2.0",
            "_view_name": "LayoutView",
            "align_content": null,
            "align_items": null,
            "align_self": null,
            "border": null,
            "bottom": null,
            "display": null,
            "flex": null,
            "flex_flow": null,
            "grid_area": null,
            "grid_auto_columns": null,
            "grid_auto_flow": null,
            "grid_auto_rows": null,
            "grid_column": null,
            "grid_gap": null,
            "grid_row": null,
            "grid_template_areas": null,
            "grid_template_columns": null,
            "grid_template_rows": null,
            "height": null,
            "justify_content": null,
            "justify_items": null,
            "left": null,
            "margin": null,
            "max_height": null,
            "max_width": null,
            "min_height": null,
            "min_width": null,
            "object_fit": null,
            "object_position": null,
            "order": null,
            "overflow": null,
            "overflow_x": null,
            "overflow_y": null,
            "padding": null,
            "right": null,
            "top": null,
            "visibility": null,
            "width": null
          }
        },
        "18147d9c6f0f42039bf0e5ed17a248d7": {
          "model_module": "@jupyter-widgets/base",
          "model_name": "LayoutModel",
          "model_module_version": "1.2.0",
          "state": {
            "_model_module": "@jupyter-widgets/base",
            "_model_module_version": "1.2.0",
            "_model_name": "LayoutModel",
            "_view_count": null,
            "_view_module": "@jupyter-widgets/base",
            "_view_module_version": "1.2.0",
            "_view_name": "LayoutView",
            "align_content": null,
            "align_items": null,
            "align_self": null,
            "border": null,
            "bottom": null,
            "display": null,
            "flex": null,
            "flex_flow": null,
            "grid_area": null,
            "grid_auto_columns": null,
            "grid_auto_flow": null,
            "grid_auto_rows": null,
            "grid_column": null,
            "grid_gap": null,
            "grid_row": null,
            "grid_template_areas": null,
            "grid_template_columns": null,
            "grid_template_rows": null,
            "height": null,
            "justify_content": null,
            "justify_items": null,
            "left": null,
            "margin": null,
            "max_height": null,
            "max_width": null,
            "min_height": null,
            "min_width": null,
            "object_fit": null,
            "object_position": null,
            "order": null,
            "overflow": null,
            "overflow_x": null,
            "overflow_y": null,
            "padding": null,
            "right": null,
            "top": null,
            "visibility": null,
            "width": null
          }
        },
        "f099ccdb3cb6462d8c29737ef8bb5623": {
          "model_module": "@jupyter-widgets/controls",
          "model_name": "DescriptionStyleModel",
          "model_module_version": "1.5.0",
          "state": {
            "_model_module": "@jupyter-widgets/controls",
            "_model_module_version": "1.5.0",
            "_model_name": "DescriptionStyleModel",
            "_view_count": null,
            "_view_module": "@jupyter-widgets/base",
            "_view_module_version": "1.2.0",
            "_view_name": "StyleView",
            "description_width": ""
          }
        },
        "609049843daf487897bb2a2da33fbaa7": {
          "model_module": "@jupyter-widgets/base",
          "model_name": "LayoutModel",
          "model_module_version": "1.2.0",
          "state": {
            "_model_module": "@jupyter-widgets/base",
            "_model_module_version": "1.2.0",
            "_model_name": "LayoutModel",
            "_view_count": null,
            "_view_module": "@jupyter-widgets/base",
            "_view_module_version": "1.2.0",
            "_view_name": "LayoutView",
            "align_content": null,
            "align_items": null,
            "align_self": null,
            "border": null,
            "bottom": null,
            "display": null,
            "flex": null,
            "flex_flow": null,
            "grid_area": null,
            "grid_auto_columns": null,
            "grid_auto_flow": null,
            "grid_auto_rows": null,
            "grid_column": null,
            "grid_gap": null,
            "grid_row": null,
            "grid_template_areas": null,
            "grid_template_columns": null,
            "grid_template_rows": null,
            "height": null,
            "justify_content": null,
            "justify_items": null,
            "left": null,
            "margin": null,
            "max_height": null,
            "max_width": null,
            "min_height": null,
            "min_width": null,
            "object_fit": null,
            "object_position": null,
            "order": null,
            "overflow": null,
            "overflow_x": null,
            "overflow_y": null,
            "padding": null,
            "right": null,
            "top": null,
            "visibility": null,
            "width": null
          }
        },
        "76cc7f12c14047f38ec4514b802ba1b9": {
          "model_module": "@jupyter-widgets/controls",
          "model_name": "ProgressStyleModel",
          "model_module_version": "1.5.0",
          "state": {
            "_model_module": "@jupyter-widgets/controls",
            "_model_module_version": "1.5.0",
            "_model_name": "ProgressStyleModel",
            "_view_count": null,
            "_view_module": "@jupyter-widgets/base",
            "_view_module_version": "1.2.0",
            "_view_name": "StyleView",
            "bar_color": null,
            "description_width": ""
          }
        },
        "9641dd0723744e34b1a4aff43f87e709": {
          "model_module": "@jupyter-widgets/base",
          "model_name": "LayoutModel",
          "model_module_version": "1.2.0",
          "state": {
            "_model_module": "@jupyter-widgets/base",
            "_model_module_version": "1.2.0",
            "_model_name": "LayoutModel",
            "_view_count": null,
            "_view_module": "@jupyter-widgets/base",
            "_view_module_version": "1.2.0",
            "_view_name": "LayoutView",
            "align_content": null,
            "align_items": null,
            "align_self": null,
            "border": null,
            "bottom": null,
            "display": null,
            "flex": null,
            "flex_flow": null,
            "grid_area": null,
            "grid_auto_columns": null,
            "grid_auto_flow": null,
            "grid_auto_rows": null,
            "grid_column": null,
            "grid_gap": null,
            "grid_row": null,
            "grid_template_areas": null,
            "grid_template_columns": null,
            "grid_template_rows": null,
            "height": null,
            "justify_content": null,
            "justify_items": null,
            "left": null,
            "margin": null,
            "max_height": null,
            "max_width": null,
            "min_height": null,
            "min_width": null,
            "object_fit": null,
            "object_position": null,
            "order": null,
            "overflow": null,
            "overflow_x": null,
            "overflow_y": null,
            "padding": null,
            "right": null,
            "top": null,
            "visibility": null,
            "width": null
          }
        },
        "6865b7d793f54cbb833cf1e732b7f35c": {
          "model_module": "@jupyter-widgets/controls",
          "model_name": "DescriptionStyleModel",
          "model_module_version": "1.5.0",
          "state": {
            "_model_module": "@jupyter-widgets/controls",
            "_model_module_version": "1.5.0",
            "_model_name": "DescriptionStyleModel",
            "_view_count": null,
            "_view_module": "@jupyter-widgets/base",
            "_view_module_version": "1.2.0",
            "_view_name": "StyleView",
            "description_width": ""
          }
        }
      }
    }
  },
  "nbformat": 4,
  "nbformat_minor": 0
}