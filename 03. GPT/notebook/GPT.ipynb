{
  "nbformat": 4,
  "nbformat_minor": 0,
  "metadata": {
    "colab": {
      "provenance": []
    },
    "kernelspec": {
      "name": "python3",
      "display_name": "Python 3"
    },
    "language_info": {
      "name": "python"
    },
    "accelerator": "GPU",
    "gpuClass": "standard"
  },
  "cells": [
    {
      "cell_type": "code",
      "source": [
        "# INSTALLING LIBRARIES AND DEPENDENCIES:\n",
        "import torch\n",
        "import torch.nn as nn\n",
        "import torch.nn.functional as F"
      ],
      "metadata": {
        "id": "yiBm_ZQtZlpS"
      },
      "execution_count": 1,
      "outputs": []
    },
    {
      "cell_type": "code",
      "execution_count": 3,
      "metadata": {
        "id": "pgrVpcusQ2r_"
      },
      "outputs": [],
      "source": [
        "# DOWNLOADING THE DATASET:\n",
        "# !wget https://raw.githubusercontent.com/karpathy/char-rnn/master/data/tinyshakespeare/input.txt"
      ]
    },
    {
      "cell_type": "code",
      "source": [
        "# READING THE DATASET AND INSPECTING:\n",
        "with open(\"./input.txt\", \"r\", encoding=\"utf-8\") as f:\n",
        "    text = f.read()\n",
        "\n",
        "# NUMBER OF CHARACTERS:\n",
        "print(\"Number of characters:\", len(text))"
      ],
      "metadata": {
        "colab": {
          "base_uri": "https://localhost:8080/"
        },
        "id": "S0oizHGLREmY",
        "outputId": "971709d2-109e-4a33-d8a7-57a579cbe439"
      },
      "execution_count": 4,
      "outputs": [
        {
          "output_type": "stream",
          "name": "stdout",
          "text": [
            "Number of characters: 1115394\n"
          ]
        }
      ]
    },
    {
      "cell_type": "code",
      "source": [
        "# INSPECTION:\n",
        "print(text[:500])"
      ],
      "metadata": {
        "colab": {
          "base_uri": "https://localhost:8080/"
        },
        "id": "lpOYK2DBR73w",
        "outputId": "fb8a80fb-ddaf-4488-f2cd-ba85495ef27c"
      },
      "execution_count": null,
      "outputs": [
        {
          "output_type": "stream",
          "name": "stdout",
          "text": [
            "First Citizen:\n",
            "Before we proceed any further, hear me speak.\n",
            "\n",
            "All:\n",
            "Speak, speak.\n",
            "\n",
            "First Citizen:\n",
            "You are all resolved rather to die than to famish?\n",
            "\n",
            "All:\n",
            "Resolved. resolved.\n",
            "\n",
            "First Citizen:\n",
            "First, you know Caius Marcius is chief enemy to the people.\n",
            "\n",
            "All:\n",
            "We know't, we know't.\n",
            "\n",
            "First Citizen:\n",
            "Let us kill him, and we'll have corn at our own price.\n",
            "Is't a verdict?\n",
            "\n",
            "All:\n",
            "No more talking on't; let it be done: away, away!\n",
            "\n",
            "Second Citizen:\n",
            "One word, good citizens.\n",
            "\n",
            "First Citizen:\n",
            "We are accounted poor\n"
          ]
        }
      ]
    },
    {
      "cell_type": "code",
      "source": [
        "# GETTING ALL THE UNIQUE CHARACTERS:\n",
        "chars = sorted(list(set(text)))\n",
        "vocab_size = len(chars)\n",
        "print(\"\".join(chars))\n",
        "print(vocab_size)"
      ],
      "metadata": {
        "colab": {
          "base_uri": "https://localhost:8080/"
        },
        "id": "Jq5UIoKTSGoG",
        "outputId": "49fa38e6-e81d-4110-ac9b-da40e72adab0"
      },
      "execution_count": 5,
      "outputs": [
        {
          "output_type": "stream",
          "name": "stdout",
          "text": [
            "\n",
            " !$&',-.3:;?ABCDEFGHIJKLMNOPQRSTUVWXYZabcdefghijklmnopqrstuvwxyz\n",
            "65\n"
          ]
        }
      ]
    },
    {
      "cell_type": "code",
      "source": [
        "# CHARACTER LEVEL ENCODING:\n",
        "s2i = { ch:i for i, ch in enumerate(chars) }\n",
        "i2s = { i:ch for i, ch in enumerate(chars) }\n",
        "encode = lambda x: [s2i[c] for c in x]\n",
        "decode = lambda y: ''.join([i2s[i] for i in y])\n",
        "\n",
        "# ENCODING AND DECODING:\n",
        "print(encode(\"Hello, I am Thinam\"))\n",
        "print(decode(encode(\"Hello, I am Thinam\")))"
      ],
      "metadata": {
        "colab": {
          "base_uri": "https://localhost:8080/"
        },
        "id": "1g9yH1tASmZj",
        "outputId": "d67fed79-0f4b-4038-c529-139d2821379a"
      },
      "execution_count": 6,
      "outputs": [
        {
          "output_type": "stream",
          "name": "stdout",
          "text": [
            "[20, 43, 50, 50, 53, 6, 1, 21, 1, 39, 51, 1, 32, 46, 47, 52, 39, 51]\n",
            "Hello, I am Thinam\n"
          ]
        }
      ]
    },
    {
      "cell_type": "code",
      "source": [
        "# ENCODING THE ENTIRE DATASET:\n",
        "data = torch.tensor(encode(text), dtype=torch.long)\n",
        "print(data.shape, data.dtype)\n",
        "print(data[:500])"
      ],
      "metadata": {
        "colab": {
          "base_uri": "https://localhost:8080/"
        },
        "id": "NF2JYf6NZGL1",
        "outputId": "081fec84-6fe3-4ed9-8770-808b558df881"
      },
      "execution_count": 7,
      "outputs": [
        {
          "output_type": "stream",
          "name": "stdout",
          "text": [
            "torch.Size([1115394]) torch.int64\n",
            "tensor([18, 47, 56, 57, 58,  1, 15, 47, 58, 47, 64, 43, 52, 10,  0, 14, 43, 44,\n",
            "        53, 56, 43,  1, 61, 43,  1, 54, 56, 53, 41, 43, 43, 42,  1, 39, 52, 63,\n",
            "         1, 44, 59, 56, 58, 46, 43, 56,  6,  1, 46, 43, 39, 56,  1, 51, 43,  1,\n",
            "        57, 54, 43, 39, 49,  8,  0,  0, 13, 50, 50, 10,  0, 31, 54, 43, 39, 49,\n",
            "         6,  1, 57, 54, 43, 39, 49,  8,  0,  0, 18, 47, 56, 57, 58,  1, 15, 47,\n",
            "        58, 47, 64, 43, 52, 10,  0, 37, 53, 59,  1, 39, 56, 43,  1, 39, 50, 50,\n",
            "         1, 56, 43, 57, 53, 50, 60, 43, 42,  1, 56, 39, 58, 46, 43, 56,  1, 58,\n",
            "        53,  1, 42, 47, 43,  1, 58, 46, 39, 52,  1, 58, 53,  1, 44, 39, 51, 47,\n",
            "        57, 46, 12,  0,  0, 13, 50, 50, 10,  0, 30, 43, 57, 53, 50, 60, 43, 42,\n",
            "         8,  1, 56, 43, 57, 53, 50, 60, 43, 42,  8,  0,  0, 18, 47, 56, 57, 58,\n",
            "         1, 15, 47, 58, 47, 64, 43, 52, 10,  0, 18, 47, 56, 57, 58,  6,  1, 63,\n",
            "        53, 59,  1, 49, 52, 53, 61,  1, 15, 39, 47, 59, 57,  1, 25, 39, 56, 41,\n",
            "        47, 59, 57,  1, 47, 57,  1, 41, 46, 47, 43, 44,  1, 43, 52, 43, 51, 63,\n",
            "         1, 58, 53,  1, 58, 46, 43,  1, 54, 43, 53, 54, 50, 43,  8,  0,  0, 13,\n",
            "        50, 50, 10,  0, 35, 43,  1, 49, 52, 53, 61,  5, 58,  6,  1, 61, 43,  1,\n",
            "        49, 52, 53, 61,  5, 58,  8,  0,  0, 18, 47, 56, 57, 58,  1, 15, 47, 58,\n",
            "        47, 64, 43, 52, 10,  0, 24, 43, 58,  1, 59, 57,  1, 49, 47, 50, 50,  1,\n",
            "        46, 47, 51,  6,  1, 39, 52, 42,  1, 61, 43,  5, 50, 50,  1, 46, 39, 60,\n",
            "        43,  1, 41, 53, 56, 52,  1, 39, 58,  1, 53, 59, 56,  1, 53, 61, 52,  1,\n",
            "        54, 56, 47, 41, 43,  8,  0, 21, 57,  5, 58,  1, 39,  1, 60, 43, 56, 42,\n",
            "        47, 41, 58, 12,  0,  0, 13, 50, 50, 10,  0, 26, 53,  1, 51, 53, 56, 43,\n",
            "         1, 58, 39, 50, 49, 47, 52, 45,  1, 53, 52,  5, 58, 11,  1, 50, 43, 58,\n",
            "         1, 47, 58,  1, 40, 43,  1, 42, 53, 52, 43, 10,  1, 39, 61, 39, 63,  6,\n",
            "         1, 39, 61, 39, 63,  2,  0,  0, 31, 43, 41, 53, 52, 42,  1, 15, 47, 58,\n",
            "        47, 64, 43, 52, 10,  0, 27, 52, 43,  1, 61, 53, 56, 42,  6,  1, 45, 53,\n",
            "        53, 42,  1, 41, 47, 58, 47, 64, 43, 52, 57,  8,  0,  0, 18, 47, 56, 57,\n",
            "        58,  1, 15, 47, 58, 47, 64, 43, 52, 10,  0, 35, 43,  1, 39, 56, 43,  1,\n",
            "        39, 41, 41, 53, 59, 52, 58, 43, 42,  1, 54, 53, 53, 56])\n"
          ]
        }
      ]
    },
    {
      "cell_type": "code",
      "source": [
        "# SPLITTING THE DATASET:\n",
        "n = int(0.9 * len(data))\n",
        "train_data = data[:n]\n",
        "val_data = data[n:]"
      ],
      "metadata": {
        "id": "JKsBxhcZaXvg"
      },
      "execution_count": 8,
      "outputs": []
    },
    {
      "cell_type": "code",
      "source": [
        "# INSPECTING THE CHUNK OF DATASET:\n",
        "block_size = 8\n",
        "x = train_data[:block_size]\n",
        "y = train_data[1:block_size + 1]\n",
        "for t in range(block_size):\n",
        "    context = x[:t+1]\n",
        "    target = y[t]\n",
        "    print(f\"When context is {context} the target is {target}\")"
      ],
      "metadata": {
        "colab": {
          "base_uri": "https://localhost:8080/"
        },
        "id": "jjFSFvuHb_0n",
        "outputId": "6b225ea7-8f2f-49c8-8330-1f5257d6c595"
      },
      "execution_count": null,
      "outputs": [
        {
          "output_type": "stream",
          "name": "stdout",
          "text": [
            "When context is tensor([18]) the target is 47\n",
            "When context is tensor([18, 47]) the target is 56\n",
            "When context is tensor([18, 47, 56]) the target is 57\n",
            "When context is tensor([18, 47, 56, 57]) the target is 58\n",
            "When context is tensor([18, 47, 56, 57, 58]) the target is 1\n",
            "When context is tensor([18, 47, 56, 57, 58,  1]) the target is 15\n",
            "When context is tensor([18, 47, 56, 57, 58,  1, 15]) the target is 47\n",
            "When context is tensor([18, 47, 56, 57, 58,  1, 15, 47]) the target is 58\n"
          ]
        }
      ]
    },
    {
      "cell_type": "code",
      "source": [
        "# INITIALIZING BATCHES OF DATA:\n",
        "torch.manual_seed(2023)\n",
        "batch_size = 4\n",
        "block_size = 8\n",
        "\n",
        "def get_batch(split):\n",
        "    data = train_data if split == \"train\" else val_data\n",
        "    ix = torch.randint(len(data) - block_size, (batch_size,))\n",
        "    x = torch.stack([data[i:i+block_size] for i in ix])\n",
        "    y = torch.stack([data[i+1:i+block_size+1] for i in ix])\n",
        "    return x, y\n",
        "\n",
        "# IMPLEMENTATION:\n",
        "xb, yb = get_batch(\"train\")\n",
        "print(\"Inputs:\")\n",
        "print(xb.shape)\n",
        "print(xb)\n",
        "print(\"Targets:\")\n",
        "print(yb.shape)\n",
        "print(yb)\n",
        "print(\"-------------------------------------------------------------\")\n",
        "\n",
        "for b in range(batch_size):\n",
        "    for t in range(block_size):\n",
        "        context = xb[b,:t+1]\n",
        "        target = yb[b,t]\n",
        "        print(f\"When context is {context} the target is {target}\")"
      ],
      "metadata": {
        "colab": {
          "base_uri": "https://localhost:8080/"
        },
        "id": "sVPADVSzfWCE",
        "outputId": "634f5897-80e9-4c3f-e7c8-ab0fd340cbae"
      },
      "execution_count": null,
      "outputs": [
        {
          "output_type": "stream",
          "name": "stdout",
          "text": [
            "Inputs:\n",
            "torch.Size([4, 8])\n",
            "tensor([[45,  1, 57, 53, 59, 52, 42,  6],\n",
            "        [43, 55, 59, 43, 57, 58,  0, 25],\n",
            "        [ 1, 54, 53, 57, 58, 43, 42,  1],\n",
            "        [41, 53, 59, 50, 42,  0, 52, 53]])\n",
            "Targets:\n",
            "torch.Size([4, 8])\n",
            "tensor([[ 1, 57, 53, 59, 52, 42,  6,  0],\n",
            "        [55, 59, 43, 57, 58,  0, 25, 63],\n",
            "        [54, 53, 57, 58, 43, 42,  1, 53],\n",
            "        [53, 59, 50, 42,  0, 52, 53, 58]])\n",
            "-------------------------------------------------------------\n",
            "When context is tensor([45]) the target is 1\n",
            "When context is tensor([45,  1]) the target is 57\n",
            "When context is tensor([45,  1, 57]) the target is 53\n",
            "When context is tensor([45,  1, 57, 53]) the target is 59\n",
            "When context is tensor([45,  1, 57, 53, 59]) the target is 52\n",
            "When context is tensor([45,  1, 57, 53, 59, 52]) the target is 42\n",
            "When context is tensor([45,  1, 57, 53, 59, 52, 42]) the target is 6\n",
            "When context is tensor([45,  1, 57, 53, 59, 52, 42,  6]) the target is 0\n",
            "When context is tensor([43]) the target is 55\n",
            "When context is tensor([43, 55]) the target is 59\n",
            "When context is tensor([43, 55, 59]) the target is 43\n",
            "When context is tensor([43, 55, 59, 43]) the target is 57\n",
            "When context is tensor([43, 55, 59, 43, 57]) the target is 58\n",
            "When context is tensor([43, 55, 59, 43, 57, 58]) the target is 0\n",
            "When context is tensor([43, 55, 59, 43, 57, 58,  0]) the target is 25\n",
            "When context is tensor([43, 55, 59, 43, 57, 58,  0, 25]) the target is 63\n",
            "When context is tensor([1]) the target is 54\n",
            "When context is tensor([ 1, 54]) the target is 53\n",
            "When context is tensor([ 1, 54, 53]) the target is 57\n",
            "When context is tensor([ 1, 54, 53, 57]) the target is 58\n",
            "When context is tensor([ 1, 54, 53, 57, 58]) the target is 43\n",
            "When context is tensor([ 1, 54, 53, 57, 58, 43]) the target is 42\n",
            "When context is tensor([ 1, 54, 53, 57, 58, 43, 42]) the target is 1\n",
            "When context is tensor([ 1, 54, 53, 57, 58, 43, 42,  1]) the target is 53\n",
            "When context is tensor([41]) the target is 53\n",
            "When context is tensor([41, 53]) the target is 59\n",
            "When context is tensor([41, 53, 59]) the target is 50\n",
            "When context is tensor([41, 53, 59, 50]) the target is 42\n",
            "When context is tensor([41, 53, 59, 50, 42]) the target is 0\n",
            "When context is tensor([41, 53, 59, 50, 42,  0]) the target is 52\n",
            "When context is tensor([41, 53, 59, 50, 42,  0, 52]) the target is 53\n",
            "When context is tensor([41, 53, 59, 50, 42,  0, 52, 53]) the target is 58\n"
          ]
        }
      ]
    },
    {
      "cell_type": "code",
      "source": [
        "# INSTALLING LIBRARIES: \n",
        "import torch\n",
        "import torch.nn as nn\n",
        "import torch.nn.functional as F\n",
        "torch.manual_seed(2023)\n",
        "\n",
        "\n",
        "# IMPLEMENTATION OF BIGRAM LANGUAGE MODEL:\n",
        "class BigramLanguageModel(nn.Module):\n",
        "\n",
        "    def __init__(self, vocab_size):\n",
        "        super().__init__()\n",
        "        self.token_embedding_table = nn.Embedding(vocab_size, vocab_size)\n",
        "    \n",
        "    # idx and targets are both (B, T) tensors.\n",
        "    def forward(self, idx, targets=None):\n",
        "        logits = self.token_embedding_table(idx) # (B,T,C)\n",
        "\n",
        "        if targets is None:\n",
        "            loss = None\n",
        "        else:\n",
        "            B, T, C = logits.shape\n",
        "            logits = logits.view(B*T, C)\n",
        "            targets = targets.view(-1)\n",
        "            loss = F.cross_entropy(logits, targets)\n",
        "\n",
        "        return logits, loss\n",
        "\n",
        "    def generate(self, idx, max_new_tokens):\n",
        "        for _ in range(max_new_tokens):\n",
        "            logits, loss = self(idx)\n",
        "            logits = logits[:, -1, :] # (B, C)\n",
        "            probs = F.softmax(logits, dim=-1) # (B, C)\n",
        "            idx_next = torch.multinomial(probs, num_samples=1) # (B, 1)\n",
        "            idx = torch.cat((idx, idx_next), dim=1) # (B, T+1)\n",
        "        return idx\n",
        "\n",
        "# IMPLEMENTATION OF THE MODEL:\n",
        "m = BigramLanguageModel(vocab_size)\n",
        "logits, loss = m(xb, yb)\n",
        "print(logits.shape)\n",
        "print(loss)\n",
        "print(decode(m.generate(torch.zeros((1, 1), dtype=torch.long), max_new_tokens=100)[0].tolist()))"
      ],
      "metadata": {
        "id": "H-LIC-VwoSJv",
        "colab": {
          "base_uri": "https://localhost:8080/"
        },
        "outputId": "3759064b-0090-43f0-ca22-174e8bb43206"
      },
      "execution_count": null,
      "outputs": [
        {
          "output_type": "stream",
          "name": "stdout",
          "text": [
            "torch.Size([32, 65])\n",
            "tensor(4.7348, grad_fn=<NllLossBackward0>)\n",
            "\n",
            "3-easo:,s3$.f$,?w:JvkHwOBib;z-?nfyHdTBm,A PDy:FJNrTiiWdJcg3g!utZby\n",
            "ydSq:ztAmTFb$KG\n",
            "m$.Ln!kpAHT!gHb$v\n"
          ]
        }
      ]
    },
    {
      "cell_type": "code",
      "source": [
        "# OPTIMIZER OBJECT:\n",
        "optimizer = torch.optim.AdamW(m.parameters(), lr=1e-3)"
      ],
      "metadata": {
        "id": "Y-X4dPfilEsf"
      },
      "execution_count": null,
      "outputs": []
    },
    {
      "cell_type": "code",
      "source": [
        "# GENERAL TRAINING LOOP:\n",
        "batch_size = 32\n",
        "for _ in range(10000):\n",
        "    xb, yb = get_batch(\"train\")\n",
        "\n",
        "    logits, loss = m(xb, yb)\n",
        "    optimizer.zero_grad(set_to_none=True)\n",
        "    loss.backward()\n",
        "    optimizer.step()\n",
        "print(loss.item())"
      ],
      "metadata": {
        "colab": {
          "base_uri": "https://localhost:8080/"
        },
        "id": "lG3mn-D3ywvc",
        "outputId": "275b154f-1826-4e6f-c1e3-858f1165b486"
      },
      "execution_count": null,
      "outputs": [
        {
          "output_type": "stream",
          "name": "stdout",
          "text": [
            "2.4221279621124268\n"
          ]
        }
      ]
    },
    {
      "cell_type": "code",
      "source": [
        "# IMPLEMENTATION OF THE MODEL:\n",
        "print(decode(m.generate(torch.zeros((1, 1), dtype=torch.long), max_new_tokens=400)[0].tolist()))"
      ],
      "metadata": {
        "colab": {
          "base_uri": "https://localhost:8080/"
        },
        "id": "kFV2YYJb0WaV",
        "outputId": "b5de3dc8-7ca6-4354-de8a-578f10757df2"
      },
      "execution_count": null,
      "outputs": [
        {
          "output_type": "stream",
          "name": "stdout",
          "text": [
            "\n",
            "RITI he iohat bl's h, avit thal gr:\n",
            "\n",
            "LBumsery in.\n",
            "\n",
            "QQindulllod, bllot d, ve s inchaceryou wKas\n",
            "Jaiclliso iathre,\n",
            "youeneranir dr, as Contoutlle, attimy inven w it wopr;\n",
            "OTion my, Sorerwe s th! lie HOR:'s wed ctacavephanacuto nd\n",
            "\n",
            "Wirs tr's ierd?\n",
            "I'e, n,x ' ars!\n",
            "WI d 's hus czds tZAng werofDUTound ithit totond:\n",
            "TENGHot. rr. pise, s:\n",
            "\n",
            "A:\n",
            "Giar t herenod mpundy; promelavenan, rouchathagllknthonr;\n",
            "\n",
            "ALA a\n"
          ]
        }
      ]
    },
    {
      "cell_type": "code",
      "source": [
        "# SELF-ATTENTION:\n",
        "torch.manual_seed(2023)\n",
        "B,T,C = 4,8,32\n",
        "x = torch.randn(B,T,C)\n",
        "\n",
        "head_size = 16\n",
        "query = nn.Linear(C, head_size, bias=False)\n",
        "key = nn.Linear(C, head_size, bias=False)\n",
        "value = nn.Linear(C, head_size, bias=False)\n",
        "k = key(x)    # (B,T,16)\n",
        "q = query(x)  # (B,T,16)\n",
        "v = value(x)\n",
        "wei = q @ k.transpose(-2, -1) * head_size**-0.5\n",
        "\n",
        "tril = torch.tril(torch.ones(T, T))\n",
        "wei = wei.masked_fill(tril==0, float('-inf'))\n",
        "wei = F.softmax(wei, dim=-1)\n",
        "out = wei @ v\n",
        "out.shape"
      ],
      "metadata": {
        "colab": {
          "base_uri": "https://localhost:8080/"
        },
        "id": "HZBdJ7MIAAOO",
        "outputId": "835bbd35-4397-4995-d93f-db701bef38d1"
      },
      "execution_count": 9,
      "outputs": [
        {
          "output_type": "execute_result",
          "data": {
            "text/plain": [
              "torch.Size([4, 8, 16])"
            ]
          },
          "metadata": {},
          "execution_count": 9
        }
      ]
    },
    {
      "cell_type": "code",
      "source": [
        "# BATCH NORMALIZATION:\n",
        "class LayerNorm:\n",
        "\n",
        "    def __init__(self, dim, eps=1e-5):\n",
        "        self.eps = eps\n",
        "        self.gamma = torch.ones(dim)\n",
        "        self.beta = torch.zeros(dim)\n",
        "    \n",
        "    def __call__(self, x):\n",
        "        xmean = x.mean(1, keepdim=True)\n",
        "        xvar = x.var(1, keepdim=True)\n",
        "        xhat = (x - xmean) / torch.sqrt(xvar + self.eps)\n",
        "        self.out = self.gamma * xhat + self.beta\n",
        "        return self.out\n",
        "    \n",
        "    def parameters(self):\n",
        "        return [self.gamma, self.beta]\n",
        "\n",
        "# IMPLEMENtATION:\n",
        "module = LayerNorm(100)\n",
        "x = torch.randn(32, 100)\n",
        "out = module(x)\n",
        "print(out.shape)"
      ],
      "metadata": {
        "colab": {
          "base_uri": "https://localhost:8080/"
        },
        "id": "HwAS4Ekh9225",
        "outputId": "ebd53673-3348-483a-8c29-62842d3fad72"
      },
      "execution_count": 12,
      "outputs": [
        {
          "output_type": "stream",
          "name": "stdout",
          "text": [
            "torch.Size([32, 100])\n"
          ]
        }
      ]
    },
    {
      "cell_type": "code",
      "source": [
        "# INSPECTION:\n",
        "out[0, :].mean(), out[0, :].std()"
      ],
      "metadata": {
        "colab": {
          "base_uri": "https://localhost:8080/"
        },
        "id": "_ql5Y17S_bwI",
        "outputId": "fa3dde9f-3247-4ef0-fc76-b9107ad3d938"
      },
      "execution_count": 13,
      "outputs": [
        {
          "output_type": "execute_result",
          "data": {
            "text/plain": [
              "(tensor(-5.9605e-09), tensor(1.0000))"
            ]
          },
          "metadata": {},
          "execution_count": 13
        }
      ]
    }
  ]
}