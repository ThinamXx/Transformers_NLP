{
  "nbformat": 4,
  "nbformat_minor": 0,
  "metadata": {
    "colab": {
      "name": "TransformerArchitecture_T.ipynb",
      "provenance": []
    },
    "kernelspec": {
      "name": "python3",
      "display_name": "Python 3"
    },
    "language_info": {
      "name": "python"
    }
  },
  "cells": [
    {
      "cell_type": "markdown",
      "source": [
        "**Initialization**\n",
        "- I use these three lines of code on top of my each notebooks because it will help to prevent any problems while reloading the same project. And the third line of code helps to make visualization within the notebook."
      ],
      "metadata": {
        "id": "JpcUsEH__RBm"
      }
    },
    {
      "cell_type": "code",
      "source": [
        "#@ INITIALIZATION: \n",
        "%reload_ext autoreload\n",
        "%autoreload 2\n",
        "%matplotlib inline"
      ],
      "metadata": {
        "id": "-Dn9r4l3_jKB"
      },
      "execution_count": 1,
      "outputs": []
    },
    {
      "cell_type": "markdown",
      "source": [
        "**Downloading Libraries and Dependencies**\n",
        "- I have downloaded all the libraries and dependencies required for the project in one particular cell."
      ],
      "metadata": {
        "id": "pLcbyAp2_nT6"
      }
    },
    {
      "cell_type": "code",
      "source": [
        "#@ INITIALIZING LIBRARIES AND DEPENDENCIES: \n",
        "import math\n",
        "import numpy as np\n",
        "from scipy.special import softmax"
      ],
      "metadata": {
        "id": "JccBJWLL_vSE"
      },
      "execution_count": 2,
      "outputs": []
    },
    {
      "cell_type": "markdown",
      "source": [
        "**Input Embedding**\n",
        "- The input embedding sub-layer converts the input tokens to vectors of dimension: 512 using learned embeddings in the original **Transformer** model. Cosine similarity uses Euclidean (L2) norm to create vectors in a unit sphere. "
      ],
      "metadata": {
        "id": "j6LH11N-2gYy"
      }
    },
    {
      "cell_type": "markdown",
      "source": [
        "**Positional Encoding**\n",
        "- The idea is to add a positional encoding value to the input embedding instead of having additional vectors to describe the position of the token in a sequence. "
      ],
      "metadata": {
        "id": "bDxwB7qU6fTR"
      }
    },
    {
      "cell_type": "code",
      "execution_count": 3,
      "metadata": {
        "id": "QqOrucB7xe9_"
      },
      "outputs": [],
      "source": [
        "#@ IMPLEMENTATION OF POSITIONAL ENCODING: EXAMPLE FUNCTION:\n",
        "d_model = 512\n",
        "def positional_encoding(pos, pe):\n",
        "    for i in range(0, 512, 2):\n",
        "        pe[0][i] = math.sin(pos / (10000 ** ((2 * i) / d_model)))\n",
        "        pc[0][i] = (y[0][i]*math.sqrt(d_model)) + pe[0][i]\n",
        "        pe[0][i+1] = math.cos(pos / (10000 ** ((2 * i) / d_model)))\n",
        "        pc[0][i+1] = (y[0][i+1]*math.sqrt(d_model)) + pe[0][i+1]\n",
        "    return pe"
      ]
    },
    {
      "cell_type": "markdown",
      "source": [
        "**Architecture of Multi-Head Attention**"
      ],
      "metadata": {
        "id": "ryXNc_qetSKU"
      }
    },
    {
      "cell_type": "code",
      "source": [
        "#@ STEP 1: REPRESENT THE INPUT:\n",
        "print(\"Step 1: Input:3 inputs, d_model=4\")\n",
        "x = np.array([[1.0, 0.0, 1.0, 0.0],             # Input 1. \n",
        "              [0.0, 2.0, 0.0, 2.0],             # Input 2. \n",
        "              [1.0, 1.0, 1.0, 1.0]])            # Input 3. \n",
        "print(x)                                        # Inspection. "
      ],
      "metadata": {
        "id": "IyQKsBiC8jhO",
        "colab": {
          "base_uri": "https://localhost:8080/"
        },
        "outputId": "f2e6380f-af98-421a-fd1e-80a88511408f"
      },
      "execution_count": 4,
      "outputs": [
        {
          "output_type": "stream",
          "name": "stdout",
          "text": [
            "Step 1: Input:3 inputs, d_model=4\n",
            "[[1. 0. 1. 0.]\n",
            " [0. 2. 0. 2.]\n",
            " [1. 1. 1. 1.]]\n"
          ]
        }
      ]
    },
    {
      "cell_type": "code",
      "source": [
        "#@ STEP 2: INITIALIZING WEIGHT MATRICES:\n",
        "print(\"Step 2: weights 3 dimensions x d_model=4\")\n",
        "print(\"w_query\")\n",
        "w_query = np.array([[1, 0, 1],\n",
        "                    [1, 0, 0],\n",
        "                    [0, 0, 1],\n",
        "                    [0, 1, 1]])                     # Initializing query weight matrix. \n",
        "print(w_query)                                      # Inspection. "
      ],
      "metadata": {
        "colab": {
          "base_uri": "https://localhost:8080/"
        },
        "id": "fXfPr3K3uMx-",
        "outputId": "01af3322-7950-4be5-f12f-fc57fe94afad"
      },
      "execution_count": 5,
      "outputs": [
        {
          "output_type": "stream",
          "name": "stdout",
          "text": [
            "Step 2: weights 3 dimensions x d_model=4\n",
            "w_query\n",
            "[[1 0 1]\n",
            " [1 0 0]\n",
            " [0 0 1]\n",
            " [0 1 1]]\n"
          ]
        }
      ]
    },
    {
      "cell_type": "code",
      "source": [
        "#@ STEP 2: INITIALIZING WEIGHT MATRICES:\n",
        "print(\"w_key\")\n",
        "w_key = np.array([[0, 0, 1],\n",
        "                  [1, 1, 0],\n",
        "                  [0, 1, 0],\n",
        "                  [1, 1, 0]])                   # Initializing key weight matrix. \n",
        "print(w_key)                                    # Inspection. "
      ],
      "metadata": {
        "colab": {
          "base_uri": "https://localhost:8080/"
        },
        "id": "SUMu8uAsvUPi",
        "outputId": "dbb73461-121f-452c-b696-9d301ce84680"
      },
      "execution_count": 6,
      "outputs": [
        {
          "output_type": "stream",
          "name": "stdout",
          "text": [
            "w_key\n",
            "[[0 0 1]\n",
            " [1 1 0]\n",
            " [0 1 0]\n",
            " [1 1 0]]\n"
          ]
        }
      ]
    },
    {
      "cell_type": "code",
      "source": [
        "#@ STEP 2: INITIALIZING WEIGHT MATRICES:\n",
        "print(\"w_value\")\n",
        "w_value = np.array([[0, 2, 0],\n",
        "                    [0, 3, 0],\n",
        "                    [1, 0, 3],\n",
        "                    [1, 1, 0]])                 # Initializing value weight matrix. \n",
        "print(w_value)                                  # Inspection. "
      ],
      "metadata": {
        "colab": {
          "base_uri": "https://localhost:8080/"
        },
        "id": "CqNVd7J1v4Mj",
        "outputId": "0c93c887-7800-4eeb-b37f-8c1744cd61ec"
      },
      "execution_count": 7,
      "outputs": [
        {
          "output_type": "stream",
          "name": "stdout",
          "text": [
            "w_value\n",
            "[[0 2 0]\n",
            " [0 3 0]\n",
            " [1 0 3]\n",
            " [1 1 0]]\n"
          ]
        }
      ]
    },
    {
      "cell_type": "code",
      "source": [
        "#@ STEP 3: INITIALIZING MATRIX MULTIPLICATION: \n",
        "print(\"Step 3: Matrix multiplication to obtain Q,K,V\")\n",
        "print(\"Query: x * w_query\")\n",
        "Q = np.matmul(x, w_query)                               # Initializing matrix multiplication. \n",
        "print(Q)                                                # Inspection. "
      ],
      "metadata": {
        "id": "f788i6rewRoo",
        "colab": {
          "base_uri": "https://localhost:8080/"
        },
        "outputId": "9ae317f0-28ae-4543-f2d2-ab665721f2c2"
      },
      "execution_count": 8,
      "outputs": [
        {
          "output_type": "stream",
          "name": "stdout",
          "text": [
            "Step 3: Matrix multiplication to obtain Q,K,V\n",
            "Query: x * w_query\n",
            "[[1. 0. 2.]\n",
            " [2. 2. 2.]\n",
            " [2. 1. 3.]]\n"
          ]
        }
      ]
    },
    {
      "cell_type": "code",
      "source": [
        "#@ STEP 3: INITIALIZING MATRIX MULTIPLICATION: \n",
        "print(\"Query: x * w_key\")\n",
        "K = np.matmul(x, w_key)                                 # Initializing matrix multiplication. \n",
        "print(K)                                                # Inspection. "
      ],
      "metadata": {
        "colab": {
          "base_uri": "https://localhost:8080/"
        },
        "id": "c0BQ-ju5Uxp-",
        "outputId": "8d5f4cfd-f096-4dfc-96d9-e9c720295520"
      },
      "execution_count": 9,
      "outputs": [
        {
          "output_type": "stream",
          "name": "stdout",
          "text": [
            "Query: x * w_key\n",
            "[[0. 1. 1.]\n",
            " [4. 4. 0.]\n",
            " [2. 3. 1.]]\n"
          ]
        }
      ]
    },
    {
      "cell_type": "code",
      "source": [
        "#@ STEP 3: INITIALIZING MATRIX MULTIPLICATION: \n",
        "print(\"Query: x * w_value\")\n",
        "V = np.matmul(x, w_value)                               # Initializing matrix multiplication. \n",
        "print(V)                                                # Inspection. "
      ],
      "metadata": {
        "colab": {
          "base_uri": "https://localhost:8080/"
        },
        "id": "juRisq-9UyqT",
        "outputId": "881fa1f4-da3b-4329-b3d4-fec30009334c"
      },
      "execution_count": 10,
      "outputs": [
        {
          "output_type": "stream",
          "name": "stdout",
          "text": [
            "Query: x * w_value\n",
            "[[1. 2. 3.]\n",
            " [2. 8. 0.]\n",
            " [2. 6. 3.]]\n"
          ]
        }
      ]
    },
    {
      "cell_type": "code",
      "source": [
        "#@ STEP 4: INITIALIZING ATTENTION SCORES: \n",
        "print(\"Step 4: Scaled Attention Scores\")\n",
        "k_d = 1                                                 # Square root of 3 and rounded down to 1. \n",
        "attention_scores = (Q @ K.transpose()) / k_d            # Getting attention scores. \n",
        "print(attention_scores)                                 # Inspection. "
      ],
      "metadata": {
        "colab": {
          "base_uri": "https://localhost:8080/"
        },
        "id": "1pFQDZDXWOBT",
        "outputId": "2128406c-23b3-477b-b696-cab2408377c3"
      },
      "execution_count": 11,
      "outputs": [
        {
          "output_type": "stream",
          "name": "stdout",
          "text": [
            "Step 4: Scaled Attention Scores\n",
            "[[ 2.  4.  4.]\n",
            " [ 4. 16. 12.]\n",
            " [ 4. 12. 10.]]\n"
          ]
        }
      ]
    },
    {
      "cell_type": "code",
      "source": [
        "#@ STEP 5: SCALED SOFTMAX ATTENTION SCORES: \n",
        "print(\"Step 5: Scaled softmax attention scores\")\n",
        "attention_scores[0] = softmax(attention_scores[0])      # Implementation of softmax. \n",
        "attention_scores[1] = softmax(attention_scores[1])      # Implementation of softmax. \n",
        "attention_scores[2] = softmax(attention_scores[2])      # Implementation of sofmax. \n",
        "print(attention_scores[0])\n",
        "print(attention_scores[0])\n",
        "print(attention_scores[0])                              # Inspection. "
      ],
      "metadata": {
        "colab": {
          "base_uri": "https://localhost:8080/"
        },
        "id": "kG0XiNAvX0Vt",
        "outputId": "05683c89-9db6-4b77-f002-121ab2175747"
      },
      "execution_count": 12,
      "outputs": [
        {
          "output_type": "stream",
          "name": "stdout",
          "text": [
            "Step 5: Scaled softmax attention scores\n",
            "[0.06337894 0.46831053 0.46831053]\n",
            "[0.06337894 0.46831053 0.46831053]\n",
            "[0.06337894 0.46831053 0.46831053]\n"
          ]
        }
      ]
    },
    {
      "cell_type": "code",
      "source": [
        "#@ STEP 6: FINAL ATTENTION REPRESENTATIONS: \n",
        "print(\"Step 6: attention value\")\n",
        "print(V[0])\n",
        "print(V[1])\n",
        "print(V[2])\n",
        "print(\"Attention 1\")\n",
        "attention1 = attention_scores[0].reshape(-1, 1)\n",
        "attention1 = attention_scores[0][0]*V[0]               # Finalizing attention score. \n",
        "print(attention1)                                      # Inspection. \n",
        "print(\"Attention 2\")\n",
        "attention2 = attention_scores[0][1]*V[1]               # Finalizing attention score. \n",
        "print(attention2)                                      # Inspection. \n",
        "print(\"Attention 3\")\n",
        "attention3 = attention_scores[0][2]*V[2]               # Finalizing attention score. \n",
        "print(attention3)                                      # Inspection. "
      ],
      "metadata": {
        "colab": {
          "base_uri": "https://localhost:8080/"
        },
        "id": "0oofLAvikK3g",
        "outputId": "d63a1e76-4ccc-4765-e499-8b40c06b6bac"
      },
      "execution_count": 14,
      "outputs": [
        {
          "output_type": "stream",
          "name": "stdout",
          "text": [
            "Step 6: attention value\n",
            "[1. 2. 3.]\n",
            "[2. 8. 0.]\n",
            "[2. 6. 3.]\n",
            "Attention 1\n",
            "[0.06337894 0.12675788 0.19013681]\n",
            "Attention 2\n",
            "[0.93662106 3.74648425 0.        ]\n",
            "Attention 3\n",
            "[0.93662106 2.80986319 1.40493159]\n"
          ]
        }
      ]
    },
    {
      "cell_type": "code",
      "source": [
        "#@ STEP 7: SUMMING THE RESULTS: \n",
        "print(\"Step 7: Summing the results\")\n",
        "attention_input1 = attention1 + attention2 + attention3     # Summing the results. \n",
        "print(attention_input1)                                     # Inspection. "
      ],
      "metadata": {
        "colab": {
          "base_uri": "https://localhost:8080/"
        },
        "id": "4gW8dRZjm6oU",
        "outputId": "0672c870-b113-4ef1-f64d-6ab7b4628ade"
      },
      "execution_count": 15,
      "outputs": [
        {
          "output_type": "stream",
          "name": "stdout",
          "text": [
            "Step 7: Summing the results\n",
            "[1.93662106 6.68310531 1.59506841]\n"
          ]
        }
      ]
    },
    {
      "cell_type": "code",
      "source": [
        "#@ STEP 8: INITIALIZING ATTENTION REPRESENTATIONS: EXAMPLE: \n",
        "attention_head1 = np.random.random((3, 64))                 # Initialization. \n",
        "print(attention_head1)                                      # Inspection. "
      ],
      "metadata": {
        "colab": {
          "base_uri": "https://localhost:8080/"
        },
        "id": "fxMbZ7H0nyyB",
        "outputId": "f96338f2-cae2-4660-8098-7db3ee871edb"
      },
      "execution_count": 16,
      "outputs": [
        {
          "output_type": "stream",
          "name": "stdout",
          "text": [
            "[[0.17599858 0.35796186 0.09740592 0.40705524 0.12187824 0.39475167\n",
            "  0.58226689 0.01675513 0.07660266 0.85460523 0.77730928 0.78501463\n",
            "  0.26676054 0.60916484 0.14232877 0.15225525 0.25331885 0.1194398\n",
            "  0.25211881 0.5437024  0.17673746 0.48625728 0.92390308 0.79930546\n",
            "  0.77348391 0.83721065 0.5155331  0.22352432 0.03883027 0.77928937\n",
            "  0.16412865 0.22877619 0.76726344 0.57586296 0.20120711 0.7193665\n",
            "  0.14831954 0.03804788 0.37581549 0.39252896 0.79651159 0.264765\n",
            "  0.86412066 0.93821995 0.29480446 0.98413339 0.43236798 0.79724319\n",
            "  0.46304075 0.56416182 0.76577606 0.83092159 0.18197875 0.44794159\n",
            "  0.18095532 0.37264965 0.47574602 0.7214265  0.64125906 0.33467985\n",
            "  0.38870496 0.4799408  0.1853437  0.46524622]\n",
            " [0.50360554 0.96032658 0.49206977 0.56752657 0.89448614 0.98268664\n",
            "  0.02031872 0.13868322 0.18985929 0.30104888 0.90118555 0.57541545\n",
            "  0.40293367 0.11509733 0.42609426 0.03867191 0.41853406 0.98024246\n",
            "  0.55611437 0.43230776 0.05788317 0.35874955 0.63015156 0.4084252\n",
            "  0.38763822 0.81598804 0.81285055 0.56502317 0.58120075 0.17900911\n",
            "  0.33941203 0.3341916  0.43954226 0.49543761 0.58168563 0.42933285\n",
            "  0.88832467 0.70027927 0.14889018 0.11323232 0.58661799 0.73530334\n",
            "  0.04549695 0.64246637 0.83461514 0.29011128 0.78557033 0.37131127\n",
            "  0.2285382  0.15530954 0.33098438 0.63468525 0.15106568 0.63025167\n",
            "  0.47784548 0.8201382  0.49455877 0.20100908 0.89536864 0.21302993\n",
            "  0.32757301 0.4432009  0.27263304 0.17179528]\n",
            " [0.07121935 0.53886604 0.34171038 0.52454282 0.60401197 0.40837874\n",
            "  0.00473308 0.00644595 0.29726    0.45736805 0.36725433 0.60605889\n",
            "  0.77129049 0.57971307 0.20462996 0.58828251 0.37288117 0.3490946\n",
            "  0.15254172 0.44281444 0.07511225 0.19633701 0.6927472  0.67230483\n",
            "  0.43439391 0.12210726 0.39449859 0.53965358 0.67495381 0.07775662\n",
            "  0.56642789 0.58283117 0.10553553 0.49113054 0.57716292 0.07391794\n",
            "  0.0732164  0.98785522 0.51951137 0.14588612 0.87518862 0.18360721\n",
            "  0.26977506 0.36580683 0.66405967 0.94235241 0.527947   0.75962205\n",
            "  0.65625306 0.98873352 0.3948889  0.49253025 0.54891962 0.95147221\n",
            "  0.4050543  0.73153815 0.81000275 0.50990415 0.04513663 0.08332258\n",
            "  0.22803798 0.64852783 0.64947976 0.78197556]]\n"
          ]
        }
      ]
    },
    {
      "cell_type": "code",
      "source": [
        ""
      ],
      "metadata": {
        "id": "s46mfkGEqchJ"
      },
      "execution_count": null,
      "outputs": []
    }
  ]
}