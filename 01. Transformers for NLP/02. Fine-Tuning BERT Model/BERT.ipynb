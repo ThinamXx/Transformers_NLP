{
  "nbformat": 4,
  "nbformat_minor": 0,
  "metadata": {
    "colab": {
      "name": "BERT.ipynb",
      "provenance": [],
      "collapsed_sections": []
    },
    "kernelspec": {
      "name": "python3",
      "display_name": "Python 3"
    },
    "language_info": {
      "name": "python"
    },
    "accelerator": "GPU"
  },
  "cells": [
    {
      "cell_type": "markdown",
      "source": [
        "**Initialization**\n",
        "- I use these three lines of code on top of my each notebooks because it will help to prevent any problems while reloading the same project. And the third line of code helps to make visualization within the notebook."
      ],
      "metadata": {
        "id": "RObfIVVDSZhY"
      }
    },
    {
      "cell_type": "code",
      "execution_count": 1,
      "metadata": {
        "id": "QCL-lfLiOMEd"
      },
      "outputs": [],
      "source": [
        "#@ INITIALIZATION: \n",
        "%reload_ext autoreload\n",
        "%autoreload 2\n",
        "%matplotlib inline"
      ]
    },
    {
      "cell_type": "markdown",
      "source": [
        "**Downloading Libraries and Dependencies**\n",
        "- I have downloaded all the libraries and dependencies required for the project in one particular cell."
      ],
      "metadata": {
        "id": "LkNKuJorSjtW"
      }
    },
    {
      "cell_type": "code",
      "source": [
        "#@ IMPORTING MODULES: UNCOMMENT BELOW:\n",
        "# !pip install transformers\n",
        "import torch\n",
        "import keras\n",
        "from torch.utils.data import TensorDataset, DataLoader\n",
        "from torch.utils.data import RandomSampler, SequentialSampler\n",
        "import tensorflow as tf\n",
        "from transformers import pipeline\n",
        "from keras.preprocessing.sequence import pad_sequences\n",
        "from sklearn.model_selection import train_test_split\n",
        "from sklearn.metrics import matthews_corrcoef\n",
        "from transformers import BertTokenizer, BertConfig\n",
        "from transformers import AdamW, BertForSequenceClassification\n",
        "from transformers import get_linear_schedule_with_warmup\n",
        "\n",
        "from tqdm import tqdm, trange\n",
        "import pandas as pd\n",
        "import os\n",
        "import numpy as np\n",
        "import matplotlib.pyplot as plt\n",
        "\n",
        "#@ IGNORING WARNINGS: \n",
        "import warnings\n",
        "warnings.filterwarnings(\"ignore\")"
      ],
      "metadata": {
        "id": "hUrZCS9Ea3Fp"
      },
      "execution_count": 34,
      "outputs": []
    },
    {
      "cell_type": "markdown",
      "source": [
        "**Activating GPU**\n",
        "- Pretraining a multi-head attention transformer model requires the parallel processing GPUs can provide."
      ],
      "metadata": {
        "id": "GM_HeBV5Z9Vb"
      }
    },
    {
      "cell_type": "code",
      "source": [
        "#@ ACTIVATING THE GPU:\n",
        "device_name = tf.test.gpu_device_name()    \n",
        "if device_name != \"/device:GPU:0\":\n",
        "    raise SystemError(\"GPU device not found\")\n",
        "print(\"Found GPU at: {}\".format(device_name))       # Inspection."
      ],
      "metadata": {
        "colab": {
          "base_uri": "https://localhost:8080/"
        },
        "id": "rlJN4tl7Z5cZ",
        "outputId": "d7e4f4f7-142b-472d-d134-43770b5c6ff4"
      },
      "execution_count": 4,
      "outputs": [
        {
          "output_type": "stream",
          "name": "stdout",
          "text": [
            "Found GPU at: /device:GPU:0\n"
          ]
        }
      ]
    },
    {
      "cell_type": "code",
      "source": [
        "#@ SPECIFYING CUDA AS DEVICE: \n",
        "device = torch.device(\"cuda\" if torch.cuda.is_available() else \"cpu\")   # Initialization. \n",
        "n_gpu = torch.cuda.device_count()                                       # Number of GPUs. \n",
        "torch.cuda.get_device_name(0)                                           # Inspection. "
      ],
      "metadata": {
        "colab": {
          "base_uri": "https://localhost:8080/",
          "height": 35
        },
        "id": "SiIYw5K0SjK7",
        "outputId": "3a9e0607-dcde-4ade-ae2f-772a244b2cd1"
      },
      "execution_count": 5,
      "outputs": [
        {
          "output_type": "execute_result",
          "data": {
            "text/plain": [
              "'Tesla T4'"
            ],
            "application/vnd.google.colaboratory.intrinsic+json": {
              "type": "string"
            }
          },
          "metadata": {},
          "execution_count": 5
        }
      ]
    },
    {
      "cell_type": "markdown",
      "source": [
        "**Loading Dataset**\n",
        "- We will load CoLA dataset based on Warstadt et al. paper."
      ],
      "metadata": {
        "id": "7EZBTlNPti5v"
      }
    },
    {
      "cell_type": "code",
      "source": [
        "#@ LOADING THE DATASET:\n",
        "path = \"/content/drive/MyDrive/Data/in_domain_train.tsv\"    # Path to dataset.\n",
        "df = pd.read_csv(path, delimiter=\"\\t\", header=None, \n",
        "                 names=[\"sentence_source\", \"label\",\n",
        "                        \"label_notes\", \"sentence\"])         # Reading dataset.\n",
        "df.shape                                                    # Inspecting shape."
      ],
      "metadata": {
        "colab": {
          "base_uri": "https://localhost:8080/"
        },
        "id": "GKJdG9eevA8P",
        "outputId": "dbbd935b-a4c1-401e-dd74-42247a39f98f"
      },
      "execution_count": 6,
      "outputs": [
        {
          "output_type": "execute_result",
          "data": {
            "text/plain": [
              "(8551, 4)"
            ]
          },
          "metadata": {},
          "execution_count": 6
        }
      ]
    },
    {
      "cell_type": "code",
      "source": [
        "#@ INSPECTING DATASET:\n",
        "df.sample(5)"
      ],
      "metadata": {
        "colab": {
          "base_uri": "https://localhost:8080/",
          "height": 206
        },
        "id": "mr54bp4NyfZo",
        "outputId": "89d8173f-819c-4be8-c17d-a7970e8d76db"
      },
      "execution_count": 7,
      "outputs": [
        {
          "output_type": "execute_result",
          "data": {
            "text/plain": [
              "     sentence_source  label label_notes  \\\n",
              "8311            ad03      0           *   \n",
              "1284            r-67      0           *   \n",
              "3043            l-93      1         NaN   \n",
              "5851            c_13      1         NaN   \n",
              "1721            r-67      0           *   \n",
              "\n",
              "                                               sentence  \n",
              "8311                       gilgamesh might loved ishtar  \n",
              "1284        tony has a fiat to yearn for a tall nurse .  \n",
              "3043                               ellen told a story .  \n",
              "5851  you can lead a horse to water but will it drink ?  \n",
              "1721  mary and kissed an old friend who comes from m...  "
            ],
            "text/html": [
              "\n",
              "  <div id=\"df-3d2eae82-2f70-4647-91f5-1bdf0af9353e\">\n",
              "    <div class=\"colab-df-container\">\n",
              "      <div>\n",
              "<style scoped>\n",
              "    .dataframe tbody tr th:only-of-type {\n",
              "        vertical-align: middle;\n",
              "    }\n",
              "\n",
              "    .dataframe tbody tr th {\n",
              "        vertical-align: top;\n",
              "    }\n",
              "\n",
              "    .dataframe thead th {\n",
              "        text-align: right;\n",
              "    }\n",
              "</style>\n",
              "<table border=\"1\" class=\"dataframe\">\n",
              "  <thead>\n",
              "    <tr style=\"text-align: right;\">\n",
              "      <th></th>\n",
              "      <th>sentence_source</th>\n",
              "      <th>label</th>\n",
              "      <th>label_notes</th>\n",
              "      <th>sentence</th>\n",
              "    </tr>\n",
              "  </thead>\n",
              "  <tbody>\n",
              "    <tr>\n",
              "      <th>8311</th>\n",
              "      <td>ad03</td>\n",
              "      <td>0</td>\n",
              "      <td>*</td>\n",
              "      <td>gilgamesh might loved ishtar</td>\n",
              "    </tr>\n",
              "    <tr>\n",
              "      <th>1284</th>\n",
              "      <td>r-67</td>\n",
              "      <td>0</td>\n",
              "      <td>*</td>\n",
              "      <td>tony has a fiat to yearn for a tall nurse .</td>\n",
              "    </tr>\n",
              "    <tr>\n",
              "      <th>3043</th>\n",
              "      <td>l-93</td>\n",
              "      <td>1</td>\n",
              "      <td>NaN</td>\n",
              "      <td>ellen told a story .</td>\n",
              "    </tr>\n",
              "    <tr>\n",
              "      <th>5851</th>\n",
              "      <td>c_13</td>\n",
              "      <td>1</td>\n",
              "      <td>NaN</td>\n",
              "      <td>you can lead a horse to water but will it drink ?</td>\n",
              "    </tr>\n",
              "    <tr>\n",
              "      <th>1721</th>\n",
              "      <td>r-67</td>\n",
              "      <td>0</td>\n",
              "      <td>*</td>\n",
              "      <td>mary and kissed an old friend who comes from m...</td>\n",
              "    </tr>\n",
              "  </tbody>\n",
              "</table>\n",
              "</div>\n",
              "      <button class=\"colab-df-convert\" onclick=\"convertToInteractive('df-3d2eae82-2f70-4647-91f5-1bdf0af9353e')\"\n",
              "              title=\"Convert this dataframe to an interactive table.\"\n",
              "              style=\"display:none;\">\n",
              "        \n",
              "  <svg xmlns=\"http://www.w3.org/2000/svg\" height=\"24px\"viewBox=\"0 0 24 24\"\n",
              "       width=\"24px\">\n",
              "    <path d=\"M0 0h24v24H0V0z\" fill=\"none\"/>\n",
              "    <path d=\"M18.56 5.44l.94 2.06.94-2.06 2.06-.94-2.06-.94-.94-2.06-.94 2.06-2.06.94zm-11 1L8.5 8.5l.94-2.06 2.06-.94-2.06-.94L8.5 2.5l-.94 2.06-2.06.94zm10 10l.94 2.06.94-2.06 2.06-.94-2.06-.94-.94-2.06-.94 2.06-2.06.94z\"/><path d=\"M17.41 7.96l-1.37-1.37c-.4-.4-.92-.59-1.43-.59-.52 0-1.04.2-1.43.59L10.3 9.45l-7.72 7.72c-.78.78-.78 2.05 0 2.83L4 21.41c.39.39.9.59 1.41.59.51 0 1.02-.2 1.41-.59l7.78-7.78 2.81-2.81c.8-.78.8-2.07 0-2.86zM5.41 20L4 18.59l7.72-7.72 1.47 1.35L5.41 20z\"/>\n",
              "  </svg>\n",
              "      </button>\n",
              "      \n",
              "  <style>\n",
              "    .colab-df-container {\n",
              "      display:flex;\n",
              "      flex-wrap:wrap;\n",
              "      gap: 12px;\n",
              "    }\n",
              "\n",
              "    .colab-df-convert {\n",
              "      background-color: #E8F0FE;\n",
              "      border: none;\n",
              "      border-radius: 50%;\n",
              "      cursor: pointer;\n",
              "      display: none;\n",
              "      fill: #1967D2;\n",
              "      height: 32px;\n",
              "      padding: 0 0 0 0;\n",
              "      width: 32px;\n",
              "    }\n",
              "\n",
              "    .colab-df-convert:hover {\n",
              "      background-color: #E2EBFA;\n",
              "      box-shadow: 0px 1px 2px rgba(60, 64, 67, 0.3), 0px 1px 3px 1px rgba(60, 64, 67, 0.15);\n",
              "      fill: #174EA6;\n",
              "    }\n",
              "\n",
              "    [theme=dark] .colab-df-convert {\n",
              "      background-color: #3B4455;\n",
              "      fill: #D2E3FC;\n",
              "    }\n",
              "\n",
              "    [theme=dark] .colab-df-convert:hover {\n",
              "      background-color: #434B5C;\n",
              "      box-shadow: 0px 1px 3px 1px rgba(0, 0, 0, 0.15);\n",
              "      filter: drop-shadow(0px 1px 2px rgba(0, 0, 0, 0.3));\n",
              "      fill: #FFFFFF;\n",
              "    }\n",
              "  </style>\n",
              "\n",
              "      <script>\n",
              "        const buttonEl =\n",
              "          document.querySelector('#df-3d2eae82-2f70-4647-91f5-1bdf0af9353e button.colab-df-convert');\n",
              "        buttonEl.style.display =\n",
              "          google.colab.kernel.accessAllowed ? 'block' : 'none';\n",
              "\n",
              "        async function convertToInteractive(key) {\n",
              "          const element = document.querySelector('#df-3d2eae82-2f70-4647-91f5-1bdf0af9353e');\n",
              "          const dataTable =\n",
              "            await google.colab.kernel.invokeFunction('convertToInteractive',\n",
              "                                                     [key], {});\n",
              "          if (!dataTable) return;\n",
              "\n",
              "          const docLinkHtml = 'Like what you see? Visit the ' +\n",
              "            '<a target=\"_blank\" href=https://colab.research.google.com/notebooks/data_table.ipynb>data table notebook</a>'\n",
              "            + ' to learn more about interactive tables.';\n",
              "          element.innerHTML = '';\n",
              "          dataTable['output_type'] = 'display_data';\n",
              "          await google.colab.output.renderOutput(dataTable, element);\n",
              "          const docLink = document.createElement('div');\n",
              "          docLink.innerHTML = docLinkHtml;\n",
              "          element.appendChild(docLink);\n",
              "        }\n",
              "      </script>\n",
              "    </div>\n",
              "  </div>\n",
              "  "
            ]
          },
          "metadata": {},
          "execution_count": 7
        }
      ]
    },
    {
      "cell_type": "markdown",
      "source": [
        "**Preprocessing Dataset**"
      ],
      "metadata": {
        "id": "aJYjJrYkz1VV"
      }
    },
    {
      "cell_type": "code",
      "source": [
        "#@ PREPROCESSING THE DATASET: \n",
        "sentences = df.sentence.values                                          # Initializing arrays. \n",
        "sentences = [\"[CLS] \" + sentence + \" [SEP]\" for sentence in sentences]  # Adding BERT tokens. \n",
        "labels = df.label.values                                                # Initializing arrays. "
      ],
      "metadata": {
        "id": "HmkDmhihzPVg"
      },
      "execution_count": 8,
      "outputs": []
    },
    {
      "cell_type": "markdown",
      "source": [
        "**BERT Tokenizer**\n",
        "- We will initialize a pretrained BERT tokenizer. "
      ],
      "metadata": {
        "id": "fqrcRlGH4mM4"
      }
    },
    {
      "cell_type": "code",
      "source": [
        "#@ INITIALIZING BERT TOKENIZER:\n",
        "tokenizer = BertTokenizer.from_pretrained(\"bert-base-uncased\",\n",
        "                                          do_lower_case=True)           # Initializing BERT tokenizer. \n",
        "tokenized_texts = [tokenizer.tokenize(sent) for sent in sentences]      # Initializing tokenization. \n",
        "print(\"Tokenizing first sentence:\")\n",
        "print(tokenized_texts[0])                                               # Inspection. "
      ],
      "metadata": {
        "colab": {
          "base_uri": "https://localhost:8080/"
        },
        "id": "KQqAvLZT4Prb",
        "outputId": "17e2d08d-ec11-4471-95ff-e9b56e63ce11"
      },
      "execution_count": 10,
      "outputs": [
        {
          "output_type": "stream",
          "name": "stdout",
          "text": [
            "Tokenizing first sentence:\n",
            "['[CLS]', 'our', 'friends', 'wo', 'n', \"'\", 't', 'buy', 'this', 'analysis', ',', 'let', 'alone', 'the', 'next', 'one', 'we', 'propose', '.', '[SEP]']\n"
          ]
        }
      ]
    },
    {
      "cell_type": "code",
      "source": [
        "#@ PROCESSING THE DATA:\n",
        "MAX_LEN = 128                                                           # Initialization. \n",
        "input_ids = [tokenizer.convert_tokens_to_ids(x) for x in \\\n",
        "             tokenized_texts]                                           # Initializing BERT vocabulary. \n",
        "input_ids = pad_sequences(input_ids, maxlen=MAX_LEN, dtype=\"long\",\n",
        "                          truncating=\"post\", padding=\"post\")            # Padding input tokens. "
      ],
      "metadata": {
        "id": "dpLKjqKy6GCL"
      },
      "execution_count": 11,
      "outputs": []
    },
    {
      "cell_type": "markdown",
      "source": [
        "**Attention Masks**\n",
        "- We will create the attention masks to prevent the model from performing attention on padded tokens. "
      ],
      "metadata": {
        "id": "cVgvDkarbVYv"
      }
    },
    {
      "cell_type": "code",
      "source": [
        "#@ INITIALIZING ATTENTION MASKS: \n",
        "attention_masks = []                                # Initialization. \n",
        "for seq in input_ids:\n",
        "    seq_mask = [float(i>0) for i in seq]            # Adding mask of 1s and 0s. \n",
        "    attention_masks.append(seq_mask)                # Initializing attention masks. "
      ],
      "metadata": {
        "id": "oF87ESk0_e3o"
      },
      "execution_count": 12,
      "outputs": []
    },
    {
      "cell_type": "markdown",
      "source": [
        "**Preparing Dataset**"
      ],
      "metadata": {
        "id": "BdlbMwstgXWy"
      }
    },
    {
      "cell_type": "code",
      "source": [
        "#@ SPLITTING DATA INTO TRAINING AND VALIDATION: \n",
        "train_inputs, validation_inputs, train_labels, validation_labels = train_test_split(\n",
        "    input_ids, labels, random_state=2022, test_size=0.1)                                # Training and validation dataset. \n",
        "train_masks, validation_masks, _, _ = train_test_split(\n",
        "    attention_masks, input_ids, random_state=2022, test_size=0.1)                       # Training and validation masks. "
      ],
      "metadata": {
        "id": "XxWL1l2OdI72"
      },
      "execution_count": 13,
      "outputs": []
    },
    {
      "cell_type": "code",
      "source": [
        "#@ CONVERTING DATA INTO TENSORS:\n",
        "train_inputs = torch.tensor(train_inputs)               # Converting into tensors. \n",
        "train_labels = torch.tensor(train_labels)               # Converting into tensors. \n",
        "validation_inputs = torch.tensor(validation_inputs)     # Converting into tensors. \n",
        "validation_labels = torch.tensor(validation_labels)     # Converting into tensors. \n",
        "train_masks = torch.tensor(train_masks)                 # Converting into tensors. \n",
        "validation_masks = torch.tensor(validation_masks)       # Converting into tensors. "
      ],
      "metadata": {
        "id": "C6YLoXDdgVIP"
      },
      "execution_count": 14,
      "outputs": []
    },
    {
      "cell_type": "code",
      "source": [
        "#@ SELECTING BATCH SIZE AND CREATING ITERATOR: \n",
        "batch_size = 32                                                         # Initializing batch size. \n",
        "train_data = TensorDataset(train_inputs, train_masks, train_labels)     # Initializing tensordataset. \n",
        "train_sampler = RandomSampler(train_data)                               # Initializing train sampler. \n",
        "train_dataloader = DataLoader(train_data, sampler=train_sampler, \n",
        "                              batch_size=batch_size)                    # Initializing train dataloader. \n",
        "validation_data = TensorDataset(validation_inputs, validation_masks,\n",
        "                                validation_labels)                      # Initializing tensordataset.\n",
        "validation_sampler = RandomSampler(validation_data)                     # Initializing validation sampler. \n",
        "validation_dataloader = DataLoader(validation_data, \n",
        "                                   sampler=validation_sampler,\n",
        "                                   batch_size=batch_size)               # Initializing validation dataloader."
      ],
      "metadata": {
        "id": "0kDd3cFvhtKv"
      },
      "execution_count": 15,
      "outputs": []
    },
    {
      "cell_type": "markdown",
      "source": [
        "**BERT Model Configuration**\n",
        "- We will initialize BERT uncased configuration."
      ],
      "metadata": {
        "id": "1m2zSoonlFXw"
      }
    },
    {
      "cell_type": "code",
      "source": [
        "#@ BERT MODEL CONFIGURATIONS: \n",
        "try:\n",
        "    import transformers\n",
        "except:\n",
        "    print(\"Installing Transformers\")\n",
        "    !pip install transformers                               # Installing transformers. \n",
        "from transformers import BertModel, BertConfig\n",
        "configuration = BertConfig()                                # Initializing BERT configurations. \n",
        "model = BertModel(configuration)                            # Initializing BERT model. \n",
        "configuration = model.config                                # Accessing model configuration. \n",
        "print(configuration)                                        # Inspecting configuration. "
      ],
      "metadata": {
        "colab": {
          "base_uri": "https://localhost:8080/"
        },
        "id": "rSrh684_kRtS",
        "outputId": "e70896ff-e96a-4de8-9906-12d7a7fcedc1"
      },
      "execution_count": 16,
      "outputs": [
        {
          "output_type": "stream",
          "name": "stdout",
          "text": [
            "BertConfig {\n",
            "  \"attention_probs_dropout_prob\": 0.1,\n",
            "  \"classifier_dropout\": null,\n",
            "  \"hidden_act\": \"gelu\",\n",
            "  \"hidden_dropout_prob\": 0.1,\n",
            "  \"hidden_size\": 768,\n",
            "  \"initializer_range\": 0.02,\n",
            "  \"intermediate_size\": 3072,\n",
            "  \"layer_norm_eps\": 1e-12,\n",
            "  \"max_position_embeddings\": 512,\n",
            "  \"model_type\": \"bert\",\n",
            "  \"num_attention_heads\": 12,\n",
            "  \"num_hidden_layers\": 12,\n",
            "  \"pad_token_id\": 0,\n",
            "  \"position_embedding_type\": \"absolute\",\n",
            "  \"transformers_version\": \"4.18.0\",\n",
            "  \"type_vocab_size\": 2,\n",
            "  \"use_cache\": true,\n",
            "  \"vocab_size\": 30522\n",
            "}\n",
            "\n"
          ]
        }
      ]
    },
    {
      "cell_type": "code",
      "source": [
        "#@ LOADING HUGGING FACE BERT UNCASED MODEL:\n",
        "model = BertForSequenceClassification.from_pretrained(\"bert-base-uncased\", num_labels=2)     # Initializing pretrained model. \n",
        "model.cuda()                                                                                 # Inspection. "
      ],
      "metadata": {
        "colab": {
          "base_uri": "https://localhost:8080/"
        },
        "id": "EyfxBMiPmjrP",
        "outputId": "adba996d-ea0c-4676-f89e-e6c657b20ea7"
      },
      "execution_count": 18,
      "outputs": [
        {
          "output_type": "stream",
          "name": "stderr",
          "text": [
            "Some weights of the model checkpoint at bert-base-uncased were not used when initializing BertForSequenceClassification: ['cls.predictions.decoder.weight', 'cls.predictions.bias', 'cls.predictions.transform.dense.weight', 'cls.predictions.transform.LayerNorm.bias', 'cls.seq_relationship.weight', 'cls.predictions.transform.LayerNorm.weight', 'cls.seq_relationship.bias', 'cls.predictions.transform.dense.bias']\n",
            "- This IS expected if you are initializing BertForSequenceClassification from the checkpoint of a model trained on another task or with another architecture (e.g. initializing a BertForSequenceClassification model from a BertForPreTraining model).\n",
            "- This IS NOT expected if you are initializing BertForSequenceClassification from the checkpoint of a model that you expect to be exactly identical (initializing a BertForSequenceClassification model from a BertForSequenceClassification model).\n",
            "Some weights of BertForSequenceClassification were not initialized from the model checkpoint at bert-base-uncased and are newly initialized: ['classifier.weight', 'classifier.bias']\n",
            "You should probably TRAIN this model on a down-stream task to be able to use it for predictions and inference.\n"
          ]
        },
        {
          "output_type": "execute_result",
          "data": {
            "text/plain": [
              "BertForSequenceClassification(\n",
              "  (bert): BertModel(\n",
              "    (embeddings): BertEmbeddings(\n",
              "      (word_embeddings): Embedding(30522, 768, padding_idx=0)\n",
              "      (position_embeddings): Embedding(512, 768)\n",
              "      (token_type_embeddings): Embedding(2, 768)\n",
              "      (LayerNorm): LayerNorm((768,), eps=1e-12, elementwise_affine=True)\n",
              "      (dropout): Dropout(p=0.1, inplace=False)\n",
              "    )\n",
              "    (encoder): BertEncoder(\n",
              "      (layer): ModuleList(\n",
              "        (0): BertLayer(\n",
              "          (attention): BertAttention(\n",
              "            (self): BertSelfAttention(\n",
              "              (query): Linear(in_features=768, out_features=768, bias=True)\n",
              "              (key): Linear(in_features=768, out_features=768, bias=True)\n",
              "              (value): Linear(in_features=768, out_features=768, bias=True)\n",
              "              (dropout): Dropout(p=0.1, inplace=False)\n",
              "            )\n",
              "            (output): BertSelfOutput(\n",
              "              (dense): Linear(in_features=768, out_features=768, bias=True)\n",
              "              (LayerNorm): LayerNorm((768,), eps=1e-12, elementwise_affine=True)\n",
              "              (dropout): Dropout(p=0.1, inplace=False)\n",
              "            )\n",
              "          )\n",
              "          (intermediate): BertIntermediate(\n",
              "            (dense): Linear(in_features=768, out_features=3072, bias=True)\n",
              "            (intermediate_act_fn): GELUActivation()\n",
              "          )\n",
              "          (output): BertOutput(\n",
              "            (dense): Linear(in_features=3072, out_features=768, bias=True)\n",
              "            (LayerNorm): LayerNorm((768,), eps=1e-12, elementwise_affine=True)\n",
              "            (dropout): Dropout(p=0.1, inplace=False)\n",
              "          )\n",
              "        )\n",
              "        (1): BertLayer(\n",
              "          (attention): BertAttention(\n",
              "            (self): BertSelfAttention(\n",
              "              (query): Linear(in_features=768, out_features=768, bias=True)\n",
              "              (key): Linear(in_features=768, out_features=768, bias=True)\n",
              "              (value): Linear(in_features=768, out_features=768, bias=True)\n",
              "              (dropout): Dropout(p=0.1, inplace=False)\n",
              "            )\n",
              "            (output): BertSelfOutput(\n",
              "              (dense): Linear(in_features=768, out_features=768, bias=True)\n",
              "              (LayerNorm): LayerNorm((768,), eps=1e-12, elementwise_affine=True)\n",
              "              (dropout): Dropout(p=0.1, inplace=False)\n",
              "            )\n",
              "          )\n",
              "          (intermediate): BertIntermediate(\n",
              "            (dense): Linear(in_features=768, out_features=3072, bias=True)\n",
              "            (intermediate_act_fn): GELUActivation()\n",
              "          )\n",
              "          (output): BertOutput(\n",
              "            (dense): Linear(in_features=3072, out_features=768, bias=True)\n",
              "            (LayerNorm): LayerNorm((768,), eps=1e-12, elementwise_affine=True)\n",
              "            (dropout): Dropout(p=0.1, inplace=False)\n",
              "          )\n",
              "        )\n",
              "        (2): BertLayer(\n",
              "          (attention): BertAttention(\n",
              "            (self): BertSelfAttention(\n",
              "              (query): Linear(in_features=768, out_features=768, bias=True)\n",
              "              (key): Linear(in_features=768, out_features=768, bias=True)\n",
              "              (value): Linear(in_features=768, out_features=768, bias=True)\n",
              "              (dropout): Dropout(p=0.1, inplace=False)\n",
              "            )\n",
              "            (output): BertSelfOutput(\n",
              "              (dense): Linear(in_features=768, out_features=768, bias=True)\n",
              "              (LayerNorm): LayerNorm((768,), eps=1e-12, elementwise_affine=True)\n",
              "              (dropout): Dropout(p=0.1, inplace=False)\n",
              "            )\n",
              "          )\n",
              "          (intermediate): BertIntermediate(\n",
              "            (dense): Linear(in_features=768, out_features=3072, bias=True)\n",
              "            (intermediate_act_fn): GELUActivation()\n",
              "          )\n",
              "          (output): BertOutput(\n",
              "            (dense): Linear(in_features=3072, out_features=768, bias=True)\n",
              "            (LayerNorm): LayerNorm((768,), eps=1e-12, elementwise_affine=True)\n",
              "            (dropout): Dropout(p=0.1, inplace=False)\n",
              "          )\n",
              "        )\n",
              "        (3): BertLayer(\n",
              "          (attention): BertAttention(\n",
              "            (self): BertSelfAttention(\n",
              "              (query): Linear(in_features=768, out_features=768, bias=True)\n",
              "              (key): Linear(in_features=768, out_features=768, bias=True)\n",
              "              (value): Linear(in_features=768, out_features=768, bias=True)\n",
              "              (dropout): Dropout(p=0.1, inplace=False)\n",
              "            )\n",
              "            (output): BertSelfOutput(\n",
              "              (dense): Linear(in_features=768, out_features=768, bias=True)\n",
              "              (LayerNorm): LayerNorm((768,), eps=1e-12, elementwise_affine=True)\n",
              "              (dropout): Dropout(p=0.1, inplace=False)\n",
              "            )\n",
              "          )\n",
              "          (intermediate): BertIntermediate(\n",
              "            (dense): Linear(in_features=768, out_features=3072, bias=True)\n",
              "            (intermediate_act_fn): GELUActivation()\n",
              "          )\n",
              "          (output): BertOutput(\n",
              "            (dense): Linear(in_features=3072, out_features=768, bias=True)\n",
              "            (LayerNorm): LayerNorm((768,), eps=1e-12, elementwise_affine=True)\n",
              "            (dropout): Dropout(p=0.1, inplace=False)\n",
              "          )\n",
              "        )\n",
              "        (4): BertLayer(\n",
              "          (attention): BertAttention(\n",
              "            (self): BertSelfAttention(\n",
              "              (query): Linear(in_features=768, out_features=768, bias=True)\n",
              "              (key): Linear(in_features=768, out_features=768, bias=True)\n",
              "              (value): Linear(in_features=768, out_features=768, bias=True)\n",
              "              (dropout): Dropout(p=0.1, inplace=False)\n",
              "            )\n",
              "            (output): BertSelfOutput(\n",
              "              (dense): Linear(in_features=768, out_features=768, bias=True)\n",
              "              (LayerNorm): LayerNorm((768,), eps=1e-12, elementwise_affine=True)\n",
              "              (dropout): Dropout(p=0.1, inplace=False)\n",
              "            )\n",
              "          )\n",
              "          (intermediate): BertIntermediate(\n",
              "            (dense): Linear(in_features=768, out_features=3072, bias=True)\n",
              "            (intermediate_act_fn): GELUActivation()\n",
              "          )\n",
              "          (output): BertOutput(\n",
              "            (dense): Linear(in_features=3072, out_features=768, bias=True)\n",
              "            (LayerNorm): LayerNorm((768,), eps=1e-12, elementwise_affine=True)\n",
              "            (dropout): Dropout(p=0.1, inplace=False)\n",
              "          )\n",
              "        )\n",
              "        (5): BertLayer(\n",
              "          (attention): BertAttention(\n",
              "            (self): BertSelfAttention(\n",
              "              (query): Linear(in_features=768, out_features=768, bias=True)\n",
              "              (key): Linear(in_features=768, out_features=768, bias=True)\n",
              "              (value): Linear(in_features=768, out_features=768, bias=True)\n",
              "              (dropout): Dropout(p=0.1, inplace=False)\n",
              "            )\n",
              "            (output): BertSelfOutput(\n",
              "              (dense): Linear(in_features=768, out_features=768, bias=True)\n",
              "              (LayerNorm): LayerNorm((768,), eps=1e-12, elementwise_affine=True)\n",
              "              (dropout): Dropout(p=0.1, inplace=False)\n",
              "            )\n",
              "          )\n",
              "          (intermediate): BertIntermediate(\n",
              "            (dense): Linear(in_features=768, out_features=3072, bias=True)\n",
              "            (intermediate_act_fn): GELUActivation()\n",
              "          )\n",
              "          (output): BertOutput(\n",
              "            (dense): Linear(in_features=3072, out_features=768, bias=True)\n",
              "            (LayerNorm): LayerNorm((768,), eps=1e-12, elementwise_affine=True)\n",
              "            (dropout): Dropout(p=0.1, inplace=False)\n",
              "          )\n",
              "        )\n",
              "        (6): BertLayer(\n",
              "          (attention): BertAttention(\n",
              "            (self): BertSelfAttention(\n",
              "              (query): Linear(in_features=768, out_features=768, bias=True)\n",
              "              (key): Linear(in_features=768, out_features=768, bias=True)\n",
              "              (value): Linear(in_features=768, out_features=768, bias=True)\n",
              "              (dropout): Dropout(p=0.1, inplace=False)\n",
              "            )\n",
              "            (output): BertSelfOutput(\n",
              "              (dense): Linear(in_features=768, out_features=768, bias=True)\n",
              "              (LayerNorm): LayerNorm((768,), eps=1e-12, elementwise_affine=True)\n",
              "              (dropout): Dropout(p=0.1, inplace=False)\n",
              "            )\n",
              "          )\n",
              "          (intermediate): BertIntermediate(\n",
              "            (dense): Linear(in_features=768, out_features=3072, bias=True)\n",
              "            (intermediate_act_fn): GELUActivation()\n",
              "          )\n",
              "          (output): BertOutput(\n",
              "            (dense): Linear(in_features=3072, out_features=768, bias=True)\n",
              "            (LayerNorm): LayerNorm((768,), eps=1e-12, elementwise_affine=True)\n",
              "            (dropout): Dropout(p=0.1, inplace=False)\n",
              "          )\n",
              "        )\n",
              "        (7): BertLayer(\n",
              "          (attention): BertAttention(\n",
              "            (self): BertSelfAttention(\n",
              "              (query): Linear(in_features=768, out_features=768, bias=True)\n",
              "              (key): Linear(in_features=768, out_features=768, bias=True)\n",
              "              (value): Linear(in_features=768, out_features=768, bias=True)\n",
              "              (dropout): Dropout(p=0.1, inplace=False)\n",
              "            )\n",
              "            (output): BertSelfOutput(\n",
              "              (dense): Linear(in_features=768, out_features=768, bias=True)\n",
              "              (LayerNorm): LayerNorm((768,), eps=1e-12, elementwise_affine=True)\n",
              "              (dropout): Dropout(p=0.1, inplace=False)\n",
              "            )\n",
              "          )\n",
              "          (intermediate): BertIntermediate(\n",
              "            (dense): Linear(in_features=768, out_features=3072, bias=True)\n",
              "            (intermediate_act_fn): GELUActivation()\n",
              "          )\n",
              "          (output): BertOutput(\n",
              "            (dense): Linear(in_features=3072, out_features=768, bias=True)\n",
              "            (LayerNorm): LayerNorm((768,), eps=1e-12, elementwise_affine=True)\n",
              "            (dropout): Dropout(p=0.1, inplace=False)\n",
              "          )\n",
              "        )\n",
              "        (8): BertLayer(\n",
              "          (attention): BertAttention(\n",
              "            (self): BertSelfAttention(\n",
              "              (query): Linear(in_features=768, out_features=768, bias=True)\n",
              "              (key): Linear(in_features=768, out_features=768, bias=True)\n",
              "              (value): Linear(in_features=768, out_features=768, bias=True)\n",
              "              (dropout): Dropout(p=0.1, inplace=False)\n",
              "            )\n",
              "            (output): BertSelfOutput(\n",
              "              (dense): Linear(in_features=768, out_features=768, bias=True)\n",
              "              (LayerNorm): LayerNorm((768,), eps=1e-12, elementwise_affine=True)\n",
              "              (dropout): Dropout(p=0.1, inplace=False)\n",
              "            )\n",
              "          )\n",
              "          (intermediate): BertIntermediate(\n",
              "            (dense): Linear(in_features=768, out_features=3072, bias=True)\n",
              "            (intermediate_act_fn): GELUActivation()\n",
              "          )\n",
              "          (output): BertOutput(\n",
              "            (dense): Linear(in_features=3072, out_features=768, bias=True)\n",
              "            (LayerNorm): LayerNorm((768,), eps=1e-12, elementwise_affine=True)\n",
              "            (dropout): Dropout(p=0.1, inplace=False)\n",
              "          )\n",
              "        )\n",
              "        (9): BertLayer(\n",
              "          (attention): BertAttention(\n",
              "            (self): BertSelfAttention(\n",
              "              (query): Linear(in_features=768, out_features=768, bias=True)\n",
              "              (key): Linear(in_features=768, out_features=768, bias=True)\n",
              "              (value): Linear(in_features=768, out_features=768, bias=True)\n",
              "              (dropout): Dropout(p=0.1, inplace=False)\n",
              "            )\n",
              "            (output): BertSelfOutput(\n",
              "              (dense): Linear(in_features=768, out_features=768, bias=True)\n",
              "              (LayerNorm): LayerNorm((768,), eps=1e-12, elementwise_affine=True)\n",
              "              (dropout): Dropout(p=0.1, inplace=False)\n",
              "            )\n",
              "          )\n",
              "          (intermediate): BertIntermediate(\n",
              "            (dense): Linear(in_features=768, out_features=3072, bias=True)\n",
              "            (intermediate_act_fn): GELUActivation()\n",
              "          )\n",
              "          (output): BertOutput(\n",
              "            (dense): Linear(in_features=3072, out_features=768, bias=True)\n",
              "            (LayerNorm): LayerNorm((768,), eps=1e-12, elementwise_affine=True)\n",
              "            (dropout): Dropout(p=0.1, inplace=False)\n",
              "          )\n",
              "        )\n",
              "        (10): BertLayer(\n",
              "          (attention): BertAttention(\n",
              "            (self): BertSelfAttention(\n",
              "              (query): Linear(in_features=768, out_features=768, bias=True)\n",
              "              (key): Linear(in_features=768, out_features=768, bias=True)\n",
              "              (value): Linear(in_features=768, out_features=768, bias=True)\n",
              "              (dropout): Dropout(p=0.1, inplace=False)\n",
              "            )\n",
              "            (output): BertSelfOutput(\n",
              "              (dense): Linear(in_features=768, out_features=768, bias=True)\n",
              "              (LayerNorm): LayerNorm((768,), eps=1e-12, elementwise_affine=True)\n",
              "              (dropout): Dropout(p=0.1, inplace=False)\n",
              "            )\n",
              "          )\n",
              "          (intermediate): BertIntermediate(\n",
              "            (dense): Linear(in_features=768, out_features=3072, bias=True)\n",
              "            (intermediate_act_fn): GELUActivation()\n",
              "          )\n",
              "          (output): BertOutput(\n",
              "            (dense): Linear(in_features=3072, out_features=768, bias=True)\n",
              "            (LayerNorm): LayerNorm((768,), eps=1e-12, elementwise_affine=True)\n",
              "            (dropout): Dropout(p=0.1, inplace=False)\n",
              "          )\n",
              "        )\n",
              "        (11): BertLayer(\n",
              "          (attention): BertAttention(\n",
              "            (self): BertSelfAttention(\n",
              "              (query): Linear(in_features=768, out_features=768, bias=True)\n",
              "              (key): Linear(in_features=768, out_features=768, bias=True)\n",
              "              (value): Linear(in_features=768, out_features=768, bias=True)\n",
              "              (dropout): Dropout(p=0.1, inplace=False)\n",
              "            )\n",
              "            (output): BertSelfOutput(\n",
              "              (dense): Linear(in_features=768, out_features=768, bias=True)\n",
              "              (LayerNorm): LayerNorm((768,), eps=1e-12, elementwise_affine=True)\n",
              "              (dropout): Dropout(p=0.1, inplace=False)\n",
              "            )\n",
              "          )\n",
              "          (intermediate): BertIntermediate(\n",
              "            (dense): Linear(in_features=768, out_features=3072, bias=True)\n",
              "            (intermediate_act_fn): GELUActivation()\n",
              "          )\n",
              "          (output): BertOutput(\n",
              "            (dense): Linear(in_features=3072, out_features=768, bias=True)\n",
              "            (LayerNorm): LayerNorm((768,), eps=1e-12, elementwise_affine=True)\n",
              "            (dropout): Dropout(p=0.1, inplace=False)\n",
              "          )\n",
              "        )\n",
              "      )\n",
              "    )\n",
              "    (pooler): BertPooler(\n",
              "      (dense): Linear(in_features=768, out_features=768, bias=True)\n",
              "      (activation): Tanh()\n",
              "    )\n",
              "  )\n",
              "  (dropout): Dropout(p=0.1, inplace=False)\n",
              "  (classifier): Linear(in_features=768, out_features=2, bias=True)\n",
              ")"
            ]
          },
          "metadata": {},
          "execution_count": 18
        }
      ]
    },
    {
      "cell_type": "markdown",
      "source": [
        "**Optimizer Grouped Parameters**\n",
        "- We will prepare the model's parameters for the training loop. Fine-tuning a model begins with initializing the pretrained model parameter values. We shouldn't apply weight decay to parameters: bias, gamma, beta. "
      ],
      "metadata": {
        "id": "HRjiyWXzogLQ"
      }
    },
    {
      "cell_type": "code",
      "source": [
        "#@ OPTIMIZER GROUPED PARAMETERS:\n",
        "param_optimizer = list(model.named_parameters())                # Initializing model parameters. \n",
        "no_decay = [\"bias\", \"LayerNorm.weight\"]                         # Initialization. \n",
        "optimizer_grouped_parameters = [\n",
        "    {\"params\": [p for n, p in param_optimizer if not any(\n",
        "        nd in n for nd in no_decay\n",
        "    )], \"weight_decay_rate\": 0.1},                              # Initializing weight parameters. \n",
        "    {\"params\": [p for n, p in param_optimizer if any(\n",
        "        nd in n for nd in no_decay\n",
        "    )], \"weight_decay_rate\": 0.0}                               # Initializing bias parameters. \n",
        "]"
      ],
      "metadata": {
        "id": "KBLCzrxHoGCR"
      },
      "execution_count": 19,
      "outputs": []
    },
    {
      "cell_type": "markdown",
      "source": [
        "**Initializing Hyperparameters**\n",
        "- The learning rate and warm-up rate should be set to a very small value early in the optimization phase and gradually increase after a certain number of iterations. This avoids large gradients and overshooting the optimization goals. Adam will activate weight decay and also go through a warm-up phase. "
      ],
      "metadata": {
        "id": "8uV_fTJOs3be"
      }
    },
    {
      "cell_type": "code",
      "source": [
        "#@ INITIALIZING ADAM OPTIMIZER:\n",
        "epochs = 4\n",
        "optimizer = AdamW(optimizer_grouped_parameters, lr=2e-5,eps=1e-8)   # Initializing adam optimizer.\n",
        "total_steps = len(train_dataloader) * epochs                        # Initializing training steps.\n",
        "scheduler = get_linear_schedule_with_warmup(\n",
        "    optimizer, num_warmup_steps=0, num_training_steps=total_steps)  # Initializing learning rate scheduler.\n",
        "\n",
        "#@ DEFINING ACCURACY MEASUREMENT FUNCTION:\n",
        "def flat_accuracy(preds, labels):                                   # Accuracy function. \n",
        "    pred_flat = np.argmax(preds, axis=1).flatten()                  # Flatten the prediction. \n",
        "    labels_flat = labels.flatten()                                  # Flatten the labels. \n",
        "    return np.sum(pred_flat == labels_flat) / len(labels_flat)      # Measuring accuracy. "
      ],
      "metadata": {
        "id": "Y1kWFpYDqM4A"
      },
      "execution_count": 29,
      "outputs": []
    },
    {
      "cell_type": "code",
      "source": [
        "#@ INITIALIZING TRAINING LOOP:\n",
        "train_loss = []                                                             # Initialization.\n",
        "for _ in trange(epochs, desc=\"Epoch\"):\n",
        "    #@ TRAINING:\n",
        "    model.train()                                                           # Initializing training mode. \n",
        "    tr_loss = 0                                                             # Initialization. \n",
        "    nb_tr_examples, nb_tr_steps = 0, 0                                      # Initialization.\n",
        "    for step, batch in enumerate(train_dataloader):\n",
        "        batch = tuple(t.to(device) for t in batch)                          # Adding batch to GPU.\n",
        "        b_input_ids, b_input_masks, b_labels = batch      \n",
        "        optimizer.zero_grad()                                               # Zeroing gradients.\n",
        "        output = model(b_input_ids, token_type_ids=None, \n",
        "                       attention_mask=b_input_masks,labels=b_labels)        # Forward propagation function.\n",
        "        loss = output[\"loss\"]                                               # Getting loss. \n",
        "        train_loss.append(loss.item())                                      # Accumulating losses. \n",
        "        loss.backward()                                                     # Back propagation function. \n",
        "        optimizer.step()                                                    # Updating parameters.\n",
        "        tr_loss += loss.item()                                              # Updating loss.\n",
        "        nb_tr_examples += b_input_ids.size(0)\n",
        "        nb_tr_steps += 1\n",
        "    print(\"Train loss: {}\".format(tr_loss / nb_tr_steps))                   # Getting training loss. \n",
        "    #@ VALIDATION:\n",
        "    model.eval()                                                            # Initializing evaluation mode. \n",
        "    eval_loss, eval_accuracy = 0, 0                                         # Initialization.\n",
        "    nb_eval_steps, nb_eval_examples = 0, 0                                  # Tracking variables. \n",
        "    for batch in validation_dataloader:\n",
        "        batch = tuple(t.to(device) for t in batch)                          # Adding batch to GPU.\n",
        "        b_input_ids, b_input_masks, b_labels = batch                \n",
        "        with torch.no_grad():\n",
        "            logits = model(b_input_ids, token_type_ids=None, \n",
        "                           attention_mask=b_input_masks)\n",
        "        logits = logits[\"logits\"].detach().cpu().numpy()                    # Moving to CPU.\n",
        "        label_ids = b_labels.to(\"cpu\").numpy()                              # Moving to CPU.\n",
        "        tmp_eval_accuracy = flat_accuracy(logits, label_ids)                # Calculating accuracy.\n",
        "        eval_accuracy += tmp_eval_accuracy                                  # Updating.\n",
        "        nb_eval_steps += 1 \n",
        "    print(\"Validation Accuracy: {}\".format(eval_accuracy/nb_eval_steps))    # Getting validation accuracy."
      ],
      "metadata": {
        "colab": {
          "base_uri": "https://localhost:8080/"
        },
        "id": "9BP3uke33f1H",
        "outputId": "0b1ee8e4-53f5-4553-de9a-1db05beca897"
      },
      "execution_count": 30,
      "outputs": [
        {
          "output_type": "stream",
          "name": "stderr",
          "text": [
            "\rEpoch:   0%|          | 0/4 [00:00<?, ?it/s]"
          ]
        },
        {
          "output_type": "stream",
          "name": "stdout",
          "text": [
            "Train loss: 0.4975795211633706\n"
          ]
        },
        {
          "output_type": "stream",
          "name": "stderr",
          "text": [
            "\rEpoch:  25%|██▌       | 1/4 [02:41<08:03, 161.07s/it]"
          ]
        },
        {
          "output_type": "stream",
          "name": "stdout",
          "text": [
            "Validation Accuracy: 0.8344907407407407\n",
            "Train loss: 0.3005098934242834\n"
          ]
        },
        {
          "output_type": "stream",
          "name": "stderr",
          "text": [
            "\rEpoch:  50%|█████     | 2/4 [05:33<05:35, 167.68s/it]"
          ]
        },
        {
          "output_type": "stream",
          "name": "stdout",
          "text": [
            "Validation Accuracy: 0.8321759259259259\n",
            "Train loss: 0.17634920581124136\n"
          ]
        },
        {
          "output_type": "stream",
          "name": "stderr",
          "text": [
            "\rEpoch:  75%|███████▌  | 3/4 [08:25<02:49, 169.74s/it]"
          ]
        },
        {
          "output_type": "stream",
          "name": "stdout",
          "text": [
            "Validation Accuracy: 0.8491512345679012\n",
            "Train loss: 0.10905328953321791\n"
          ]
        },
        {
          "output_type": "stream",
          "name": "stderr",
          "text": [
            "Epoch: 100%|██████████| 4/4 [11:17<00:00, 169.44s/it]"
          ]
        },
        {
          "output_type": "stream",
          "name": "stdout",
          "text": [
            "Validation Accuracy: 0.8329475308641975\n"
          ]
        },
        {
          "output_type": "stream",
          "name": "stderr",
          "text": [
            "\n"
          ]
        }
      ]
    },
    {
      "cell_type": "markdown",
      "source": [
        "**Training Evaluation**\n",
        "- The loss and accuracy values were stored. "
      ],
      "metadata": {
        "id": "75mLE4HCD_bn"
      }
    },
    {
      "cell_type": "code",
      "source": [
        "#@ INITIALIZING TRAINING EVALUATION: \n",
        "plt.figure(figsize=(15, 8))\n",
        "plt.title(\"Training Loss\")\n",
        "plt.xlabel(\"Batch\")\n",
        "plt.ylabel(\"Epoch\")\n",
        "plt.plot(train_loss)\n",
        "plt.show();"
      ],
      "metadata": {
        "colab": {
          "base_uri": "https://localhost:8080/",
          "height": 513
        },
        "id": "KPXUT9JJDUOT",
        "outputId": "c606e705-f5e8-4c4a-8c25-e2619e3729c1"
      },
      "execution_count": 31,
      "outputs": [
        {
          "output_type": "display_data",
          "data": {
            "text/plain": [
              "<Figure size 1080x576 with 1 Axes>"
            ],
            "image/png": "[encoded data removed]"
          },
          "metadata": {
            "needs_background": "light"
          }
        }
      ]
    },
    {
      "cell_type": "code",
      "source": [
        "#@ INITIALIZING MODEL EVALUATION:\n",
        "PATH = \"/content/drive/MyDrive/Data/out_of_domain_dev.tsv\"                          # Path to dataset.\n",
        "df = pd.read_csv(PATH, delimiter=\"\\t\", header=None, \n",
        "                 names=[\"sentence_source\", \"label\", \"label_notes\", \"sentence\"])     # Reading the dataset.\n",
        "\n",
        "#@ PREPROCESSING THE DATASET: \n",
        "sentences = df.sentence.values                                          # Initializing arrays. \n",
        "sentences = [\"[CLS] \" + sentence + \" [SEP]\" for sentence in sentences]  # Adding BERT tokens. \n",
        "labels = df.label.values                                                # Initializing arrays. \n",
        "\n",
        "tokenized_texts = [tokenizer.tokenize(sent) for sent in sentences]      # Initializing tokenization. \n",
        "\n",
        "#@ PROCESSING THE DATA:\n",
        "MAX_LEN = 128                                                           # Initialization. \n",
        "input_ids = [tokenizer.convert_tokens_to_ids(x) for x in \\\n",
        "             tokenized_texts]                                           # Initializing BERT vocabulary. \n",
        "input_ids = pad_sequences(input_ids, maxlen=MAX_LEN, dtype=\"long\",\n",
        "                          truncating=\"post\", padding=\"post\")            # Padding input tokens. \n",
        "\n",
        "#@ INITIALIZING ATTENTION MASKS: \n",
        "attention_masks = []                                # Initialization. \n",
        "for seq in input_ids:\n",
        "    seq_mask = [float(i>0) for i in seq]            # Adding mask of 1s and 0s. \n",
        "    attention_masks.append(seq_mask)                # Initializing attention masks. \n",
        "\n",
        "#@ CONVERTING DATA INTO TENSORS:\n",
        "prediction_inputs = torch.tensor(input_ids)         # Converting into tensors. \n",
        "prediction_labels = torch.tensor(labels)            # Converting into tensors. \n",
        "prediction_masks = torch.tensor(attention_masks)    # Converting into tensors. \n",
        "\n",
        "#@ SELECTING BATCH SIZE AND CREATING ITERATOR: \n",
        "batch_size = 32                                                                             # Initializing batch size. \n",
        "prediction_data = TensorDataset(prediction_inputs, prediction_masks, prediction_labels)     # Initializing tensordataset. \n",
        "prediction_sampler = RandomSampler(prediction_data)                                         # Initializing prediction sampler. \n",
        "prediction_dataloader = DataLoader(prediction_data, sampler=prediction_sampler, \n",
        "                                   batch_size=batch_size)                                   # Initializing train dataloader. "
      ],
      "metadata": {
        "id": "C5uPhdPeF9gG"
      },
      "execution_count": 32,
      "outputs": []
    },
    {
      "cell_type": "code",
      "source": [
        "#@ INITIALIZING PREDICTION:\n",
        "model.eval()                                                            # Initializing evaluation mode. \n",
        "predictions, true_labels = [], []                                       # Initialization.\n",
        "for batch in prediction_dataloader:\n",
        "    batch = tuple(t.to(device) for t in batch)                          # Adding batch to GPU.\n",
        "    b_input_ids, b_input_masks, b_labels = batch                \n",
        "    with torch.no_grad():\n",
        "        logits = model(b_input_ids, token_type_ids=None, \n",
        "                       attention_mask=b_input_masks)\n",
        "    logits = logits[\"logits\"].detach().cpu().numpy()                    # Moving to CPU.\n",
        "    label_ids = b_labels.to(\"cpu\").numpy()                              # Moving to CPU.\n",
        "    predictions.append(logits)\n",
        "    true_labels.append(label_ids)"
      ],
      "metadata": {
        "id": "HHLWxpW0LkY_"
      },
      "execution_count": 33,
      "outputs": []
    },
    {
      "cell_type": "code",
      "source": [
        "#@ EVALUATING MATTHEWS CORRELATION COEFFICIENT:\n",
        "matthews_set = []                                                       # Initialization.\n",
        "for i in range(len(true_labels)):\n",
        "    matthews = matthews_corrcoef(\n",
        "        true_labels[i], np.argmax(predictions[i], axis=1).flatten())    # Matthews correlation coefficient.\n",
        "    matthews_set.append(matthews)                                       # Accumulating MCC.\n",
        "matthews_set                                                            # Inspction."
      ],
      "metadata": {
        "colab": {
          "base_uri": "https://localhost:8080/"
        },
        "id": "qdt2w0SJNxQO",
        "outputId": "61a87334-6edd-4742-9ba5-18a78583bb8a"
      },
      "execution_count": 35,
      "outputs": [
        {
          "output_type": "execute_result",
          "data": {
            "text/plain": [
              "[0.8246211251235321,\n",
              " 0.3768673314407159,\n",
              " 0.26857142857142857,\n",
              " 0.5269860393922079,\n",
              " 0.17338428937260214,\n",
              " 0.4472135954999579,\n",
              " 0.7006490497453707,\n",
              " 0.32660542964119055,\n",
              " 0.49517597397212765,\n",
              " 0.24444444444444444,\n",
              " 0.6777749493656265,\n",
              " 0.539791896359413,\n",
              " 0.6908212560386473,\n",
              " 0.5807564950208268,\n",
              " 0.6217695735539032,\n",
              " 0.539791896359413,\n",
              " 0.5773502691896258]"
            ]
          },
          "metadata": {},
          "execution_count": 35
        }
      ]
    },
    {
      "cell_type": "code",
      "source": [
        "#@ INSPECTING MATTHEWS CORRELATION COEFFICIENT: \n",
        "flat_predictions = [item for sublist in predictions for item in sublist]        # Initializing predictions. \n",
        "flat_predictions = np.argmax(flat_predictions, axis=1).flatten()                # Flatten predictions. \n",
        "flat_true_labels = [item for sublist in true_labels for item in sublist]        # Initializing true labels.\n",
        "matthews_corrcoef(flat_true_labels, flat_predictions)                           # Getting MCC score."
      ],
      "metadata": {
        "colab": {
          "base_uri": "https://localhost:8080/"
        },
        "id": "s4pQ29OUPjCL",
        "outputId": "77e34b96-0eae-4e0f-8bf7-6903df42d9f5"
      },
      "execution_count": 38,
      "outputs": [
        {
          "output_type": "execute_result",
          "data": {
            "text/plain": [
              "0.5194752376551192"
            ]
          },
          "metadata": {},
          "execution_count": 38
        }
      ]
    }
  ]
}