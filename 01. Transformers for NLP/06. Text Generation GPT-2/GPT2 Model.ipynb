{
  "nbformat": 4,
  "nbformat_minor": 0,
  "metadata": {
    "colab": {
      "name": "GPT2 Model.ipynb",
      "provenance": []
    },
    "kernelspec": {
      "name": "python3",
      "display_name": "Python 3"
    },
    "language_info": {
      "name": "python"
    },
    "accelerator": "GPU"
  },
  "cells": [
    {
      "cell_type": "markdown",
      "source": [
        "**Initialization**\n",
        "- I use these three lines of code on top of my each notebooks because it will help to prevent any problems while reloading the same project. And the third line of code helps to make visualization within the notebook."
      ],
      "metadata": {
        "id": "7lxuqT7ERZ16"
      }
    },
    {
      "cell_type": "code",
      "execution_count": 21,
      "metadata": {
        "id": "CSTSUpBuQEow"
      },
      "outputs": [],
      "source": [
        "#@ INITIALIZATION: \n",
        "%reload_ext autoreload\n",
        "%autoreload 2\n",
        "%matplotlib inline\n",
        "\n",
        "#@ IGNORING WARNINGS: \n",
        "import warnings\n",
        "warnings.filterwarnings(\"ignore\")"
      ]
    },
    {
      "cell_type": "markdown",
      "source": [
        "**Step 1: Activating GPU**"
      ],
      "metadata": {
        "id": "3F5mVqDKSb3k"
      }
    },
    {
      "cell_type": "markdown",
      "source": [
        "**Step 2: Cloning OpenAI GPT2**"
      ],
      "metadata": {
        "id": "bdxuERWwTid6"
      }
    },
    {
      "cell_type": "code",
      "source": [
        "#@ CLONING OPEN AI GPT-2: UNCOMMENT BELOW: \n",
        "# !git clone https://github.com/openai/gpt-2.git"
      ],
      "metadata": {
        "id": "gVN29vsLRhVA"
      },
      "execution_count": 9,
      "outputs": []
    },
    {
      "cell_type": "markdown",
      "source": [
        "**Step 3: Installing Requirements**"
      ],
      "metadata": {
        "id": "M1z1upYnURmb"
      }
    },
    {
      "cell_type": "code",
      "source": [
        "#@ INSTALLING REQUIREMENTS: UNCOMMENT BELOW:\n",
        "# import os \n",
        "# os.chdir(\"/content/gpt-2\")                  # Changing directory.\n",
        "# !pip install -r requirements.txt            # Installing requirements. \n",
        "# !pip install toposort"
      ],
      "metadata": {
        "id": "7i1mbk5vT6q4"
      },
      "execution_count": 12,
      "outputs": []
    },
    {
      "cell_type": "markdown",
      "source": [
        "**Step 4: Checking TensorFlow**"
      ],
      "metadata": {
        "id": "FKj7ISwyX0AS"
      }
    },
    {
      "cell_type": "code",
      "source": [
        "#@ CHECKING VERSIONS OF TENSORFLOW:\n",
        "%tensorflow_version 1.x\n",
        "import tensorflow as tf\n",
        "print(tf.__version__)                         # Inspection. "
      ],
      "metadata": {
        "colab": {
          "base_uri": "https://localhost:8080/"
        },
        "id": "N0YpF9vIV_Fb",
        "outputId": "49812be4-a53b-4e80-d99c-ef963a9443e4"
      },
      "execution_count": 13,
      "outputs": [
        {
          "output_type": "stream",
          "name": "stdout",
          "text": [
            "TensorFlow 1.x selected.\n",
            "1.15.2\n"
          ]
        }
      ]
    },
    {
      "cell_type": "markdown",
      "source": [
        "**Step 5: Downloading GPT2 Model**"
      ],
      "metadata": {
        "id": "U33Kw1nwtdYk"
      }
    },
    {
      "cell_type": "code",
      "source": [
        "#@ DOWNLOADING GPT2 MODEL: UNCOMMENT BELOW: \n",
        "# import os\n",
        "# os.chdir(\"/content/gpt-2\")                        # Changing directory.\n",
        "# !python3 download_model.py \"117M\"                 # Downloading model."
      ],
      "metadata": {
        "id": "5siXEE6LYSAt"
      },
      "execution_count": 15,
      "outputs": []
    },
    {
      "cell_type": "code",
      "source": [
        "#@ COPYING RESOURCES TO SOURCE: UNCOMMENT BELOW:\n",
        "# !cp /content/dset.txt /content/gpt-2/src/\n",
        "# !cp -r /content/gpt-2/models/ /content/gpt-2/src/"
      ],
      "metadata": {
        "id": "5H7Yt_oCEseE"
      },
      "execution_count": 17,
      "outputs": []
    },
    {
      "cell_type": "markdown",
      "source": [
        "**Step 6-7: Intermedidate Instructions**"
      ],
      "metadata": {
        "id": "nj5vBTMMvt-B"
      }
    },
    {
      "cell_type": "code",
      "source": [
        "#@ COPYING THE TRAINING FILES: UNCOMMENT BELOW:\n",
        "# import os\n",
        "# !cp /content/train.py /content/gpt-2/src/\n",
        "# !cp /content/load_dataset.py /content/gpt-2/src/\n",
        "# !cp /content/encode.py /content/gpt-2/src/\n",
        "# !cp /content/accumulate.py /content/gpt-2/src/\n",
        "# !cp /content/memory_saving_gradients.py /content/gpt-2/src/"
      ],
      "metadata": {
        "id": "wtbHm1pmFXxd"
      },
      "execution_count": 18,
      "outputs": []
    },
    {
      "cell_type": "markdown",
      "source": [
        "**Step 8: Encoding Dataset**"
      ],
      "metadata": {
        "id": "rRj91ogPHabE"
      }
    },
    {
      "cell_type": "code",
      "source": [
        "#@ ENCODING DATASET:\n",
        "import os \n",
        "os.chdir(\"/content/gpt-2/src/\")                         # Changing directory. \n",
        "model_name = \"117M\"                                     # Initialization. \n",
        "!python /content/gpt-2/src/encode.py dset.txt out.npz   # Encoding dataset."
      ],
      "metadata": {
        "id": "texc1H5yQw7m",
        "colab": {
          "base_uri": "https://localhost:8080/"
        },
        "outputId": "572ae6a4-75a3-4eba-cd11-d63ba63c1875"
      },
      "execution_count": 19,
      "outputs": [
        {
          "output_type": "stream",
          "name": "stdout",
          "text": [
            "Reading files\n",
            "100% 1/1 [00:10<00:00, 10.55s/it]\n",
            "Writing out.npz\n"
          ]
        }
      ]
    },
    {
      "cell_type": "markdown",
      "source": [
        "**Step 9: Training Model**"
      ],
      "metadata": {
        "id": "DlV6HctaIWzf"
      }
    },
    {
      "cell_type": "code",
      "source": [
        "#@ TRAINING THE MODEL:\n",
        "import os\n",
        "os.chdir(\"/content/gpt-2/src\")\n",
        "!python train.py --dataset out.npz"
      ],
      "metadata": {
        "colab": {
          "base_uri": "https://localhost:8080/"
        },
        "id": "_oUnp_WGILd3",
        "outputId": "7959debd-47b2-49a9-91b4-18a8463aeda6"
      },
      "execution_count": 22,
      "outputs": [
        {
          "output_type": "stream",
          "name": "stdout",
          "text": [
            "WARNING:tensorflow:\n",
            "The TensorFlow contrib module will not be included in TensorFlow 2.0.\n",
            "For more information, please see:\n",
            "  * https://github.com/tensorflow/community/blob/master/rfcs/20180907-contrib-sunset.md\n",
            "  * https://github.com/tensorflow/addons\n",
            "  * https://github.com/tensorflow/io (for I/O related ops)\n",
            "If you depend on functionality not listed there, please file an issue.\n",
            "\n",
            "WARNING:tensorflow:From /content/gpt-2/src/memory_saving_gradients.py:13: The name tf.GraphKeys is deprecated. Please use tf.compat.v1.GraphKeys instead.\n",
            "\n",
            "WARNING:tensorflow:From train.py:89: The name tf.ConfigProto is deprecated. Please use tf.compat.v1.ConfigProto instead.\n",
            "\n",
            "WARNING:tensorflow:From train.py:92: The name tf.Session is deprecated. Please use tf.compat.v1.Session instead.\n",
            "\n",
            "2022-04-11 10:26:13.874547: I tensorflow/core/platform/profile_utils/cpu_utils.cc:94] CPU Frequency: 2299995000 Hz\n",
            "2022-04-11 10:26:13.874869: I tensorflow/compiler/xla/service/service.cc:168] XLA service 0x563161609b80 initialized for platform Host (this does not guarantee that XLA will be used). Devices:\n",
            "2022-04-11 10:26:13.874923: I tensorflow/compiler/xla/service/service.cc:176]   StreamExecutor device (0): Host, Default Version\n",
            "2022-04-11 10:26:13.880197: I tensorflow/stream_executor/platform/default/dso_loader.cc:44] Successfully opened dynamic library libcuda.so.1\n",
            "2022-04-11 10:26:14.266830: I tensorflow/stream_executor/cuda/cuda_gpu_executor.cc:983] successful NUMA node read from SysFS had negative value (-1), but there must be at least one NUMA node, so returning NUMA node zero\n",
            "2022-04-11 10:26:14.267919: I tensorflow/compiler/xla/service/service.cc:168] XLA service 0x563161608f40 initialized for platform CUDA (this does not guarantee that XLA will be used). Devices:\n",
            "2022-04-11 10:26:14.267966: I tensorflow/compiler/xla/service/service.cc:176]   StreamExecutor device (0): Tesla K80, Compute Capability 3.7\n",
            "2022-04-11 10:26:14.268210: I tensorflow/stream_executor/cuda/cuda_gpu_executor.cc:983] successful NUMA node read from SysFS had negative value (-1), but there must be at least one NUMA node, so returning NUMA node zero\n",
            "2022-04-11 10:26:14.270756: I tensorflow/core/common_runtime/gpu/gpu_device.cc:1639] Found device 0 with properties: \n",
            "name: Tesla K80 major: 3 minor: 7 memoryClockRate(GHz): 0.8235\n",
            "pciBusID: 0000:00:04.0\n",
            "2022-04-11 10:26:14.271209: I tensorflow/stream_executor/platform/default/dso_loader.cc:44] Successfully opened dynamic library libcudart.so.10.1\n",
            "2022-04-11 10:26:14.274133: I tensorflow/stream_executor/platform/default/dso_loader.cc:44] Successfully opened dynamic library libcublas.so.10\n",
            "2022-04-11 10:26:14.275842: I tensorflow/stream_executor/platform/default/dso_loader.cc:44] Successfully opened dynamic library libcufft.so.10\n",
            "2022-04-11 10:26:14.276298: I tensorflow/stream_executor/platform/default/dso_loader.cc:44] Successfully opened dynamic library libcurand.so.10\n",
            "2022-04-11 10:26:14.279176: I tensorflow/stream_executor/platform/default/dso_loader.cc:44] Successfully opened dynamic library libcusolver.so.10\n",
            "2022-04-11 10:26:14.283104: I tensorflow/stream_executor/platform/default/dso_loader.cc:44] Successfully opened dynamic library libcusparse.so.10\n",
            "2022-04-11 10:26:14.289208: I tensorflow/stream_executor/platform/default/dso_loader.cc:44] Successfully opened dynamic library libcudnn.so.7\n",
            "2022-04-11 10:26:14.289371: I tensorflow/stream_executor/cuda/cuda_gpu_executor.cc:983] successful NUMA node read from SysFS had negative value (-1), but there must be at least one NUMA node, so returning NUMA node zero\n",
            "2022-04-11 10:26:14.290235: I tensorflow/stream_executor/cuda/cuda_gpu_executor.cc:983] successful NUMA node read from SysFS had negative value (-1), but there must be at least one NUMA node, so returning NUMA node zero\n",
            "2022-04-11 10:26:14.291005: I tensorflow/core/common_runtime/gpu/gpu_device.cc:1767] Adding visible gpu devices: 0\n",
            "2022-04-11 10:26:14.291110: I tensorflow/stream_executor/platform/default/dso_loader.cc:44] Successfully opened dynamic library libcudart.so.10.1\n",
            "2022-04-11 10:26:14.292682: I tensorflow/core/common_runtime/gpu/gpu_device.cc:1180] Device interconnect StreamExecutor with strength 1 edge matrix:\n",
            "2022-04-11 10:26:14.292721: I tensorflow/core/common_runtime/gpu/gpu_device.cc:1186]      0 \n",
            "2022-04-11 10:26:14.292743: I tensorflow/core/common_runtime/gpu/gpu_device.cc:1199] 0:   N \n",
            "2022-04-11 10:26:14.292917: I tensorflow/stream_executor/cuda/cuda_gpu_executor.cc:983] successful NUMA node read from SysFS had negative value (-1), but there must be at least one NUMA node, so returning NUMA node zero\n",
            "2022-04-11 10:26:14.293805: I tensorflow/stream_executor/cuda/cuda_gpu_executor.cc:983] successful NUMA node read from SysFS had negative value (-1), but there must be at least one NUMA node, so returning NUMA node zero\n",
            "2022-04-11 10:26:14.294607: I tensorflow/core/common_runtime/gpu/gpu_device.cc:1325] Created TensorFlow device (/job:localhost/replica:0/task:0/device:GPU:0 with 10813 MB memory) -> physical GPU (device: 0, name: Tesla K80, pci bus id: 0000:00:04.0, compute capability: 3.7)\n",
            "WARNING:tensorflow:From train.py:93: The name tf.placeholder is deprecated. Please use tf.compat.v1.placeholder instead.\n",
            "\n",
            "WARNING:tensorflow:From /content/gpt-2/src/model.py:148: The name tf.variable_scope is deprecated. Please use tf.compat.v1.variable_scope instead.\n",
            "\n",
            "WARNING:tensorflow:From /content/gpt-2/src/model.py:152: The name tf.get_variable is deprecated. Please use tf.compat.v1.get_variable instead.\n",
            "\n",
            "WARNING:tensorflow:From /content/gpt-2/src/model.py:36: The name tf.rsqrt is deprecated. Please use tf.math.rsqrt instead.\n",
            "\n",
            "WARNING:tensorflow:From /content/gpt-2/src/sample.py:51: The name tf.AUTO_REUSE is deprecated. Please use tf.compat.v1.AUTO_REUSE instead.\n",
            "\n",
            "WARNING:tensorflow:From /content/gpt-2/src/sample.py:64: to_float (from tensorflow.python.ops.math_ops) is deprecated and will be removed in a future version.\n",
            "Instructions for updating:\n",
            "Use `tf.cast` instead.\n",
            "WARNING:tensorflow:From /content/gpt-2/src/sample.py:16: where (from tensorflow.python.ops.array_ops) is deprecated and will be removed in a future version.\n",
            "Instructions for updating:\n",
            "Use tf.where in 2.0, which has the same broadcast rule as np.where\n",
            "WARNING:tensorflow:From /content/gpt-2/src/sample.py:67: multinomial (from tensorflow.python.ops.random_ops) is deprecated and will be removed in a future version.\n",
            "Instructions for updating:\n",
            "Use `tf.random.categorical` instead.\n",
            "WARNING:tensorflow:From train.py:118: The name tf.trainable_variables is deprecated. Please use tf.compat.v1.trainable_variables instead.\n",
            "\n",
            "WARNING:tensorflow:From train.py:122: The name tf.train.AdamOptimizer is deprecated. Please use tf.compat.v1.train.AdamOptimizer instead.\n",
            "\n",
            "WARNING:tensorflow:From train.py:145: The name tf.summary.scalar is deprecated. Please use tf.compat.v1.summary.scalar instead.\n",
            "\n",
            "WARNING:tensorflow:From train.py:148: The name tf.summary.merge is deprecated. Please use tf.compat.v1.summary.merge instead.\n",
            "\n",
            "WARNING:tensorflow:From train.py:150: The name tf.summary.FileWriter is deprecated. Please use tf.compat.v1.summary.FileWriter instead.\n",
            "\n",
            "WARNING:tensorflow:From train.py:153: The name tf.train.Saver is deprecated. Please use tf.compat.v1.train.Saver instead.\n",
            "\n",
            "WARNING:tensorflow:From train.py:157: The name tf.global_variables_initializer is deprecated. Please use tf.compat.v1.global_variables_initializer instead.\n",
            "\n",
            "Loading checkpoint checkpoint/run1/model-221\n",
            "Loading dataset...\n",
            "100% 1/1 [00:00<00:00,  9.12it/s]\n",
            "dataset has 2548152 tokens\n",
            "Training...\n",
            "2022-04-11 10:26:38.731690: I tensorflow/stream_executor/platform/default/dso_loader.cc:44] Successfully opened dynamic library libcublas.so.10\n",
            "[222 | 5.27] loss=2.73 avg=2.73\n",
            "[223 | 6.20] loss=2.98 avg=2.86\n",
            "[224 | 7.13] loss=3.06 avg=2.93\n",
            "[225 | 8.06] loss=2.95 avg=2.93\n",
            "[226 | 8.98] loss=3.11 avg=2.97\n",
            "[227 | 9.90] loss=0.43 avg=2.54\n",
            "[228 | 10.82] loss=3.04 avg=2.61\n",
            "[229 | 11.74] loss=2.90 avg=2.65\n",
            "[230 | 12.66] loss=2.99 avg=2.69\n",
            "[231 | 13.58] loss=2.94 avg=2.71\n",
            "[232 | 14.51] loss=2.92 avg=2.73\n",
            "[233 | 15.43] loss=2.85 avg=2.74\n",
            "[234 | 16.38] loss=3.13 avg=2.78\n",
            "[235 | 17.30] loss=2.97 avg=2.79\n",
            "[236 | 18.22] loss=2.81 avg=2.79\n",
            "[237 | 19.15] loss=2.98 avg=2.80\n",
            "[238 | 20.08] loss=3.09 avg=2.82\n",
            "[239 | 21.01] loss=2.85 avg=2.82\n",
            "[240 | 21.93] loss=3.04 avg=2.84\n",
            "[241 | 22.86] loss=3.10 avg=2.85\n",
            "[242 | 23.79] loss=3.45 avg=2.88\n",
            "[243 | 24.71] loss=2.79 avg=2.88\n",
            "[244 | 25.64] loss=2.97 avg=2.88\n",
            "[245 | 26.57] loss=3.00 avg=2.89\n",
            "[246 | 27.52] loss=2.79 avg=2.88\n",
            "[247 | 28.46] loss=2.82 avg=2.88\n",
            "[248 | 29.38] loss=3.00 avg=2.89\n",
            "[249 | 30.30] loss=3.03 avg=2.89\n",
            "[250 | 31.22] loss=2.91 avg=2.89\n",
            "[251 | 32.16] loss=2.84 avg=2.89\n",
            "[252 | 33.09] loss=3.04 avg=2.90\n",
            "[253 | 34.01] loss=0.96 avg=2.83\n",
            "[254 | 34.95] loss=2.69 avg=2.82\n",
            "[255 | 35.88] loss=2.86 avg=2.82\n",
            "[256 | 36.81] loss=2.67 avg=2.82\n",
            "[257 | 37.75] loss=2.73 avg=2.81\n",
            "[258 | 38.67] loss=3.12 avg=2.82\n",
            "[259 | 39.59] loss=2.98 avg=2.83\n",
            "[260 | 40.52] loss=2.99 avg=2.83\n",
            "[261 | 41.45] loss=2.76 avg=2.83\n",
            "[262 | 42.38] loss=3.12 avg=2.84\n",
            "[263 | 43.31] loss=2.87 avg=2.84\n",
            "[264 | 44.25] loss=3.34 avg=2.86\n",
            "[265 | 45.18] loss=2.79 avg=2.85\n",
            "[266 | 46.11] loss=2.84 avg=2.85\n",
            "[267 | 47.03] loss=2.50 avg=2.84\n",
            "[268 | 47.96] loss=2.89 avg=2.84\n",
            "[269 | 48.89] loss=2.90 avg=2.85\n",
            "[270 | 49.82] loss=3.11 avg=2.85\n",
            "[271 | 50.75] loss=2.80 avg=2.85\n",
            "[272 | 51.69] loss=3.02 avg=2.86\n",
            "[273 | 52.62] loss=3.02 avg=2.86\n",
            "[274 | 53.56] loss=3.22 avg=2.87\n",
            "[275 | 54.48] loss=3.27 avg=2.88\n",
            "[276 | 55.42] loss=2.91 avg=2.88\n",
            "[277 | 56.34] loss=2.88 avg=2.88\n",
            "[278 | 57.28] loss=2.95 avg=2.88\n",
            "[279 | 58.20] loss=2.89 avg=2.88\n",
            "[280 | 59.13] loss=2.74 avg=2.88\n",
            "[281 | 60.07] loss=3.06 avg=2.88\n",
            "[282 | 61.00] loss=2.97 avg=2.88\n",
            "[283 | 61.93] loss=3.31 avg=2.89\n",
            "[284 | 62.86] loss=2.93 avg=2.89\n",
            "[285 | 63.80] loss=3.01 avg=2.90\n",
            "[286 | 64.73] loss=2.77 avg=2.89\n",
            "[287 | 65.67] loss=3.21 avg=2.90\n",
            "[288 | 66.60] loss=3.28 avg=2.91\n",
            "[289 | 67.54] loss=3.25 avg=2.91\n",
            "[290 | 68.47] loss=3.37 avg=2.92\n",
            "[291 | 69.41] loss=0.58 avg=2.88\n",
            "[292 | 70.34] loss=2.97 avg=2.88\n",
            "[293 | 71.27] loss=3.00 avg=2.88\n",
            "[294 | 72.21] loss=2.92 avg=2.88\n",
            "[295 | 73.13] loss=2.77 avg=2.88\n",
            "[296 | 74.06] loss=2.76 avg=2.88\n",
            "[297 | 74.99] loss=2.95 avg=2.88\n",
            "[298 | 75.93] loss=3.06 avg=2.88\n",
            "[299 | 76.86] loss=3.06 avg=2.89\n",
            "Generating samples...\n",
            "======== SAMPLE 1 ========\n",
            " life, and the soul is the only thing which can be called a thing, and the soul is the only thing which can be called a thing.\n",
            "\n",
            "The soul is the only thing which can be called a thing, and the soul is the only thing which can be called a thing.\n",
            "\n",
            "The soul is the only thing which can be called a thing, and the soul is the only thing which can be called a thing.\n",
            "\n",
            "The soul is the only thing which can be called a thing, and the soul is the only thing which can be called a thing.\n",
            "\n",
            "The soul is the only thing which can be called a thing, and the soul is the only thing which can be called a thing.\n",
            "\n",
            "The soul is the only thing which can be called a thing, and the soul is the only thing which can be called a thing.\n",
            "\n",
            "The soul is the only thing which can be called a thing, and the soul is the only thing which can be called a thing.\n",
            "\n",
            "The soul is the only thing which can be called a thing, and the soul is the only thing which can be called a thing.\n",
            "\n",
            "The soul is the only thing which can be called a thing, and the soul is the only thing which can be called a thing.\n",
            "\n",
            "The soul is the only thing which can be called a thing, and the soul is the only thing which can be called a thing.\n",
            "\n",
            "The soul is the only thing which can be called a thing, and the soul is the only thing which can be called a thing.\n",
            "\n",
            "The soul is the only thing which can be called a thing, and the soul is the only thing which can be called a thing.\n",
            "\n",
            "The soul is the only thing which can be called a thing, and the soul is the only thing which can be called a thing.\n",
            "\n",
            "The soul is the only thing which can be called a thing, and the soul is the only thing which can be called a thing.\n",
            "\n",
            "The soul is the only thing which can be called a thing, and the soul is the only thing which can be called a thing.\n",
            "\n",
            "The soul is the only thing which can be called a thing, and the soul is the only thing which can be called a thing.\n",
            "\n",
            "The soul is the only thing which can be called a thing, and the soul is the only thing which can be called a thing.\n",
            "\n",
            "The soul is the only thing which can be called a thing, and the soul is the only thing which can be called a thing.\n",
            "\n",
            "The soul is the only thing which can be called a thing, and the soul is the only thing which can be called a thing.\n",
            "\n",
            "The soul is the only thing which can be called a thing, and the soul is the only thing which can be called a thing.\n",
            "\n",
            "The soul is the only thing which can be called a thing, and the soul is the only thing which can be called a thing.\n",
            "\n",
            "The soul is the only thing which can be called a thing, and the soul is the only thing which can be called a thing.\n",
            "\n",
            "The soul is the only thing which can be called a thing, and the soul is the only thing which can be called a thing.\n",
            "\n",
            "The soul is the only thing which can be called a thing, and the soul is the only thing which can be called a thing.\n",
            "\n",
            "The soul is the only thing which can be called a thing, and the soul is the only thing which can be called a thing.\n",
            "\n",
            "The soul is the only thing which can be called a thing, and the soul is the only thing which can be called a thing.\n",
            "\n",
            "The soul is the only thing which can be called a thing, and the soul is the only thing which can be called a thing.\n",
            "\n",
            "The soul is the only thing which can be called a thing, and the soul is the only thing which can be called a thing.\n",
            "\n",
            "The soul is the only thing which can be called a thing, and the soul is the only thing which can be called a thing.\n",
            "\n",
            "The soul is the only thing which can be called a thing, and the soul is the only thing which can be called a thing.\n",
            "\n",
            "The soul is the only thing which can be called a thing, and the soul is the only thing which can be called a thing.\n",
            "\n",
            "The soul is the only thing which can be called a thing, and the soul is the only thing which can be called a thing.\n",
            "\n",
            "The soul is the only thing which can be called a thing, and the soul is the only thing which can be called a thing.\n",
            "\n",
            "The soul is the only thing which can be called a thing, and the soul is the only thing which can be called a thing.\n",
            "\n",
            "The soul is the only thing which can be called a thing, and the soul is the only thing which can be called a thing.\n",
            "\n",
            "The soul is the only thing\n",
            "\n",
            "[300 | 100.37] loss=2.73 avg=2.88\n",
            "[301 | 101.30] loss=2.90 avg=2.88\n",
            "[302 | 102.23] loss=2.94 avg=2.88\n",
            "[303 | 103.16] loss=2.32 avg=2.87\n",
            "[304 | 104.09] loss=2.80 avg=2.87\n",
            "[305 | 105.11] loss=2.86 avg=2.87\n",
            "[306 | 106.03] loss=3.13 avg=2.88\n",
            "[307 | 106.96] loss=3.02 avg=2.88\n",
            "[308 | 107.90] loss=3.36 avg=2.89\n",
            "[309 | 108.83] loss=3.29 avg=2.90\n",
            "[310 | 109.76] loss=3.13 avg=2.90\n",
            "[311 | 110.69] loss=3.33 avg=2.91\n",
            "[312 | 111.61] loss=3.18 avg=2.91\n",
            "[313 | 112.54] loss=2.75 avg=2.91\n",
            "[314 | 113.47] loss=3.34 avg=2.92\n",
            "[315 | 114.40] loss=3.02 avg=2.92\n",
            "[316 | 115.33] loss=2.87 avg=2.92\n",
            "[317 | 116.27] loss=2.92 avg=2.92\n",
            "[318 | 117.20] loss=2.79 avg=2.91\n",
            "interrupted\n",
            "Saving checkpoint/run1/model-319\n"
          ]
        }
      ]
    },
    {
      "cell_type": "markdown",
      "source": [
        "**Step 10: Training Model Directory**"
      ],
      "metadata": {
        "id": "RgaNu6JBKbME"
      }
    },
    {
      "cell_type": "code",
      "source": [
        "#@ CREATING TRAINING MODEL DIRECTORY:\n",
        "import os\n",
        "run_dir = \"/content/gpt-2/models/tgmodel\"\n",
        "if not os.path.exists(run_dir):\n",
        "    os.makedirs(run_dir)"
      ],
      "metadata": {
        "id": "q12kkhNjI5qC"
      },
      "execution_count": 23,
      "outputs": []
    },
    {
      "cell_type": "code",
      "source": [
        "#@ COPYING TRAINING FILES:\n",
        "!cp /content/gpt-2/src/checkpoint/run1/model-319.data-00000-of-00001 /content/gpt-2/models/tgmodel\n",
        "!cp /content/gpt-2/src/checkpoint/run1/checkpoint /content/gpt-2/models/tgmodel\n",
        "!cp /content/gpt-2/src/checkpoint/run1/model-319.index /content/gpt-2/models/tgmodel\n",
        "!cp /content/gpt-2/src/checkpoint/run1/model-319.meta /content/gpt-2/models/tgmodel"
      ],
      "metadata": {
        "id": "0Z2-U78mK5f6"
      },
      "execution_count": 24,
      "outputs": []
    },
    {
      "cell_type": "code",
      "source": [
        "#@ COPYING MODEL FILES:\n",
        "!cp /content/gpt-2/models/117M/encoder.json /content/gpt-2/models/tgmodel\n",
        "!cp /content/gpt-2/models/117M/hparams.json /content/gpt-2/models/tgmodel\n",
        "!cp /content/gpt-2/models/117M/vocab.bpe /content/gpt-2/models/tgmodel"
      ],
      "metadata": {
        "id": "qZNtVFd7Lvqj"
      },
      "execution_count": 25,
      "outputs": []
    },
    {
      "cell_type": "markdown",
      "source": [
        "**Step 11: Context and Completion**"
      ],
      "metadata": {
        "id": "L0TgBVKnQpSJ"
      }
    },
    {
      "cell_type": "code",
      "source": [
        "#@ GENERATING UNCONDITIONAL EXAMPLES: UNCOMMENT BELOW:\n",
        "# import os\n",
        "# os.chdir(\"/content/gpt-2/src\")\n",
        "# !python generate_unconditional_samples.py --model_name '117M'"
      ],
      "metadata": {
        "id": "ze4e8-d0P_r-"
      },
      "execution_count": 30,
      "outputs": []
    },
    {
      "cell_type": "code",
      "source": [
        "#@ GENERATING UNCONDITIONAL EXAMPLES: UNCOMMENT BELOW:\n",
        "# import os\n",
        "# os.chdir(\"/content/gpt-2/src\")\n",
        "# !python interactive_conditional_samples.py --temperature 0.8 --top_k 40 --model_name '117M'"
      ],
      "metadata": {
        "id": "YAFS9oyJRGs4"
      },
      "execution_count": 29,
      "outputs": []
    }
  ]
}