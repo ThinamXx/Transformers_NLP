{
  "nbformat": 4,
  "nbformat_minor": 0,
  "metadata": {
    "colab": {
      "name": "GPT2 Model.ipynb",
      "provenance": []
    },
    "kernelspec": {
      "name": "python3",
      "display_name": "Python 3"
    },
    "language_info": {
      "name": "python"
    },
    "accelerator": "GPU"
  },
  "cells": [
    {
      "cell_type": "markdown",
      "source": [
        "**Initialization**\n",
        "- I use these three lines of code on top of my each notebooks because it will help to prevent any problems while reloading the same project. And the third line of code helps to make visualization within the notebook."
      ],
      "metadata": {
        "id": "7lxuqT7ERZ16"
      }
    },
    {
      "cell_type": "code",
      "execution_count": 1,
      "metadata": {
        "id": "CSTSUpBuQEow"
      },
      "outputs": [],
      "source": [
        "#@ INITIALIZATION: \n",
        "%reload_ext autoreload\n",
        "%autoreload 2\n",
        "%matplotlib inline"
      ]
    },
    {
      "cell_type": "markdown",
      "source": [
        "**Step 1: Activating GPU**"
      ],
      "metadata": {
        "id": "3F5mVqDKSb3k"
      }
    },
    {
      "cell_type": "markdown",
      "source": [
        "**Step 2: Cloning OpenAI GPT2**"
      ],
      "metadata": {
        "id": "bdxuERWwTid6"
      }
    },
    {
      "cell_type": "code",
      "source": [
        "#@ CLONING OPEN AI GPT-2: UNCOMMENT BELOW: \n",
        "# !git clone https://github.com/openai/gpt-2.git"
      ],
      "metadata": {
        "id": "gVN29vsLRhVA"
      },
      "execution_count": 3,
      "outputs": []
    },
    {
      "cell_type": "markdown",
      "source": [
        "**Step 3: Installing Requirements**"
      ],
      "metadata": {
        "id": "M1z1upYnURmb"
      }
    },
    {
      "cell_type": "code",
      "source": [
        "#@ INSTALLING REQUIREMENTS: UNCOMMENT BELOW:\n",
        "# import os \n",
        "# os.chdir(\"/content/gpt-2\")                  # Changing directory.\n",
        "# !pip install -r requirements.txt            # Installing requirements. "
      ],
      "metadata": {
        "id": "7i1mbk5vT6q4"
      },
      "execution_count": 5,
      "outputs": []
    },
    {
      "cell_type": "markdown",
      "source": [
        "**Step 4: Checking TensorFlow**"
      ],
      "metadata": {
        "id": "FKj7ISwyX0AS"
      }
    },
    {
      "cell_type": "code",
      "source": [
        "#@ CHECKING VERSIONS OF TENSORFLOW:\n",
        "%tensorflow_version 1.x\n",
        "import tensorflow as tf\n",
        "print(tf.__version__)                         # Inspection. "
      ],
      "metadata": {
        "colab": {
          "base_uri": "https://localhost:8080/"
        },
        "id": "N0YpF9vIV_Fb",
        "outputId": "8ace3acc-6a0f-42f7-857e-254e8dff00c7"
      },
      "execution_count": 6,
      "outputs": [
        {
          "output_type": "stream",
          "name": "stdout",
          "text": [
            "TensorFlow 1.x selected.\n",
            "1.15.2\n"
          ]
        }
      ]
    },
    {
      "cell_type": "code",
      "source": [
        ""
      ],
      "metadata": {
        "id": "5siXEE6LYSAt"
      },
      "execution_count": null,
      "outputs": []
    }
  ]
}