{
  "nbformat": 4,
  "nbformat_minor": 0,
  "metadata": {
    "colab": {
      "name": "QuestionAnswer.ipynb",
      "provenance": []
    },
    "kernelspec": {
      "name": "python3",
      "display_name": "Python 3"
    },
    "language_info": {
      "name": "python"
    },
    "accelerator": "GPU"
  },
  "cells": [
    {
      "cell_type": "markdown",
      "source": [
        "**Initialization**\n",
        "- I use these three lines of code on top of my each notebooks because it will help to prevent any problems while reloading the same project. And the third line of code helps to make visualization within the notebook."
      ],
      "metadata": {
        "id": "7ScqE7JPT9WV"
      }
    },
    {
      "cell_type": "code",
      "execution_count": 1,
      "metadata": {
        "id": "xO2YEcY5OYkb"
      },
      "outputs": [],
      "source": [
        "#@ INITIALIZATION: \n",
        "%reload_ext autoreload\n",
        "%autoreload 2\n",
        "%matplotlib inline"
      ]
    },
    {
      "cell_type": "markdown",
      "source": [
        "**Downloading Libraries and Dependencies**\n",
        "- I have downloaded all the libraries and dependencies required for the project in one particular cell."
      ],
      "metadata": {
        "id": "0DhiLW4HUIdZ"
      }
    },
    {
      "cell_type": "code",
      "source": [
        "#@ IMPORTING MODULES: UNCOMMENT BELOW:\n",
        "# !pip install transformers\n",
        "import transformers\n",
        "from transformers import pipeline\n",
        "\n",
        "#@ IGNORING WARNINGS: \n",
        "import warnings\n",
        "warnings.filterwarnings(\"ignore\")"
      ],
      "metadata": {
        "id": "WT27kuCHUEOV"
      },
      "execution_count": 3,
      "outputs": []
    },
    {
      "cell_type": "markdown",
      "source": [
        "**Trial and Error**"
      ],
      "metadata": {
        "id": "n_7H9VmjVBKk"
      }
    },
    {
      "cell_type": "code",
      "source": [
        "#@ QUESTION ANSWERING WITH DEFAULT MODEL AND TOKENIZER:\n",
        "nlp_qa = pipeline(\"question-answering\")                                    # Initializing QA model. \n",
        "sequence = \"The traffic began to slow down on Pioneer Boulevard in Los \\\n",
        "Angeles, making it difficult to get out of the city. However, WBGO was \\\n",
        "playing some cool jazz, and the weather was cool, making it rather \\\n",
        "pleasant to be making it out of the city on this Friday afternoon. Nat \\\n",
        "King Cole was singing as Jo and Maria slowly made their way out of LA \\\n",
        "and drove toward Barstow. They planned to get to Las Vegas early enough \\\n",
        "in the evening to have a nice dinner and go see a show.\"                   # Initializing a text. \n",
        "nlp_qa(context=sequence, question=\"Where is Pioneer Boulevard ?\")          # Implementation of model. "
      ],
      "metadata": {
        "colab": {
          "base_uri": "https://localhost:8080/"
        },
        "id": "qKWxW_lvUtpE",
        "outputId": "4c66422a-af16-431a-ae45-94dc6fdd0adb"
      },
      "execution_count": 5,
      "outputs": [
        {
          "output_type": "stream",
          "name": "stderr",
          "text": [
            "No model was supplied, defaulted to distilbert-base-cased-distilled-squad (https://huggingface.co/distilbert-base-cased-distilled-squad)\n"
          ]
        },
        {
          "output_type": "execute_result",
          "data": {
            "text/plain": [
              "{'answer': 'Los Angeles', 'end': 66, 'score': 0.9879737496376038, 'start': 55}"
            ]
          },
          "metadata": {},
          "execution_count": 5
        }
      ]
    },
    {
      "cell_type": "markdown",
      "source": [
        "**NER First**"
      ],
      "metadata": {
        "id": "r0_IOesIt5xR"
      }
    },
    {
      "cell_type": "code",
      "source": [
        "#@ NER WITH DEFAULT MODEL AND TOKENIZERS:\n",
        "nlp_ner = pipeline(\"ner\")                                                   # Initializing NER model.\n",
        "sequence = \"The traffic began to slow down on Pioneer Boulevard in Los \\\n",
        "Angeles, making it difficult to get out of the city. However, WBGO was \\\n",
        "playing some cool jazz, and the weather was cool, making it rather \\\n",
        "pleasant to be making it out of the city on this Friday afternoon. Nat \\\n",
        "King Cole was singing as Jo and Maria slowly made their way out of LA \\\n",
        "and drove toward Barstow. They planned to get to Las Vegas early enough \\\n",
        "in the evening to have a nice dinner and go see a show.\"                   # Initializing a text. \n",
        "nlp_ner(sequence)                                                          # Implementation of model."
      ],
      "metadata": {
        "colab": {
          "base_uri": "https://localhost:8080/"
        },
        "id": "hzEY-fC3iVGK",
        "outputId": "bf53a872-e47c-4f25-c62a-211f9d20a358"
      },
      "execution_count": 7,
      "outputs": [
        {
          "output_type": "stream",
          "name": "stderr",
          "text": [
            "No model was supplied, defaulted to dbmdz/bert-large-cased-finetuned-conll03-english (https://huggingface.co/dbmdz/bert-large-cased-finetuned-conll03-english)\n"
          ]
        },
        {
          "output_type": "execute_result",
          "data": {
            "text/plain": [
              "[{'end': 41,\n",
              "  'entity': 'I-LOC',\n",
              "  'index': 8,\n",
              "  'score': 0.9735258,\n",
              "  'start': 34,\n",
              "  'word': 'Pioneer'},\n",
              " {'end': 51,\n",
              "  'entity': 'I-LOC',\n",
              "  'index': 9,\n",
              "  'score': 0.9944825,\n",
              "  'start': 42,\n",
              "  'word': 'Boulevard'},\n",
              " {'end': 58,\n",
              "  'entity': 'I-LOC',\n",
              "  'index': 11,\n",
              "  'score': 0.9995776,\n",
              "  'start': 55,\n",
              "  'word': 'Los'},\n",
              " {'end': 66,\n",
              "  'entity': 'I-LOC',\n",
              "  'index': 12,\n",
              "  'score': 0.99956936,\n",
              "  'start': 59,\n",
              "  'word': 'Angeles'},\n",
              " {'end': 122,\n",
              "  'entity': 'I-ORG',\n",
              "  'index': 26,\n",
              "  'score': 0.9919844,\n",
              "  'start': 121,\n",
              "  'word': 'W'},\n",
              " {'end': 123,\n",
              "  'entity': 'I-ORG',\n",
              "  'index': 27,\n",
              "  'score': 0.9907504,\n",
              "  'start': 122,\n",
              "  'word': '##B'},\n",
              " {'end': 124,\n",
              "  'entity': 'I-ORG',\n",
              "  'index': 28,\n",
              "  'score': 0.9884582,\n",
              "  'start': 123,\n",
              "  'word': '##G'},\n",
              " {'end': 125,\n",
              "  'entity': 'I-ORG',\n",
              "  'index': 29,\n",
              "  'score': 0.9722683,\n",
              "  'start': 124,\n",
              "  'word': '##O'},\n",
              " {'end': 267,\n",
              "  'entity': 'I-PER',\n",
              "  'index': 59,\n",
              "  'score': 0.99668807,\n",
              "  'start': 264,\n",
              "  'word': 'Nat'},\n",
              " {'end': 272,\n",
              "  'entity': 'I-PER',\n",
              "  'index': 60,\n",
              "  'score': 0.9976484,\n",
              "  'start': 268,\n",
              "  'word': 'King'},\n",
              " {'end': 277,\n",
              "  'entity': 'I-PER',\n",
              "  'index': 61,\n",
              "  'score': 0.9986173,\n",
              "  'start': 273,\n",
              "  'word': 'Cole'},\n",
              " {'end': 295,\n",
              "  'entity': 'I-PER',\n",
              "  'index': 65,\n",
              "  'score': 0.9978789,\n",
              "  'start': 293,\n",
              "  'word': 'Jo'},\n",
              " {'end': 305,\n",
              "  'entity': 'I-PER',\n",
              "  'index': 67,\n",
              "  'score': 0.9988164,\n",
              "  'start': 300,\n",
              "  'word': 'Maria'},\n",
              " {'end': 337,\n",
              "  'entity': 'I-LOC',\n",
              "  'index': 74,\n",
              "  'score': 0.99813443,\n",
              "  'start': 335,\n",
              "  'word': 'LA'},\n",
              " {'end': 358,\n",
              "  'entity': 'I-LOC',\n",
              "  'index': 78,\n",
              "  'score': 0.9970266,\n",
              "  'start': 355,\n",
              "  'word': 'Bar'},\n",
              " {'end': 361,\n",
              "  'entity': 'I-LOC',\n",
              "  'index': 79,\n",
              "  'score': 0.8573916,\n",
              "  'start': 358,\n",
              "  'word': '##sto'},\n",
              " {'end': 362,\n",
              "  'entity': 'I-LOC',\n",
              "  'index': 80,\n",
              "  'score': 0.992025,\n",
              "  'start': 361,\n",
              "  'word': '##w'},\n",
              " {'end': 390,\n",
              "  'entity': 'I-LOC',\n",
              "  'index': 87,\n",
              "  'score': 0.99935514,\n",
              "  'start': 387,\n",
              "  'word': 'Las'},\n",
              " {'end': 396,\n",
              "  'entity': 'I-LOC',\n",
              "  'index': 88,\n",
              "  'score': 0.99895394,\n",
              "  'start': 391,\n",
              "  'word': 'Vegas'}]"
            ]
          },
          "metadata": {},
          "execution_count": 7
        }
      ]
    },
    {
      "cell_type": "code",
      "source": [
        "#@ QUESTION ANSWERING WITH DEFAULT MODEL AND TOKENIZER:\n",
        "nlp_qa = pipeline(\"question-answering\")                                    # Initializing QA model. \n",
        "print(nlp_qa(context=sequence, question=\"Where is Pioneer Boulevard ?\"))   # Implementation of model. \n",
        "print(nlp_qa(context=sequence, question=\"Where is LosAngeles located?\"))   # Implementation of model. \n",
        "print(nlp_qa(context=sequence, question=\"Where is LA\"))                    # Implementation of model. \n",
        "print(nlp_qa(context=sequence, question=\"Where is Barstow\"))               # Implementation of model. \n",
        "print(nlp_qa(context=sequence, question=\"Where is Las Vegas located ?\"))   # Implementation of model. "
      ],
      "metadata": {
        "colab": {
          "base_uri": "https://localhost:8080/"
        },
        "id": "yIFK8TRPlrag",
        "outputId": "c561a9b9-f728-46bf-99bb-5e528299c4ab"
      },
      "execution_count": 8,
      "outputs": [
        {
          "output_type": "stream",
          "name": "stderr",
          "text": [
            "No model was supplied, defaulted to distilbert-base-cased-distilled-squad (https://huggingface.co/distilbert-base-cased-distilled-squad)\n"
          ]
        },
        {
          "output_type": "stream",
          "name": "stdout",
          "text": [
            "{'score': 0.9879737496376038, 'start': 55, 'end': 66, 'answer': 'Los Angeles'}\n",
            "{'score': 0.4336355924606323, 'start': 55, 'end': 66, 'answer': 'Los Angeles'}\n",
            "{'score': 0.3811371922492981, 'start': 34, 'end': 51, 'answer': 'Pioneer Boulevard'}\n",
            "{'score': 0.27760326862335205, 'start': 34, 'end': 51, 'answer': 'Pioneer Boulevard'}\n",
            "{'score': 0.21839818358421326, 'start': 355, 'end': 362, 'answer': 'Barstow'}\n"
          ]
        }
      ]
    },
    {
      "cell_type": "code",
      "source": [
        "#@ PERSON ENTITY QUESTIONS:\n",
        "nlp_qa = pipeline(\"question-answering\")                      # Initializing QA model. \n",
        "print(nlp_qa(context=sequence, question=\"Who is singing\"))   # Implementation of model. "
      ],
      "metadata": {
        "colab": {
          "base_uri": "https://localhost:8080/"
        },
        "id": "reSFi8TWpcHd",
        "outputId": "6aab9c78-2000-4d33-d2e0-e47804d50eb5"
      },
      "execution_count": 9,
      "outputs": [
        {
          "output_type": "stream",
          "name": "stderr",
          "text": [
            "No model was supplied, defaulted to distilbert-base-cased-distilled-squad (https://huggingface.co/distilbert-base-cased-distilled-squad)\n"
          ]
        },
        {
          "output_type": "stream",
          "name": "stdout",
          "text": [
            "{'score': 0.9718442559242249, 'start': 264, 'end': 277, 'answer': 'Nat King Cole'}\n"
          ]
        }
      ]
    },
    {
      "cell_type": "code",
      "source": [
        "#@ PERSON ENTITY QUESTIONS:\n",
        "nlp_qa = pipeline(\"question-answering\")                                    # Initializing QA model. \n",
        "print(nlp_qa(context=sequence, question=\"Who was going to Las Vegas ?\"))   # Implementation of model. "
      ],
      "metadata": {
        "colab": {
          "base_uri": "https://localhost:8080/"
        },
        "id": "IWrARYeruNqX",
        "outputId": "fe1946d6-a5b1-40c0-af51-0b941b2ddcb5"
      },
      "execution_count": 10,
      "outputs": [
        {
          "output_type": "stream",
          "name": "stderr",
          "text": [
            "No model was supplied, defaulted to distilbert-base-cased-distilled-squad (https://huggingface.co/distilbert-base-cased-distilled-squad)\n"
          ]
        },
        {
          "output_type": "stream",
          "name": "stdout",
          "text": [
            "{'score': 0.4316249489784241, 'start': 264, 'end': 277, 'answer': 'Nat King Cole'}\n"
          ]
        }
      ]
    },
    {
      "cell_type": "markdown",
      "source": [
        "**SRL First**"
      ],
      "metadata": {
        "id": "ejKq-Rbpvugt"
      }
    },
    {
      "cell_type": "code",
      "source": [
        ""
      ],
      "metadata": {
        "id": "UDm3UnG4uoEX"
      },
      "execution_count": null,
      "outputs": []
    }
  ]
}